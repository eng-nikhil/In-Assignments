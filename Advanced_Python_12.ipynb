{
 "cells": [
  {
   "cell_type": "raw",
   "id": "cf82e5ad",
   "metadata": {},
   "source": [
    "Q1. Does assigning a value to a string's indexed character violate Python's string immutability?\n",
    "Ans: Yes, String's character are immutabtable, can't be changed using index.\n",
    "\n",
    "\n",
    "Q2. Does using the += operator to concatenate strings violate Python's string immutability? Why or why not?\n",
    "Ans:  += internally is in-place operation which adds right side value directly to lef side variable.\n",
    "      However, x=x+y has two operation add value of x with y and then replace x with new value.\n",
    "      Two methods should have slight performance diffrence.\n",
    "\n",
    "Q3. In Python, how many different ways are there to index a character?\n",
    "Ans: str.find() , str.index(),re.search()\n",
    "\n",
    "\n",
    "Q4. What is the relationship between indexing and slicing?\n",
    "Ans: Indexing means referring to an element of an iterable by its position within the iterable object.\n",
    "     Slicing means getting a subset of elements from an iterable object  based on their indices.\n",
    "\n",
    "\n",
    "\n",
    "Q5. What is an indexed character's exact data type? What is the data form of a slicing-generated substring?\n",
    "Ans: str,list,tuple i.e any iterable object\n",
    "     slicing output also will have same data type as source\n",
    "     \n",
    "\n",
    "\n",
    "Q6. What is the relationship between string and character \"types\" in Python?\n",
    "Ans: Python has only string data type,no character data type.\n",
    "\n",
    "\n",
    "Q7. Identify at least two operators and one method that allow you to combine one or more smaller strings to create a larger string.\n",
    "Ans: *, + ,str.join()\n",
    "\n",
    "\n",
    "Q8. What is the benefit of first checking the target string with in or not in before using the index method to find a substring?\n",
    "Ans: Becuase if target string not found we will get 'ValueError: substring not found'. \n",
    "     Instead of handling better to check existence of target string in If expression.\n",
    "\n",
    "\n",
    "Q9. Which operators and built-in string methods produce simple Boolean (true/false) results?\n",
    "Ans: == , isnumeric(),isupper(),islower()\n"
   ]
  }
 ],
 "metadata": {
  "kernelspec": {
   "display_name": "Python 3",
   "language": "python",
   "name": "python3"
  },
  "language_info": {
   "codemirror_mode": {
    "name": "ipython",
    "version": 3
   },
   "file_extension": ".py",
   "mimetype": "text/x-python",
   "name": "python",
   "nbconvert_exporter": "python",
   "pygments_lexer": "ipython3",
   "version": "3.8.8"
  }
 },
 "nbformat": 4,
 "nbformat_minor": 5
}
