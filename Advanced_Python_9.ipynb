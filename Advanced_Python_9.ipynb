{
 "cells": [
  {
   "cell_type": "raw",
   "id": "c2942d63",
   "metadata": {},
   "source": [
    "Q1. In Python 3.X, what are the names and functions of string object types?\n",
    "Ans: 'name','ABCD', lower(),upper()\n",
    "\n",
    "\n",
    "Q2. How do the string forms in Python 3.X vary in terms of operations?\n",
    "Ans: strings are Immutable in python.\n",
    "\n",
    "\n",
    "Q3. In 3.X, how do you put non-ASCII Unicode characters in a string?\n",
    "Ans:f'{<non-ASCII Unicode>}'\n",
    "\n",
    "\n",
    "Q4. In Python 3.X, what are the key differences between text-mode and binary-mode files?\n",
    "Ans:text-mode -> files written in user readable text characters,\n",
    "    Binary-mode -> machine/binary language \n",
    "\n",
    "Q5. How can you interpret a Unicode text file containing text encoded in a different encoding than your platform's default?\n",
    "Ans:Passing parater encoding=<default encoding eg: utf-8> while opening it enable it to open in platforms specific unicode\n",
    "\n",
    "\n",
    "Q6. What is the best way to make a Unicode text file in a particular encoding format?\n",
    "Ans:encoded_unicode = unicode_text.encode(\"utf8\")\n",
    "\n",
    "\n",
    "Q7. What qualifies ASCII text as a form of Unicode text?\n",
    "Ans:Unicode is the universal character encoding used to process, store and \n",
    "    facilitate the interchange of text data in any language.\n",
    "    while ASCII is used for the representation of text such as symbols, letters, digits, etc.\n",
    "\n",
    "\n",
    "Q8. How much of an effect does the change in string types in Python 3.X have on your code?\n",
    "Ans: All backslashes in raw string literals are interpreted literally. \n",
    "     for eg: '\\U' and '\\u' escapes in raw strings are not treated specially. \n",
    "     For example, r'\\u20ac' is a string of 6 characters in Python 3.0,\n",
    "     whereas in 2.6, ur'\\u20ac' was the single “euro” character."
   ]
  }
 ],
 "metadata": {
  "kernelspec": {
   "display_name": "Python 3",
   "language": "python",
   "name": "python3"
  },
  "language_info": {
   "codemirror_mode": {
    "name": "ipython",
    "version": 3
   },
   "file_extension": ".py",
   "mimetype": "text/x-python",
   "name": "python",
   "nbconvert_exporter": "python",
   "pygments_lexer": "ipython3",
   "version": "3.8.8"
  }
 },
 "nbformat": 4,
 "nbformat_minor": 5
}
