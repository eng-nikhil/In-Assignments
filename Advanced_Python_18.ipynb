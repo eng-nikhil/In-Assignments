{
 "cells": [
  {
   "cell_type": "raw",
   "id": "ae486d40",
   "metadata": {},
   "source": [
    "Q1. Describe the differences between text and binary files in a single paragraph.\n",
    "Ans: A text file stores data in the form of alphabets, digits and other special symbols by storing their ASCII values\n",
    "    and are in a human readable format. For example, any file with a .txt, .c, etc extension. \n",
    "    Whereas, a binary file contains a sequence or a collection of bytes which are not in a human readable format. \n",
    "    For example, files with .exe, .mp3, etc extension.\n",
    "\n",
    "\n",
    "Q2. What are some scenarios where using text files will be the better option? When would you like to use binary files instead of text files?\n",
    "Ans: If we want user should not read the file we can use binary files.\n",
    "     Even some of the format can't be text file like *.mp3 etc.\n",
    "     Other advantage is  binary files has binary code more near to machine language\n",
    "\n",
    "\n",
    "Q3. What are some of the issues with using binary operations to read and write a Python integer directly to disc?\n",
    "Ans: Need to convert the number into binary form them perfor binary operation and convert again and store on disc.\n",
    "\n",
    "\n",
    "Q4. Describe a benefit of using the with keyword instead of explicitly opening a file.\n",
    "Ans: No need to close the file explicitly\n",
    "\n",
    "\n",
    "Q5. Does Python have the trailing newline while reading a line of text? \n",
    "    Does Python append a newline when you write a line of text?\n",
    "Ans: No\n",
    "\n",
    "Q6. What file operations enable for random-access operation?\n",
    "Ans: seek(), tell()\n",
    "\n",
    "\n",
    "Q7. When do you think you'll use the struct package the most?\n",
    "Ans:The struct module is used to convert native Python data types such as strings and numbers into a string of bytes and vice versa.\n",
    "\n",
    "\n",
    "Q8. When is pickling the best option?\n",
    "Ans: Yes it is best to serialize the modules.\n",
    "\n",
    "\n",
    "Q9. When will it be best to use the shelve package?\n",
    "Ans:The shelve module is a simple and  effective tool for persistent data storage when using a relational database solution is not required.\n",
    "\n",
    "\n",
    "Q10. What is a special restriction when using the shelve package, as opposed to using other data dictionaries?\n",
    "Ans: The shelve module does not support concurrent read/write access to shelved objects.\n",
    "    "
   ]
  }
 ],
 "metadata": {
  "kernelspec": {
   "display_name": "Python 3",
   "language": "python",
   "name": "python3"
  },
  "language_info": {
   "codemirror_mode": {
    "name": "ipython",
    "version": 3
   },
   "file_extension": ".py",
   "mimetype": "text/x-python",
   "name": "python",
   "nbconvert_exporter": "python",
   "pygments_lexer": "ipython3",
   "version": "3.8.8"
  }
 },
 "nbformat": 4,
 "nbformat_minor": 5
}
