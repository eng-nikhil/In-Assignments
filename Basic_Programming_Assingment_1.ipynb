{
 "cells": [
  {
   "cell_type": "code",
   "execution_count": 1,
   "id": "4d0e686f",
   "metadata": {},
   "outputs": [
    {
     "name": "stdout",
     "output_type": "stream",
     "text": [
      "Hello Python\n"
     ]
    }
   ],
   "source": [
    "#Write a Python program to print \"Hello Python\"?\n",
    "\n",
    "print(\"Hello Python\")\n"
   ]
  },
  {
   "cell_type": "code",
   "execution_count": 9,
   "id": "63ecdbdb",
   "metadata": {},
   "outputs": [
    {
     "name": "stdout",
     "output_type": "stream",
     "text": [
      "Enter First Number5\n",
      "Enter Second Number3\n",
      "Addition: 8.0 Division: 1.6666666666666667\n"
     ]
    }
   ],
   "source": [
    "#Write a Python program to do arithmetical operations addition and division.?\n",
    "\n",
    "def add(a,b):\n",
    "    return a+b\n",
    "def div(a,b):\n",
    "    return a/b\n",
    "\n",
    "a=float(input(\"Enter First Number\"))\n",
    "b=float(input(\"Enter Second Number\"))\n",
    "print(\"Addition:\",add(a,b), \"Division:\",div(a,b))"
   ]
  },
  {
   "cell_type": "code",
   "execution_count": 10,
   "id": "aa099397",
   "metadata": {},
   "outputs": [
    {
     "name": "stdout",
     "output_type": "stream",
     "text": [
      "Enter base length of Triangle: 3\n",
      "Enter Height of Triangle: 4\n",
      "Area:  6.0\n"
     ]
    }
   ],
   "source": [
    "#Write a Python program to find the area of a triangle?\n",
    "\n",
    "def triangleArea(b,h):\n",
    "    return 0.5*b*h\n",
    "base=float(input(\"Enter base length of Triangle: \"))\n",
    "height=float(input(\"Enter Height of Triangle: \"))\n",
    "print(\"Area: \",triangleArea(base,height))"
   ]
  },
  {
   "cell_type": "code",
   "execution_count": 22,
   "id": "7ebc1815",
   "metadata": {},
   "outputs": [
    {
     "name": "stdout",
     "output_type": "stream",
     "text": [
      "Enter First Num: 5\n",
      "Enter Second Num:9\n",
      "Before Swap: a= 5 b= 9\n",
      "After Swap: a= 9 b= 5\n",
      "\n",
      " Before Swap: a= 9 b= 5\n",
      "After Swap: a= 5 b= 9\n"
     ]
    }
   ],
   "source": [
    "#Write a Python program to swap two variables?\n",
    "a=input(\"Enter First Num: \")\n",
    "b = input(\"Enter Second Num:\")\n",
    "\n",
    "#Method 1 Using temp var:\n",
    "print(\"Before Swap:\",\"a=\",a,\"b=\",b)\n",
    "c=a\n",
    "a=b\n",
    "b=c\n",
    "print(\"After Swap:\",\"a=\",a,\"b=\",b)\n",
    "\n",
    "# #Method 2 : Using Arithmatic for numbers only\n",
    "# print(\"\\n Before Swap:\",\"a=\",a,\"b=\",b)\n",
    "# a = a + b \n",
    "# b = a - b\n",
    "# a = a - b\n",
    "# print(\"After Swap:\",\"a=\",a,\"b=\",b)\n",
    "\n",
    "#Method 3: Python specific\n",
    "print(\"\\n Before Swap:\",\"a=\",a,\"b=\",b)\n",
    "a,b=b,a\n",
    "print(\"After Swap:\",\"a=\",a,\"b=\",b)\n"
   ]
  },
  {
   "cell_type": "code",
   "execution_count": 171,
   "id": "4bd185d7",
   "metadata": {},
   "outputs": [
    {
     "name": "stdout",
     "output_type": "stream",
     "text": [
      "32.288626175940614\n"
     ]
    }
   ],
   "source": [
    "#Write a Python program to generate a random number?\n",
    "\n",
    "import random as rd\n",
    "print(rd.random()*100)\n"
   ]
  }
 ],
 "metadata": {
  "kernelspec": {
   "display_name": "Python 3",
   "language": "python",
   "name": "python3"
  },
  "language_info": {
   "codemirror_mode": {
    "name": "ipython",
    "version": 3
   },
   "file_extension": ".py",
   "mimetype": "text/x-python",
   "name": "python",
   "nbconvert_exporter": "python",
   "pygments_lexer": "ipython3",
   "version": "3.8.8"
  }
 },
 "nbformat": 4,
 "nbformat_minor": 5
}
