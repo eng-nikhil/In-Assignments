{
 "cells": [
  {
   "cell_type": "code",
   "execution_count": 3,
   "id": "edae0e01",
   "metadata": {},
   "outputs": [
    {
     "name": "stdout",
     "output_type": "stream",
     "text": [
      "Enter number in kilimeter: 3\n",
      "Value in miles:  1.8641130000000001\n"
     ]
    }
   ],
   "source": [
    "#Write a Python program to convert kilometers to miles?\n",
    "\n",
    "def Kmtomile(a):\n",
    "    return a*0.621371\n",
    "    \n",
    "num=float(input('Enter number in kilimeter: '))\n",
    "print(\"Value in miles: \",Kmtomile(num))\n"
   ]
  },
  {
   "cell_type": "code",
   "execution_count": 7,
   "id": "8a6f29e3",
   "metadata": {},
   "outputs": [
    {
     "name": "stdout",
     "output_type": "stream",
     "text": [
      "Enter Temperature in celcius: 36.4\n",
      "Value in Fahernehit:  97.52\n"
     ]
    }
   ],
   "source": [
    "#Write a Python program to convert Celsius to Fahrenheit?\n",
    "def celstofaren(a):\n",
    "    return (a * 9/5) + 32\n",
    "num=float(input('Enter Temperature in celcius: '))\n",
    "print(\"Value in Fahernehit: \",celstofaren(num))"
   ]
  },
  {
   "cell_type": "code",
   "execution_count": 9,
   "id": "e7ae5f4d",
   "metadata": {},
   "outputs": [
    {
     "name": "stdout",
     "output_type": "stream",
     "text": [
      "Enter year: 2021\n",
      "Enter month: 12\n",
      "   December 2021\n",
      "Mo Tu We Th Fr Sa Su\n",
      "       1  2  3  4  5\n",
      " 6  7  8  9 10 11 12\n",
      "13 14 15 16 17 18 19\n",
      "20 21 22 23 24 25 26\n",
      "27 28 29 30 31\n",
      "\n"
     ]
    }
   ],
   "source": [
    "#Write a Python program to display calendar?\n",
    "\n",
    "import calendar\n",
    "\n",
    "yy = int(input(\"Enter year: \"))\n",
    "mm = int(input(\"Enter month: \"))\n",
    "\n",
    "# display the calendar\n",
    "print(calendar.month(yy, mm))"
   ]
  },
  {
   "cell_type": "code",
   "execution_count": 10,
   "id": "7e7c4eda",
   "metadata": {},
   "outputs": [
    {
     "name": "stdout",
     "output_type": "stream",
     "text": [
      "Enter a: 3\n",
      "Enter b: 4\n",
      "Enter c: 5\n",
      "The solution are (-0.6666666666666666-1.1055415967851332j) and (-0.6666666666666666+1.1055415967851332j)\n"
     ]
    }
   ],
   "source": [
    "#Write a Python program to solve quadratic equation?\n",
    "\n",
    "import cmath  \n",
    "a = float(input('Enter a: '))  \n",
    "b = float(input('Enter b: '))  \n",
    "c = float(input('Enter c: '))  \n",
    "\n",
    "# Quadratic Equation: ax^2+bx+c=0\n",
    "  \n",
    "# calculating the discriminant  \n",
    "d = (b**2) - (4*a*c)  \n",
    "  \n",
    "#SOlutions:\n",
    "sol1 = (-b-cmath.sqrt(d))/(2*a)  \n",
    "sol2 = (-b+cmath.sqrt(d))/(2*a)  \n",
    "print('The solution are {0} and {1}'.format(sol1,sol2))   "
   ]
  },
  {
   "cell_type": "code",
   "execution_count": 15,
   "id": "171e568a",
   "metadata": {},
   "outputs": [
    {
     "name": "stdout",
     "output_type": "stream",
     "text": [
      "Enter First Number a: 3\n",
      "Enter Second Number b: 8\n",
      "Swapped a: 8 and b: 3\n",
      "Enter First Number a: 6\n",
      "Enter Second Number b: 9\n",
      "Swapped a: 9 and b: 6\n"
     ]
    }
   ],
   "source": [
    "#Write a Python program to swap two variables without temp variable?\n",
    "#Method-1:\n",
    "a=input(\"Enter First Number a: \")\n",
    "b=input(\"Enter Second Number b: \")\n",
    "\n",
    "a,b = b,a\n",
    "\n",
    "print(\"Swapped a: {} and b: {}\".format(a,b))\n",
    "\n",
    "#Method -2\n",
    "# For Numbers:\n",
    "a=int(input(\"Enter First Number a: \"))\n",
    "b=int(input(\"Enter Second Number b: \"))\n",
    "a=a+b\n",
    "b=a-b\n",
    "a=a-b\n",
    "print(\"Swapped a: {} and b: {}\".format(a,b))"
   ]
  }
 ],
 "metadata": {
  "kernelspec": {
   "display_name": "Python 3",
   "language": "python",
   "name": "python3"
  },
  "language_info": {
   "codemirror_mode": {
    "name": "ipython",
    "version": 3
   },
   "file_extension": ".py",
   "mimetype": "text/x-python",
   "name": "python",
   "nbconvert_exporter": "python",
   "pygments_lexer": "ipython3",
   "version": "3.8.8"
  }
 },
 "nbformat": 4,
 "nbformat_minor": 5
}
