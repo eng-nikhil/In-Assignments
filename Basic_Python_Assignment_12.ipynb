{
 "cells": [
  {
   "cell_type": "code",
   "execution_count": null,
   "id": "60882285",
   "metadata": {},
   "outputs": [],
   "source": [
    "1. In what modes should the PdfFileReader() and PdfFileWriter() File objects will be opened?\n",
    "Ans:  PdfFileReader  -> rb\n",
    "      PdfFileWriter  -> wb   \n",
    "\n",
    "2. From a PdfFileReader object, how do you get a Page object for page 5?\n",
    "Ans: page_obj=pdfreader_obj.getPage(5)\n",
    "\n",
    "3. What PdfFileReader variable stores the number of pages in the PDF document?\n",
    "Ans:numPages\n",
    "    \n",
    "4. If a PdfFileReader object’s PDF is encrypted with the password swordfish, what must you do before you can obtain Page objects from it?\n",
    "Ans: decrypt('swordfish')\n",
    "    \n",
    "5. What methods do you use to rotate a page?\n",
    "Ans:page.rotateClockwise(90)  to rotate by 90 degree\n",
    "    \n",
    "6. What is the difference between a Run object and a Paragraph object?\n",
    "Ans:Runs are contiguous groups of characters.    \n",
    "    A paragraph begins on a new line and contains multiple runs it is set of runs.\n",
    "\n",
    "7. How do you obtain a list of Paragraph objects for a Document object that’s stored in a variable named doc?\n",
    "Ans: doc.paragraphs\n",
    "    \n",
    "8. What type of object has bold, underline, italic, strike, and outline variables?\n",
    "Ans: run\n",
    "\n",
    "9. What is the difference between False, True, and None for the bold variable?\n",
    "Ans:\n",
    "    run.bold = True -> make the run bold\n",
    "    run.bold = False -> remove the bold\n",
    "    If whole contentis bold and entire paragraph is bold then run.bold returns None\n",
    "\n",
    "10. How do you create a Document object for a new Word document?\n",
    "Ans: docx.Document() \n",
    "\n",
    "11. How do you add a paragraph with the text 'Hello, there!' to a Document object stored in a variable named doc?\n",
    "Ans:doc.add_paragraph('Hello, there!')\n",
    "\n",
    "    \n",
    "12. What integers represent the levels of headings available in Word documents?\n",
    "Ans: heading\n",
    "\n"
   ]
  }
 ],
 "metadata": {
  "kernelspec": {
   "display_name": "Python 3",
   "language": "python",
   "name": "python3"
  },
  "language_info": {
   "codemirror_mode": {
    "name": "ipython",
    "version": 3
   },
   "file_extension": ".py",
   "mimetype": "text/x-python",
   "name": "python",
   "nbconvert_exporter": "python",
   "pygments_lexer": "ipython3",
   "version": "3.8.8"
  }
 },
 "nbformat": 4,
 "nbformat_minor": 5
}
