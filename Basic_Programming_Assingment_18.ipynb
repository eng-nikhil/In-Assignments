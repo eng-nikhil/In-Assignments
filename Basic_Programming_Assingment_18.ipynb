{
 "cells": [
  {
   "cell_type": "code",
   "execution_count": 5,
   "id": "9933a562",
   "metadata": {},
   "outputs": [
    {
     "name": "stdout",
     "output_type": "stream",
     "text": [
      "[1, 2]\n",
      "[1, 0, 15]\n",
      "[1, 2, 123]\n"
     ]
    }
   ],
   "source": [
    "# Question 1\n",
    "# Create a function that takes a list of non-negative integers and strings and return a new list without the strings.\n",
    "# Examples\n",
    "# filter_list([1, 2, \"a\", \"b\"]) ➞ [1, 2]\n",
    "\n",
    "# filter_list([1, \"a\", \"b\", 0, 15]) ➞ [1, 0, 15]\n",
    "\n",
    "# filter_list([1, 2, \"aasf\", \"1\", \"123\", 123]) ➞ [1, 2, 123]\n",
    "\n",
    "def filter_list(lst):\n",
    "    temp_lst=[]\n",
    "    for i in lst:\n",
    "        if type(i) != str:\n",
    "            temp_lst.append(i)\n",
    "    return temp_lst\n",
    "print(filter_list([1, 2, \"a\", \"b\"]))\n",
    "print(filter_list([1, \"a\", \"b\", 0, 15]))\n",
    "print(filter_list([1, 2, \"aasf\", \"1\", \"123\", 123]))\n"
   ]
  },
  {
   "cell_type": "code",
   "execution_count": 8,
   "id": "65cc2fc6",
   "metadata": {},
   "outputs": [
    {
     "name": "stdout",
     "output_type": "stream",
     "text": [
      "DLROw OLLEh\n",
      "eSrEvEr\n",
      "RADAr\n"
     ]
    }
   ],
   "source": [
    "# Question 2\n",
    "# The \"Reverser\" takes a string as input and returns that string in reverse order, with the opposite case.\n",
    "# Examples\n",
    "# reverse(\"Hello World\") ➞ \"DLROw OLLEh\"\n",
    "\n",
    "# reverse(\"ReVeRsE\") ➞ \"eSrEvEr\"\n",
    "\n",
    "# reverse(\"Radar\") ➞ \"RADAr\"\n",
    "\n",
    "def reverse(str):\n",
    "    new_str=''\n",
    "    for i in str:\n",
    "        if i.islower():\n",
    "            new_str+=i.upper()\n",
    "        elif i.isupper:\n",
    "            new_str+=i.lower()\n",
    "        elif i.isspace:\n",
    "            new_str+=' '\n",
    "    return new_str[::-1]\n",
    "\n",
    "print(reverse(\"Hello World\"))\n",
    "print(reverse(\"ReVeRsE\") )\n",
    "print(reverse(\"Radar\"))"
   ]
  },
  {
   "cell_type": "code",
   "execution_count": 11,
   "id": "2efc5e11",
   "metadata": {},
   "outputs": [
    {
     "name": "stdout",
     "output_type": "stream",
     "text": [
      "1\n",
      "[2, 3, 4, 5]\n",
      "6\n"
     ]
    }
   ],
   "source": [
    "# Question 3\n",
    "# You can assign variables from lists like this:\n",
    "# lst = [1, 2, 3, 4, 5, 6]\n",
    "# first = lst[0]\n",
    "# middle = lst[1:-1]\n",
    "# last = lst[-1]\n",
    "\n",
    "# print(first) ➞ outputs 1\n",
    "# print(middle) ➞ outputs [2, 3, 4, 5]\n",
    "# print(last) ➞ outputs 6\n",
    "# With Python 3, you can assign variables from lists in a much more succinct way. Create variables first, middle and last from the given list using destructuring assignment (check the Resources tab for some examples), where:\n",
    "# first  ➞ 1\n",
    "\n",
    "# middle ➞ [2, 3, 4, 5]\n",
    "\n",
    "# last ➞ 6\n",
    "# Your task is to unpack the list writeyourcodehere into three variables, being first, middle, and last, with middle being everything in between the first and last element. Then print all three variables.\n",
    "\n",
    "def destructuring(lst):\n",
    "    first,middle,last=lst[0],lst[1:-1],lst[-1]\n",
    "    return first,middle,last\n",
    "\n",
    "lst = [1, 2, 3, 4, 5, 6]\n",
    "first,middle,last =destructuring(lst)\n",
    "print(first)\n",
    "print(middle)\n",
    "print(last)"
   ]
  },
  {
   "cell_type": "code",
   "execution_count": 12,
   "id": "a4261f74",
   "metadata": {},
   "outputs": [
    {
     "name": "stdout",
     "output_type": "stream",
     "text": [
      "120\n",
      "6\n",
      "1\n",
      "1\n"
     ]
    }
   ],
   "source": [
    "# Question 4\n",
    "# Write a function that calculates the factorial of a number recursively.\n",
    "# Examples\n",
    "# factorial(5) ➞ 120\n",
    "\n",
    "# factorial(3) ➞ 6\n",
    "\n",
    "# factorial(1) ➞ 1\n",
    "\n",
    "# factorial(0) ➞ 1\n",
    "def recursivefactorial(n):\n",
    "    if n==1 or n==0:\n",
    "        return 1\n",
    "    else:\n",
    "        return n*recursivefactorial(n-1)\n",
    "        \n",
    "print(recursivefactorial(5))\n",
    "print(recursivefactorial(3))\n",
    "print(recursivefactorial(1))\n",
    "print(recursivefactorial(0))"
   ]
  },
  {
   "cell_type": "code",
   "execution_count": 43,
   "id": "f34f55ef",
   "metadata": {},
   "outputs": [
    {
     "name": "stdout",
     "output_type": "stream",
     "text": [
      "Input:  [1, 3, 2, 4, 4, 1]\n",
      "Output:  [3, 2, 4, 4, 1, 1]\n",
      "************\n",
      "Input:  [7, 8, 9, 1, 2, 3, 4]\n",
      "Output:  [7, 8, 1, 2, 3, 4, 9]\n",
      "************\n",
      "Input:  ['a', 'a', 'a', 'b']\n",
      "Output:  ['b', 'a', 'a', 'a']\n",
      "************\n"
     ]
    }
   ],
   "source": [
    "\n",
    "# Question 5\n",
    "# Write a function that moves all elements of one type to the end of the list.\n",
    "# Examples\n",
    "# move_to_end([1, 3, 2, 4, 4, 1], 1) ➞ [3, 2, 4, 4, 1, 1]\n",
    "# # Move all the 1s to the end of the array.\n",
    "\n",
    "# move_to_end([7, 8, 9, 1, 2, 3, 4], 9) ➞ [7, 8, 1, 2, 3, 4, 9]\n",
    "\n",
    "# move_to_end([\"a\", \"a\", \"a\", \"b\"], \"a\") ➞ [\"b\", \"a\", \"a\", \"a\"]\n",
    "\n",
    "# initializing list\n",
    "\n",
    "\n",
    "def move_to_end(arr,ele):\n",
    "    count = 0 \n",
    "    n=len(arr)\n",
    "    for i in range(n):\n",
    "        if arr[i] != ele:          \n",
    "            arr[count] = arr[i]\n",
    "            count+=1\n",
    "    while count < n:\n",
    "        arr[count] = ele\n",
    "        count += 1\n",
    "        \n",
    "arr = [1, 3, 2, 4, 4, 1] \n",
    "print('Input: ',arr)\n",
    "move_to_end(arr,1)\n",
    "print('Output: ',arr)\n",
    "print('************')\n",
    "\n",
    "arr = [7, 8, 9, 1, 2, 3, 4]\n",
    "print('Input: ',arr)\n",
    "move_to_end(arr,9)\n",
    "print('Output: ',arr)\n",
    "print('************')\n",
    "arr = [\"a\", \"a\", \"a\", \"b\"]\n",
    "print('Input: ',arr)\n",
    "move_to_end(arr,'a')\n",
    "print('Output: ',arr)\n",
    "print('************')"
   ]
  }
 ],
 "metadata": {
  "kernelspec": {
   "display_name": "Python 3",
   "language": "python",
   "name": "python3"
  },
  "language_info": {
   "codemirror_mode": {
    "name": "ipython",
    "version": 3
   },
   "file_extension": ".py",
   "mimetype": "text/x-python",
   "name": "python",
   "nbconvert_exporter": "python",
   "pygments_lexer": "ipython3",
   "version": "3.8.8"
  }
 },
 "nbformat": 4,
 "nbformat_minor": 5
}
