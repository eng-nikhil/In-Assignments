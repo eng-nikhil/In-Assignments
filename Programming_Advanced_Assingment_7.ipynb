{
 "cells": [
  {
   "cell_type": "code",
   "execution_count": 4,
   "id": "151ee1ce",
   "metadata": {},
   "outputs": [
    {
     "name": "stdout",
     "output_type": "stream",
     "text": [
      "2\n",
      "3\n",
      "5\n"
     ]
    }
   ],
   "source": [
    "# 1. Write a function that counts how many concentric layers a rug.\n",
    "\n",
    "# Examples\n",
    "\n",
    "# count_layers([\n",
    "#   \"AAAA\",\n",
    "#   \"ABBA\",\n",
    "#   \"AAAA\"\n",
    "# ]) ➞ 2\n",
    "\n",
    "# count_layers([\n",
    "#   \"AAAAAAAAA\",\n",
    "#   \"ABBBBBBBA\",\n",
    "#   \"ABBAAABBA\",\n",
    "#   \"ABBBBBBBA\",\n",
    "#   \"AAAAAAAAA\"\n",
    "# ]) ➞ 3\n",
    "\n",
    "# count_layers([\n",
    "#   \"AAAAAAAAAAA\",\n",
    "#   \"AABBBBBBBAA\",\n",
    "#   \"AABCCCCCBAA\",\n",
    "#   \"AABCAAACBAA\",\n",
    "#   \"AABCADACBAA\",\n",
    "#   \"AABCAAACBAA\",\n",
    "#   \"AABCCCCCBAA\",\n",
    "#   \"AABBBBBBBAA\",\n",
    "#   \"AAAAAAAAAAA\"\n",
    "# ]) ➞ 5\n",
    "\n",
    "from math import ceil\n",
    "\n",
    "def count_layers(lst):\n",
    "    return ceil(len(lst)/2)\n",
    "\n",
    "\n",
    "print(count_layers([\"AAAA\",\"ABBA\",\"AAAA\"]) )\n",
    "\n",
    "print(count_layers([\n",
    "  \"AAAAAAAAA\",\n",
    "  \"ABBBBBBBA\",\n",
    "  \"ABBAAABBA\",\n",
    "  \"ABBBBBBBA\",\n",
    "  \"AAAAAAAAA\"\n",
    "]) )\n",
    "\n",
    "print(count_layers([\n",
    "  \"AAAAAAAAAAA\",\n",
    "  \"AABBBBBBBAA\",\n",
    "  \"AABCCCCCBAA\",\n",
    "  \"AABCAAACBAA\",\n",
    "  \"AABCADACBAA\",\n",
    "  \"AABCAAACBAA\",\n",
    "  \"AABCCCCCBAA\",\n",
    "  \"AABBBBBBBAA\",\n",
    "  \"AAAAAAAAAAA\"\n",
    "]))"
   ]
  },
  {
   "cell_type": "code",
   "execution_count": 43,
   "id": "3dc1c01b",
   "metadata": {},
   "outputs": [
    {
     "name": "stdout",
     "output_type": "stream",
     "text": [
      "9\n",
      "7\n"
     ]
    }
   ],
   "source": [
    "# 2. There are many different styles of music and many albums exhibit multiple styles. Create a function that takes a list of musical styles from albums and returns how many styles are unique.\n",
    "\n",
    "# Examples\n",
    "\n",
    "# unique_styles([\n",
    "#   \"Dub,Dancehall\",\n",
    "#   \"Industrial,Heavy Metal\",\n",
    "#   \"Techno,Dubstep\",\n",
    "#   \"Synth-pop,Euro-Disco\",\n",
    "#   \"Industrial,Techno,Minimal\"\n",
    "# ]) ➞ 9\n",
    "\n",
    "# unique_styles([\n",
    "#   \"Soul\",\n",
    "#   \"House,Folk\",\n",
    "#   \"Trance,Downtempo,Big Beat,House\",\n",
    "#   \"Deep House\",\n",
    "#   \"Soul\"\n",
    "# ]) ➞ 7\n",
    "\n",
    "def flatten_lst(lst):        \n",
    "    new_list=[]\n",
    "    for i in lst:\n",
    "        new_list+=i.split(',')    \n",
    "    return new_list \n",
    "\n",
    "def unique_styles(lst):\n",
    "    count=0\n",
    "    templst=[]\n",
    "    return len(set(flatten_lst(lst)))\n",
    "\n",
    "            \n",
    "print(unique_styles([\"Dub,Dancehall\",\"Industrial,Heavy Metal\",\"Techno,Dubstep\",\"Synth-pop,Euro-Disco\",\"Industrial,Techno,Minimal\"\n",
    "]))\n",
    "    \n",
    "print(unique_styles([\n",
    "  \"Soul\",\n",
    "  \"House,Folk\",\n",
    "  \"Trance,Downtempo,Big Beat,House\",\n",
    "  \"Deep House\",\n",
    "  \"Soul\"\n",
    "]))"
   ]
  },
  {
   "cell_type": "code",
   "execution_count": 60,
   "id": "455af3ae",
   "metadata": {},
   "outputs": [
    {
     "name": "stdout",
     "output_type": "stream",
     "text": [
      "yes\n",
      "no\n",
      "yes\n",
      "no\n"
     ]
    }
   ],
   "source": [
    "# 3. Create a function that finds a target number in a list of prime numbers. Implement a binary search algorithm in your function. The target number will be from 2 through 97. If the target is prime then return \"yes\" else return \"no\".\n",
    "\n",
    "# Examples\n",
    "\n",
    "# primes = [2, 3, 5, 7, 11, 13, 17, 19, 23, 29, 31, 37, 41, 43, 47, 53, 59, 61, 67, 71, 73, 79, 83, 89, 97]\n",
    "\n",
    "\n",
    "# is_prime(primes, 3) ➞ \"yes\"\n",
    "\n",
    "# is_prime(primes, 4) ➞ \"no\"\n",
    "\n",
    "# is_prime(primes, 67) ➞ \"yes\"\n",
    "\n",
    "# is_prime(primes, 36) ➞ \"no\"\n",
    "\n",
    "from math import floor\n",
    "\n",
    "def is_prime(lst,ele):\n",
    "    lst_len=len(lst)\n",
    "    mid=floor(lst_len/2)\n",
    "    if lst_len>1:      \n",
    "        if ele==lst[mid]:\n",
    "            return \"yes\"\n",
    "        if ele<lst[mid]:\n",
    "            return is_prime(lst[0:mid],ele)\n",
    "        elif ele>lst[mid]:\n",
    "            return is_prime(lst[mid+1:],ele)\n",
    "    else:\n",
    "        return 'no'\n",
    "\n",
    "primes = [2, 3, 5, 7, 11, 13, 17, 19, 23, 29, 31, 37, 41, 43, 47, 53, 59, 61, 67, 71, 73, 79, 83, 89, 97]\n",
    "print(is_prime(primes, 3))      \n",
    "print(is_prime(primes, 4))\n",
    "print(is_prime(primes, 67))\n",
    "print(is_prime(primes, 36))"
   ]
  },
  {
   "cell_type": "code",
   "execution_count": 63,
   "id": "d1e0ea53",
   "metadata": {},
   "outputs": [
    {
     "name": "stdout",
     "output_type": "stream",
     "text": [
      "2\n",
      "3\n",
      "1\n",
      "1\n",
      "3\n"
     ]
    }
   ],
   "source": [
    "# 4. Create a function that takes in n, a, b and returns the number of positive values raised to the nth power that lie in the range [a, b], inclusive.\n",
    "\n",
    "# Examples\n",
    "\n",
    "# power_ranger(2, 49, 65) ➞ 2\n",
    "# # 2 squares (n^2) lie between 49 and 65, 49 (7^2) and 64 (8^2)\n",
    "\n",
    "# power_ranger(3, 1, 27) ➞ 3\n",
    "# # 3 cubes (n^3) lie between 1 and 27, 1 (1^3), 8 (2^3) and 27 (3^3)\n",
    "\n",
    "# power_ranger(10, 1, 5) ➞ 1\n",
    "# # 1 value raised to the 10th power lies between 1 and 5, 1 (1^10)\n",
    "\n",
    "# power_ranger(5, 31, 33) ➞ 1\n",
    "\n",
    "# power_ranger(4, 250, 1300) ➞ 3\n",
    "\n",
    "def power_ranger(n,a,b):\n",
    "    base=1\n",
    "    count=0\n",
    "    while base**n<=b:\n",
    "        if base**n>= a and base**n<=b:\n",
    "            count+=1\n",
    "        base+=1    \n",
    "    return count\n",
    "\n",
    "print(power_ranger(2, 49, 65))\n",
    "print(power_ranger(3, 1, 27))\n",
    "print(power_ranger(10, 1, 5))\n",
    "print(power_ranger(5, 31, 33))\n",
    "print(power_ranger(4, 250, 1300))\n"
   ]
  },
  {
   "cell_type": "code",
   "execution_count": 84,
   "id": "9830a52c",
   "metadata": {},
   "outputs": [
    {
     "name": "stdout",
     "output_type": "stream",
     "text": [
      "760833\n",
      "7709823\n",
      "90981\n"
     ]
    }
   ],
   "source": [
    "# 5. Given a number, return the difference between the maximum and minimum numbers that can be formed when the digits are rearranged.\n",
    "\n",
    "# Examples\n",
    "\n",
    "# rearranged_difference(972882) ➞ 760833\n",
    "# # 988722 - 227889 = 760833\n",
    "\n",
    "# rearranged_difference(3320707) ➞ 7709823\n",
    "# # 7733200 - 23377 = 7709823\n",
    "\n",
    "# rearranged_difference(90010) ➞ 90981\n",
    "# # 91000 - 19 = 90981\n",
    "\n",
    "\n",
    "def bubblesort(elements): \n",
    "    for n in range(len(elements)-1, 0, -1):\n",
    "        for i in range(n):\n",
    "              if elements[i] > elements[i + 1]:\n",
    "        # swapping data if the element is less than next element in the array\n",
    "                elements[i], elements[i + 1] = elements[i + 1], elements[i]\n",
    "    return elements\n",
    "\n",
    "def rearranged_difference(num):\n",
    "    lst=[x for x in str(num)]    \n",
    "    sorted_list=bubblesort(lst)\n",
    "    max_num=int(''.join(sorted_list[::-1]))\n",
    "    min_num=int(''.join(sorted_list))\n",
    "    return max_num-min_num\n",
    "print(rearranged_difference(972882))\n",
    "print( rearranged_difference(3320707))\n",
    "print(rearranged_difference(90010))\n"
   ]
  }
 ],
 "metadata": {
  "kernelspec": {
   "display_name": "Python 3",
   "language": "python",
   "name": "python3"
  },
  "language_info": {
   "codemirror_mode": {
    "name": "ipython",
    "version": 3
   },
   "file_extension": ".py",
   "mimetype": "text/x-python",
   "name": "python",
   "nbconvert_exporter": "python",
   "pygments_lexer": "ipython3",
   "version": "3.8.8"
  }
 },
 "nbformat": 4,
 "nbformat_minor": 5
}
