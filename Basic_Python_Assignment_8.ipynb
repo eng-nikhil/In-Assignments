{
 "cells": [
  {
   "cell_type": "raw",
   "id": "c4ec46d6",
   "metadata": {},
   "source": [
    "1. Is the Python Standard Library included with PyInputPlus?\n",
    "Ans: pyinputplus is not included in standard lib. to be installed explicitly."
   ]
  },
  {
   "cell_type": "raw",
   "id": "759b0157",
   "metadata": {},
   "source": [
    "2. Why is PyInputPlus commonly imported with import pyinputplus as pypi?\n",
    "Ans: It is just convention , can be used as diffrent name as well."
   ]
  },
  {
   "cell_type": "raw",
   "id": "1def0303",
   "metadata": {},
   "source": [
    "3. How do you distinguish between inputInt() and inputFloat()?\n",
    "Ans: inputInt() -> Accepts int as input\n",
    "    inputFloat()? -> Accepts Float as input"
   ]
  },
  {
   "cell_type": "raw",
   "id": "8cf3c7cb",
   "metadata": {},
   "source": [
    "4. Using PyInputPlus, how do you ensure that the user enters a whole number between 0 and 99?\n",
    "Ans: inp = pyip.inputInt(prompt = \"Enter an Integer... \", min = 0, lessThan = 100 )"
   ]
  },
  {
   "cell_type": "raw",
   "id": "9b8f23e1",
   "metadata": {},
   "source": [
    "5. What is transferred to the keyword arguments allowRegexes and blockRegexes?\n",
    "Ans: allowRegexes -> allows input if input follows pass regex\n",
    "     blockRegexes > Blocks input if input does not follow pass regex"
   ]
  },
  {
   "cell_type": "raw",
   "id": "04000c00",
   "metadata": {},
   "source": [
    "6. If a blank input is entered three times, what does inputStr(limit=3) do?\n",
    "Ans: Blank not allowed"
   ]
  },
  {
   "cell_type": "raw",
   "id": "22ee47a2",
   "metadata": {},
   "source": [
    "7. If blank input is entered three times, what does inputStr(limit=3, default='hello') do?\n",
    "Ans: Blank not allowed"
   ]
  }
 ],
 "metadata": {
  "kernelspec": {
   "display_name": "Python 3",
   "language": "python",
   "name": "python3"
  },
  "language_info": {
   "codemirror_mode": {
    "name": "ipython",
    "version": 3
   },
   "file_extension": ".py",
   "mimetype": "text/x-python",
   "name": "python",
   "nbconvert_exporter": "python",
   "pygments_lexer": "ipython3",
   "version": "3.8.8"
  }
 },
 "nbformat": 4,
 "nbformat_minor": 5
}
