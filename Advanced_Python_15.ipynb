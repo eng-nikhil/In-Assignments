{
 "cells": [
  {
   "cell_type": "raw",
   "id": "d9a338ab",
   "metadata": {},
   "source": [
    "1.\tWhat are the new features added in Python 3.8 version?\n",
    "Ans:1. reversed() works with dict\n",
    "    2.The Python interpreter now throws a SyntaxWarning in some cases when a comma is missed before tuple or list.\n",
    "    3.operator.itemgetter() is now 33% faster\n",
    "    4.Added the walrus operator(:=) \n",
    "    \n",
    "2.\tWhat is monkey patching in Python?\n",
    "Ans: Term monkey patch refers to dynamic (or run-time) modifications of a class or module. \n",
    "     In Python, we can change the behavior of code at run-time.\n",
    "    for eg: \n",
    "        class A:\n",
    "            def func(self):\n",
    "                print (\"func() is being called\")\n",
    "                \n",
    "        import monk\n",
    "        def monkey_f(self):\n",
    "             print (\"monkey_f() is being called\")\n",
    "   \n",
    "        # replacing address of \"func\" with \"monkey_f\"\n",
    "        monk.A.func = monkey_f\n",
    "        obj = monk.A()\n",
    "        obj.func()     ## function monkey_f will be called since it is replaced..runtime chaning the behaviour\n",
    "    \n",
    "3.\tWhat is the difference between a shallow copy and deep copy?\n",
    "Ans: shallow copy: copy() -> two variables refers to same memory in case one changes other variable get updated value\n",
    "     deep copy: deepcopy() -> Diffrent memory assigned for new variable.\n",
    "    \n",
    "4.\tWhat is the maximum possible length of an identifier?\n",
    "Ans: 79 characters\n",
    "    \n",
    "5.\tWhat is generator comprehension?\n",
    "Ans: using compreshsion to implement genrator for eg:\n",
    "     gen=(x*2 for x in range(10))     # () brackets to be using instead of {}-list comprehension\n",
    "     next(gen)\n"
   ]
  }
 ],
 "metadata": {
  "kernelspec": {
   "display_name": "Python 3",
   "language": "python",
   "name": "python3"
  },
  "language_info": {
   "codemirror_mode": {
    "name": "ipython",
    "version": 3
   },
   "file_extension": ".py",
   "mimetype": "text/x-python",
   "name": "python",
   "nbconvert_exporter": "python",
   "pygments_lexer": "ipython3",
   "version": "3.8.8"
  }
 },
 "nbformat": 4,
 "nbformat_minor": 5
}
