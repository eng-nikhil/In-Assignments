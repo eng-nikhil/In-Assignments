{
 "cells": [
  {
   "cell_type": "code",
   "execution_count": 2,
   "id": "2d023a93",
   "metadata": {},
   "outputs": [
    {
     "name": "stdout",
     "output_type": "stream",
     "text": [
      "0\n",
      "30\n",
      "18\n"
     ]
    }
   ],
   "source": [
    "# Question1. Create a function that takes three arguments a, b, c and returns the sum of the numbers that are evenly divided by c from the range a, b inclusive.\n",
    "# Examples\n",
    "# evenly_divisible(1, 10, 20) ➞ 0\n",
    "# # No number between 1 and 10 can be evenly divided by 20.\n",
    "\n",
    "# evenly_divisible(1, 10, 2) ➞ 30\n",
    "# # 2 + 4 + 6 + 8 + 10 = 30\n",
    "\n",
    "# evenly_divisible(1, 10, 3) ➞ 18\n",
    "# # 3 + 6 + 9 = 18\n",
    "\n",
    "def evenly_divisible(a,b,c):\n",
    "    count=0\n",
    "    for i in range(a,b+1):\n",
    "        if i%c==0:\n",
    "            count+=i\n",
    "    return count\n",
    "\n",
    "print(evenly_divisible(1, 10, 20))\n",
    "print(evenly_divisible(1, 10, 2))\n",
    "print(evenly_divisible(1, 10, 3))\n"
   ]
  },
  {
   "cell_type": "code",
   "execution_count": 7,
   "id": "cf1c6f27",
   "metadata": {},
   "outputs": [
    {
     "name": "stdout",
     "output_type": "stream",
     "text": [
      "True\n",
      "False\n",
      "True\n"
     ]
    }
   ],
   "source": [
    "# Question2. Create a function that returns True if a given inequality expression is correct and False otherwise.\n",
    "# Examples\n",
    "# correct_signs(\"3 < 7 < 11\") ➞ True\n",
    "\n",
    "# correct_signs(\"13 > 44 > 33 > 1\") ➞ False\n",
    "\n",
    "# correct_signs(\"1 < 2 < 6 < 9 > 3\") ➞ True\n",
    "\n",
    "def correct_signs(expression):\n",
    "    return eval(expression)\n",
    "print(correct_signs(\"3 < 7 < 11\"))\n",
    "print(correct_signs(\"13 > 44 > 33 > 1\"))\n",
    "print(correct_signs(\"1 < 2 < 6 < 9 > 3\"))"
   ]
  },
  {
   "cell_type": "code",
   "execution_count": 11,
   "id": "2a0ad330",
   "metadata": {},
   "outputs": [
    {
     "name": "stdout",
     "output_type": "stream",
     "text": [
      "the ##rdv#rk\n",
      "m?nn?e m??se\n",
      "sh*kespe*re\n"
     ]
    }
   ],
   "source": [
    "# Question3. Create a function that replaces all the vowels in a string with a specified character.\n",
    "# Examples\n",
    "# replace_vowels(\"the aardvark\", \"#\") ➞ \"th# ##rdv#rk\"\n",
    "\n",
    "# replace_vowels(\"minnie mouse\", \"?\") ➞ \"m?nn?? m??s?\"\n",
    "\n",
    "# replace_vowels(\"shakespeare\", \"*\") ➞ \"sh*k*sp**r*\"\n",
    "\n",
    "def replace_vowels(str,rep):\n",
    "    lst=[]\n",
    "    for i in range(len(str)):\n",
    "        if str[i] in ['a','i','o','u']:\n",
    "            lst.append(rep)\n",
    "        else:\n",
    "            lst.append(str[i])\n",
    "    return ''.join(lst)\n",
    "\n",
    "print(replace_vowels(\"the aardvark\", \"#\"))\n",
    "print(replace_vowels(\"minnie mouse\", \"?\"))\n",
    "print(replace_vowels(\"shakespeare\", \"*\"))"
   ]
  },
  {
   "cell_type": "code",
   "execution_count": 20,
   "id": "605fdea9",
   "metadata": {},
   "outputs": [
    {
     "name": "stdout",
     "output_type": "stream",
     "text": [
      "120\n",
      "6\n",
      "1\n",
      "1\n"
     ]
    }
   ],
   "source": [
    "# Question4. Write a function that calculates the factorial of a number recursively.\n",
    "# Examples\n",
    "# factorial(5) ➞ 120\n",
    "\n",
    "# factorial(3) ➞ 6\n",
    "\n",
    "# factorial(1) ➞ 1\n",
    "\n",
    "# factorial(0) ➞ 1\n",
    "\n",
    "def recursivefactorial(n):\n",
    "    if n==1 or n==0:\n",
    "        return 1\n",
    "    else:\n",
    "        return n*recursivefactorial(n-1)\n",
    "        \n",
    "print(recursivefactorial(5))\n",
    "print(recursivefactorial(3))\n",
    "print(recursivefactorial(1))\n",
    "print(recursivefactorial(0))"
   ]
  },
  {
   "cell_type": "code",
   "execution_count": 23,
   "id": "62963351",
   "metadata": {},
   "outputs": [
    {
     "name": "stdout",
     "output_type": "stream",
     "text": [
      "5\n",
      "0\n",
      "1\n"
     ]
    }
   ],
   "source": [
    "# Question 5\n",
    "# Hamming distance is the number of characters that differ between two strings.\n",
    "# To illustrate:\n",
    "# String1: \"abcbba\"\n",
    "# String2: \"abcbda\"\n",
    "\n",
    "# Hamming Distance: 1 - \"b\" vs. \"d\" is the only difference.\n",
    "# Create a function that computes the hamming distance between two strings.\n",
    "# Examples\n",
    "# hamming_distance(\"abcde\", \"bcdef\") ➞ 5\n",
    "\n",
    "# hamming_distance(\"abcde\", \"abcde\") ➞ 0\n",
    "\n",
    "# hamming_distance(\"strong\", \"strung\") ➞ 1\n",
    "\n",
    "\n",
    "def hamming_distance(a,b):\n",
    "    count=0\n",
    "    for i in range(len(a)):\n",
    "        if a[i] != b[i]:\n",
    "            count+=1\n",
    "    return count\n",
    "     \n",
    "print(hamming_distance(\"abcde\", \"bcdef\"))\n",
    "print(hamming_distance(\"abcde\", \"abcde\") )\n",
    "print(hamming_distance(\"strong\", \"strung\"))"
   ]
  }
 ],
 "metadata": {
  "kernelspec": {
   "display_name": "Python 3",
   "language": "python",
   "name": "python3"
  },
  "language_info": {
   "codemirror_mode": {
    "name": "ipython",
    "version": 3
   },
   "file_extension": ".py",
   "mimetype": "text/x-python",
   "name": "python",
   "nbconvert_exporter": "python",
   "pygments_lexer": "ipython3",
   "version": "3.8.8"
  }
 },
 "nbformat": 4,
 "nbformat_minor": 5
}
