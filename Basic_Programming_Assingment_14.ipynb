{
 "cells": [
  {
   "cell_type": "code",
   "execution_count": 36,
   "id": "224a31ec",
   "metadata": {},
   "outputs": [
    {
     "name": "stdout",
     "output_type": "stream",
     "text": [
      "7\n",
      "14\n",
      "21\n",
      "28\n",
      "35\n",
      "42\n",
      "49\n",
      "56\n",
      "63\n",
      "70\n",
      "77\n",
      "84\n",
      "91\n",
      "98\n"
     ]
    }
   ],
   "source": [
    "# Question 1:\n",
    "# Define a class with a generator which can iterate the numbers, which are divisible by 7, between a given range 0 and n.\n",
    "\n",
    "# Using Iter function\n",
    "class IterGenerator:\n",
    "    def __init__(self,min_num,max_num,div):      \n",
    "        self.min = min_num\n",
    "        self.max= max_num\n",
    "        self.div=div\n",
    "    def __iter__(self):      \n",
    "        for i in range(self.min,self.max+1):            \n",
    "            if i%self.div==0:                \n",
    "                yield i\n",
    "                \n",
    "genobj = IterGenerator(1,100,7)\n",
    "\n",
    "for i in genobj:\n",
    "    print(i)"
   ]
  },
  {
   "cell_type": "code",
   "execution_count": 55,
   "id": "d926771e",
   "metadata": {},
   "outputs": [
    {
     "name": "stdout",
     "output_type": "stream",
     "text": [
      "String-Frequency Dict: {'New': 1, 'to': 1, 'Python': 5, 'or': 2, 'choosing': 1, 'between': 1, '2': 2, 'and': 1, '3?': 1, 'Read': 1, '3': 1} \n",
      "\n",
      "Sorting Based on Key: \n",
      "2 : 2\n",
      "3 : 1\n",
      "3? : 1\n",
      "New : 1\n",
      "Python : 5\n",
      "Read : 1\n",
      "and : 1\n",
      "between : 1\n",
      "choosing : 1\n",
      "or : 2\n",
      "to : 1\n"
     ]
    }
   ],
   "source": [
    "# Question 2:\n",
    "# Write a program to compute the frequency of the words from the input. \n",
    "#The output should output after sorting the key alphanumerically. \n",
    "# Suppose the following input is supplied to the program:\n",
    "# New to Python or choosing between Python 2 and Python 3? Read Python 2 or Python 3.\n",
    "# Then, the output should be:\n",
    "# 2:2\n",
    "# 3.:1\n",
    "# 3?:1\n",
    "# New:1\n",
    "# Python:5\n",
    "# Read:1\n",
    "# and:1\n",
    "# between:1\n",
    "# choosing:1\n",
    "# or:2\n",
    "# to:1\n",
    "\n",
    "def countfreq(str):\n",
    "    lst=str.split()\n",
    "    dict={}\n",
    "    for i in range(len(lst)):\n",
    "        dict[lst[i]]=0\n",
    "    for i in range(len(lst)):\n",
    "        dict[lst.pop()]+=1\n",
    "    return dict\n",
    "\n",
    "def sorteddict(dict,criteria='key'):\n",
    "    all_keys=list(dict.keys())\n",
    "    all_vals=list(dict.values())\n",
    "    sorted_keys=sorted(all_keys)\n",
    "    sorted_vals=sorted(all_vals)   \n",
    "    if criteria== 'key':\n",
    "        print(\"Sorting Based on Key: \")\n",
    "        for i in range(len(sorted_keys)):\n",
    "            print(sorted_keys[i],':',dict[sorted_keys[i]])\n",
    "    else:\n",
    "        print(\"Sorting Based on Values: \")\n",
    "        for i in sorted_vals:\n",
    "            ind=all_vals.index(i)\n",
    "            print(all_keys[ind],':',dict[all_keys[ind]])\n",
    "\n",
    "\n",
    "str ='New to Python or choosing between Python 2 and Python 3? Read Python 2 or Python 3'    \n",
    "d1= countfreq(str)\n",
    "print(\"String-Frequency Dict:\", d1 ,'\\n')\n",
    "sorteddict(d1,'key')"
   ]
  },
  {
   "cell_type": "code",
   "execution_count": 59,
   "id": "8642d62d",
   "metadata": {},
   "outputs": [
    {
     "name": "stdout",
     "output_type": "stream",
     "text": [
      "Person class\n",
      "Male Class\n",
      "Female Class\n"
     ]
    }
   ],
   "source": [
    "# Question 3:\n",
    "# Define a class Person and its two child classes: Male and Female. \n",
    "# All classes have a method \"getGender\" which can print \"Male\" for Male class and \"Female\" for Female class.\n",
    "\n",
    "class Person:\n",
    "    def getGender(self):\n",
    "        return 'Person class'\n",
    "class Male(Person):\n",
    "    def getGender(self):\n",
    "        return 'Male Class'\n",
    "class Female(Person):\n",
    "    def getGender(self):\n",
    "        return 'Female Class'\n",
    "\n",
    "obj_person=Person()\n",
    "obj_male=Male()\n",
    "obj_female=Female()\n",
    "\n",
    "print(obj_person.getGender())\n",
    "print(obj_male.getGender())\n",
    "print(obj_female.getGender())\n"
   ]
  },
  {
   "cell_type": "code",
   "execution_count": 60,
   "id": "ff047699",
   "metadata": {},
   "outputs": [
    {
     "name": "stdout",
     "output_type": "stream",
     "text": [
      "I Play Hockey\n",
      "I Play Football\n",
      "I Love Hockey\n",
      "I Love Football\n",
      "You Play Hockey\n",
      "You Play Football\n",
      "You Love Hockey\n",
      "You Love Football\n"
     ]
    }
   ],
   "source": [
    "# Question 4:\n",
    "# Please write a program to generate all sentences where subject is in [\"I\", \"You\"] and verb is in [\"Play\", \"Love\"] and the object is in [\"Hockey\",\"Football\"].\n",
    "\n",
    "def gensentences(sub,verb,obj):\n",
    "    for i in sub:\n",
    "        for j in verb:\n",
    "            for k in obj:\n",
    "                print(i,j,k)\n",
    "\n",
    "gensentences([\"I\", \"You\"],[\"Play\", \"Love\"],[\"Hockey\",\"Football\"])"
   ]
  },
  {
   "cell_type": "code",
   "execution_count": 127,
   "id": "48f2cf88",
   "metadata": {},
   "outputs": [
    {
     "name": "stdout",
     "output_type": "stream",
     "text": [
      "Compression Based on Chars: h4e4l12l12o8 4w4o8r4l12d4!4h4e4l12l12o8 4w4o8r4l12d4!4h4e4l12l12o8 4w4o8r4l12d4!4h4e4l12l12o8 4w4o8r4l12d4!4\n",
      "***********\n",
      "String Compression: hello world!4\n",
      "String Uncompression: hello world!hello world!hello world!hello world!\n"
     ]
    }
   ],
   "source": [
    "# Question 5:\n",
    "# Please write a program to compress and decompress the string \"hello world!hello world!hello world!hello world!\".\n",
    "\n",
    "def compress(s):\n",
    "    count=0\n",
    "    lst=[]\n",
    "    for i in range(0,len(s)):\n",
    "        if s[i] == s[i-1]:\n",
    "            count += 1\n",
    "        c = s.count(s[i])\n",
    "        lst.append(f'{s[i]}' + f'{c}')\n",
    "    return ''.join(lst)\n",
    "print('Compression Based on Chars:',compress(\"hello world!hello world!hello world!hello world!\"))\n",
    "print('***********')\n",
    "\n",
    "def Stringcompress(s):\n",
    "    lst=[]\n",
    "    sub_str=s[0:s.index('!')+1]\n",
    "    count= s.count(sub_str)\n",
    "    return sub_str + f'{count}'\n",
    "\n",
    "\n",
    "compressed = Stringcompress(\"hello world!hello world!hello world!hello world!\")\n",
    "print('String Compression:', compressed)\n",
    "def StringUncompress(s):\n",
    "    for i in range(len(s)):\n",
    "        if s[i] in range(0,10):\n",
    "            break\n",
    "    return f'{s[0:i]}'*int(s[i])\n",
    "  \n",
    "print('String Uncompression:',StringUncompress(compressed))\n"
   ]
  },
  {
   "cell_type": "code",
   "execution_count": 131,
   "id": "f5b40004",
   "metadata": {},
   "outputs": [
    {
     "name": "stdout",
     "output_type": "stream",
     "text": [
      "Element is present at index 2\n"
     ]
    }
   ],
   "source": [
    "# Question 6:\n",
    "# Please write a binary search function which searches an item in a sorted list. \n",
    "# The function should return the index of element to be searched in the list.\n",
    "\n",
    "def binary_search(arr, x):\n",
    "    low = 0\n",
    "    high = len(arr) - 1\n",
    "    mid = 0 \n",
    "    while low <= high: \n",
    "        mid = (high + low) // 2 \n",
    "        if arr[mid] < x:\n",
    "            low = mid + 1\n",
    "        elif arr[mid] > x:\n",
    "            high = mid - 1\n",
    "        else:\n",
    "            return mid\n",
    "    return -1\n",
    " \n",
    "arr = [ 12, 23, 40, 50, 55 ]\n",
    "x = 40\n",
    " \n",
    "result = binary_search(arr, x)\n",
    " \n",
    "if result != -1:\n",
    "    print(\"Element is present at index\", result)\n",
    "else:\n",
    "    print(\"Element is not present in array\")"
   ]
  }
 ],
 "metadata": {
  "kernelspec": {
   "display_name": "Python 3",
   "language": "python",
   "name": "python3"
  },
  "language_info": {
   "codemirror_mode": {
    "name": "ipython",
    "version": 3
   },
   "file_extension": ".py",
   "mimetype": "text/x-python",
   "name": "python",
   "nbconvert_exporter": "python",
   "pygments_lexer": "ipython3",
   "version": "3.8.8"
  }
 },
 "nbformat": 4,
 "nbformat_minor": 5
}
