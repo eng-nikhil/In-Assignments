{
 "cells": [
  {
   "cell_type": "code",
   "execution_count": 32,
   "id": "3d2782fb",
   "metadata": {},
   "outputs": [
    {
     "name": "stdout",
     "output_type": "stream",
     "text": [
      "0:15:00\n",
      "0:53:20\n",
      "4 days, 6:40:18\n"
     ]
    }
   ],
   "source": [
    "# 1. YouTube offers different playback speed options for users. This allows users to increase or decrease the speed of the video content. \n",
    "#Given the actual duration and playback speed of the video, calculate the playback duration of the video.\n",
    "\n",
    "# Examples\n",
    "\n",
    "# playback_duration(\"00:30:00\", 2) ➞ \"00:15:00\"\n",
    "\n",
    "# playback_duration(\"01:20:00\", 1.5) ➞ \"00:53:20\"\n",
    "\n",
    "# playback_duration(\"51:20:09\", 0.5) ➞ \"102:40:18\"\n",
    "\n",
    "from datetime import time\n",
    "import datetime\n",
    "\n",
    "def playback_duration(tm,speed):\n",
    "    hour=int(tm[0:2])\n",
    "    minute=int(tm[3:5])\n",
    "    second=int(tm[6:8])\n",
    "    return datetime.timedelta(hours= hour, minutes=minute,seconds =second)/speed\n",
    "    \n",
    "print(playback_duration(\"00:30:00\", 2))\n",
    "print(playback_duration(\"01:20:00\", 1.5) )\n",
    "print(playback_duration(\"51:20:09\", 0.5))\n"
   ]
  },
  {
   "cell_type": "code",
   "execution_count": 48,
   "id": "66f8b130",
   "metadata": {},
   "outputs": [
    {
     "name": "stdout",
     "output_type": "stream",
     "text": [
      "45\n",
      "2022\n",
      "None\n"
     ]
    }
   ],
   "source": [
    "# 2. We needs your help to construct a building which will be a pile of n cubes. The cube at the bottom will have a volume of n^3, the cube above will have volume of (n-1)^3 and so on until the top which will have a volume of 1^3.\n",
    "\n",
    "# Given the total volume m of the building, can you find the number of cubes n required for the building?\n",
    "\n",
    "# In other words, you have to return an integer n such that:\n",
    "\n",
    "# n^3 + (n-1)^3 + ... + 1^3 == m\n",
    "\n",
    "# Return None if there is no such number.\n",
    "\n",
    "# Examples\n",
    "\n",
    "# pile_of_cubes(1071225) ➞ 45\n",
    "\n",
    "# pile_of_cubes(4183059834009) ➞ 2022\n",
    "\n",
    "# pile_of_cubes(16) ➞ None\n",
    "\n",
    "from math import sqrt\n",
    "def pile_of_cubes(num):\n",
    "    count=0\n",
    "    ite=0\n",
    "    while ite<(num)**(1/3):\n",
    "        ite+=1\n",
    "        count+=ite**3\n",
    "        if count==num:\n",
    "            return ite\n",
    "    return None\n",
    "\n",
    "print(pile_of_cubes(1071225))\n",
    "print(pile_of_cubes(4183059834009))\n",
    "print(pile_of_cubes(16))    "
   ]
  },
  {
   "cell_type": "code",
   "execution_count": 51,
   "id": "6ad9f7f8",
   "metadata": {},
   "outputs": [
    {
     "name": "stdout",
     "output_type": "stream",
     "text": [
      "2\n",
      "4\n",
      "1\n"
     ]
    }
   ],
   "source": [
    "# 3. A fulcrum of a list is an integer such that all elements to the left of it and all elements to the right of it sum to the same value. Write a function that finds the fulcrum of a list.\n",
    "\n",
    "# To illustrate:\n",
    "\n",
    "# find_fulcrum([3, 1, 5, 2, 4, 6, -1]) ➞ 2\n",
    "# // Since [3, 1, 5] and [4, 6, -1] both sum to 9\n",
    "\n",
    "# Examples\n",
    "\n",
    "# find_fulcrum([1, 2, 4, 9, 10, -10, -9, 3]) ➞ 4\n",
    "\n",
    "# find_fulcrum([9, 1, 9]) ➞ 1\n",
    "\n",
    "# find_fulcrum([7, -1, 0, -1, 1, 1, 2, 3]) ➞ 0\n",
    "\n",
    "# find_fulcrum([8, 8, 8, 8]) ➞ -1\n",
    "\n",
    "\n",
    "def find_fulcrum(lst):\n",
    "    low=1\n",
    "    count_1,count_2=0,0\n",
    "    high=len(lst)    \n",
    "    while low<=len(lst) and high>=0:\n",
    "        count_1=0\n",
    "        for i in lst[:low]:    \n",
    "            count_1=count_1+i   \n",
    "        count_2=0\n",
    "        for j in lst[:high:-1]:\n",
    "            count_2=count_2+j \n",
    "        if count_1>count_2:\n",
    "            high-=1\n",
    "        elif count_1<count_2:\n",
    "            low+=1\n",
    "        else:            \n",
    "            return lst[lst.index(i)+1]            \n",
    "    return -1\n",
    "\n",
    "print(find_fulcrum([3, 1, 5, 2, 4, 6, -1]) )\n",
    "print(find_fulcrum([1, 2, 4, 9, 10, -10, -9, 3]))\n",
    "print(find_fulcrum([9, 1, 9]))"
   ]
  },
  {
   "cell_type": "code",
   "execution_count": 62,
   "id": "1774a354",
   "metadata": {},
   "outputs": [
    {
     "name": "stdout",
     "output_type": "stream",
     "text": [
      "3\n",
      "4\n",
      "0\n"
     ]
    }
   ],
   "source": [
    "# 4. Given a list of integers representing the color of each sock, determine how many pairs of socks with matching colors there are. \n",
    "# For example, there are 7 socks with colors [1, 2, 1, 2, 1, 3, 2]. There is one pair of color 1 and one of color 2. \n",
    "# There are three odd socks left, one of each color. The number of pairs is 2.\n",
    "\n",
    "# Create a function that returns an integer representing the number of matching pairs of socks that are available.\n",
    "\n",
    "# Examples\n",
    "\n",
    "# sock_merchant([10, 20, 20, 10, 10, 30, 50, 10, 20]) ➞ 3\n",
    "\n",
    "# sock_merchant([50, 20, 30, 90, 30, 20, 50, 20, 90]) ➞ 4\n",
    "\n",
    "# sock_merchant([]) ➞ 0\n",
    "\n",
    "def sock_merchant(lst):\n",
    "    pair=0\n",
    "    for i in range(len(lst)):\n",
    "        for j in range(i+1,len(lst)):\n",
    "            if lst[i]==lst[j] and lst[i]!='-inf' :\n",
    "                pair+=1\n",
    "                lst[j]='-inf'\n",
    "                lst[i]='-inf'            \n",
    "                break\n",
    "    return pair\n",
    "\n",
    "print(sock_merchant([10, 20, 20, 10, 10, 30, 50, 10, 20]))\n",
    "print(sock_merchant([50, 20, 30, 90, 30, 20, 50, 20, 90]))\n",
    "print(sock_merchant([]))        "
   ]
  },
  {
   "cell_type": "code",
   "execution_count": 167,
   "id": "405f748e",
   "metadata": {},
   "outputs": [
    {
     "name": "stdout",
     "output_type": "stream",
     "text": [
      "-23\n",
      "-33\n"
     ]
    }
   ],
   "source": [
    "# 5. Create a function that takes a string containing integers as well as other characters and return the sum of the negative integers only.\n",
    "\n",
    "# Examples\n",
    "\n",
    "# negative_sum(\"-12 13%14&-11\") ➞ -23\n",
    "# # -12 + -11 = -23\n",
    "\n",
    "# negative_sum(\"22 13%14&-11 -22 13 12\") ➞ -33\n",
    "# # -11 + -22 = -33\n",
    "\n",
    "def negative_sum(mystr):\n",
    "    lst=[]\n",
    "    item=''\n",
    "    i=0\n",
    "    sum=0\n",
    "    neg=False\n",
    "    while True: \n",
    "        if i<len(mystr) and (ord(mystr[i]) in range(49,58) or mystr[i]=='-') and neg==False:\n",
    "            item+=mystr[i]\n",
    "            i+=1\n",
    "        else:\n",
    "            lst.append(item)\n",
    "            i+=1\n",
    "            item=''\n",
    "            neg=False\n",
    "            if i>len(mystr):\n",
    "                break \n",
    "    for i in lst:\n",
    "        num=int(i)\n",
    "        if num<0:\n",
    "            sum+=num\n",
    "    return sum\n",
    "        \n",
    "print(negative_sum(\"-12 13%14&-11\") )\n",
    "print(negative_sum(\"22 13%14&-11 -22 13 12\") )\n"
   ]
  }
 ],
 "metadata": {
  "kernelspec": {
   "display_name": "Python 3",
   "language": "python",
   "name": "python3"
  },
  "language_info": {
   "codemirror_mode": {
    "name": "ipython",
    "version": 3
   },
   "file_extension": ".py",
   "mimetype": "text/x-python",
   "name": "python",
   "nbconvert_exporter": "python",
   "pygments_lexer": "ipython3",
   "version": "3.8.8"
  }
 },
 "nbformat": 4,
 "nbformat_minor": 5
}
