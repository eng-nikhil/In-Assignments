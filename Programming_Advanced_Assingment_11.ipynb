{
 "cells": [
  {
   "cell_type": "code",
   "execution_count": 25,
   "id": "31aef1f1",
   "metadata": {},
   "outputs": [
    {
     "name": "stdout",
     "output_type": "stream",
     "text": [
      "[7, 3, 11]\n",
      "[10007, 1009]\n",
      "[1009, 3, 1, 61, 1087, 1091, 1093, 1097]\n"
     ]
    }
   ],
   "source": [
    "# 1. Create a function that takes a list and returns a new list containing only prime numbers.\n",
    "\n",
    "# Examples\n",
    "\n",
    "# filter_primes([7, 9, 3, 9, 10, 11, 27]) ➞ [7, 3, 11]\n",
    "\n",
    "# filter_primes([10007, 1009, 1007, 27, 147, 77, 1001, 70]) ➞ [10007, 1009]\n",
    "\n",
    "# filter_primes([1009, 10, 10, 10, 3, 33, 9, 4, 1, 61, 63, 69, 1087, 1091, 1093, 1097]) ➞ [1009, 3, 61, 1087, 1091, 1093, 1097]\n",
    "from math import sqrt,ceil\n",
    "def is_prime(num):\n",
    "    #print(num)\n",
    "    if num%2==0:return False\n",
    "    for i in range(2,ceil(sqrt(num))+1):\n",
    "        #print(num,i)\n",
    "        if num%i==0:\n",
    "            return False\n",
    "    return True\n",
    "\n",
    "def filter_primes(lst):\n",
    "    new_lst=[]\n",
    "    for i in lst:\n",
    "        if is_prime(i):\n",
    "            new_lst.append(i)\n",
    "    return new_lst\n",
    "\n",
    "print(filter_primes([7, 9, 3, 9, 10, 11, 27]))\n",
    "print(filter_primes([10007, 1009, 1007, 27, 147, 77, 1001, 70]))\n",
    "print(filter_primes([1009, 10, 10, 10, 3, 33, 9, 4, 1, 61, 63, 69, 1087, 1091, 1093, 1097]))"
   ]
  },
  {
   "cell_type": "code",
   "execution_count": 55,
   "id": "d056c5b8",
   "metadata": {},
   "outputs": [
    {
     "name": "stdout",
     "output_type": "stream",
     "text": [
      "[0, 1, 2, 3, 4, 3, 2, 1, 0]\n",
      "[0, 1, 2, 3, 2, 1, 0]\n",
      "[0, 1, 2, 1, 0]\n",
      "[0]\n"
     ]
    }
   ],
   "source": [
    "# 2. Once a water balloon pops, is soaks the area around it. The ground gets drier the further away you travel from the balloon.\n",
    "\n",
    "# The effect of a water balloon popping can be modeled using a list. Create a function that takes a list which takes the pre-pop state and returns the state after the balloon is popped. The pre-pop state will contain at most a single balloon, whose size is represented by the only non-zero element.\n",
    "\n",
    "# Examples\n",
    "\n",
    "# pop([0, 0, 0, 0, 4, 0, 0, 0, 0]) ➞ [0, 1, 2, 3, 4, 3, 2, 1, 0]\n",
    "\n",
    "# pop([0, 0, 0, 3, 0, 0, 0]) ➞ [0, 1, 2, 3, 2, 1, 0]\n",
    "\n",
    "# pop([0, 0, 2, 0, 0]) ➞ [0, 1, 2, 1, 0]\n",
    "\n",
    "# pop([0]) ➞ [0]\n",
    "\n",
    "def pop(lst):\n",
    "    ind=0\n",
    "    for i in lst:\n",
    "        if i >0:\n",
    "            ind=lst.index(i)\n",
    "    for i in range(ind):\n",
    "        lst[i]=i\n",
    "    for j in range(ind-1,0,-1):        \n",
    "        lst[j+ind]=ind-j        \n",
    "    return lst\n",
    "        \n",
    "print(pop([0, 0, 0, 0, 4, 0, 0, 0, 0]))\n",
    "print(pop([0, 0, 0, 3, 0, 0, 0]))\n",
    "print(pop([0, 0, 2, 0, 0]))\n",
    "print(pop([0]))"
   ]
  },
  {
   "cell_type": "code",
   "execution_count": 12,
   "id": "6d2fbd62",
   "metadata": {},
   "outputs": [
    {
     "name": "stdout",
     "output_type": "stream",
     "text": [
      "Loves me,Loves me not,LOVES ME\n",
      "Loves me,Loves me not,Loves me,Loves me not,Loves me,LOVES ME NOT\n",
      "LOVES ME\n"
     ]
    }
   ],
   "source": [
    "# 3. \"Loves me, loves me not\" is a traditional game in which a person plucks off all the petals of a flower one by one, saying the phrase \"Loves me\" and \"Loves me not\" when determining whether the one that they love, loves them back.\n",
    "\n",
    "# Given a number of petals, return a string which repeats the phrases \"Loves me\" and \"Loves me not\" for every alternating petal, and return the last phrase in all caps. Remember to put a comma and space between phrases.\n",
    "\n",
    "# Examples\n",
    "\n",
    "# loves_me(3) ➞ \"Loves me, Loves me not, LOVES ME\"\n",
    "\n",
    "# loves_me(6) ➞ \"Loves me, Loves me not, Loves me, Loves me not, Loves me, LOVES ME NOT\"\n",
    "\n",
    "# loves_me(1) ➞ \"LOVES ME\"\n",
    "\n",
    "def loves_me(n):\n",
    "    first = \"Loves me\"\n",
    "    app_str=first\n",
    "    second = \"Loves me not\"\n",
    "    out_str=''\n",
    "    for i in range(n-1):\n",
    "        out_str+=app_str + ','\n",
    "        if app_str ==first:\n",
    "            app_str = second\n",
    "        else:\n",
    "            app_str = first\n",
    "    out_str += str.upper(app_str)\n",
    "    return out_str\n",
    "\n",
    "print(loves_me(3))\n",
    "print(loves_me(6))\n",
    "print(loves_me(1))"
   ]
  },
  {
   "cell_type": "code",
   "execution_count": 37,
   "id": "1bb1e0f1",
   "metadata": {},
   "outputs": [],
   "source": [
    "# 4. Write a function that sorts each string in a list by the letter in alphabetic ascending order (a-z).\n",
    "\n",
    "# Examples\n",
    "\n",
    "# sort_by_letter([\"932c\", \"832u32\", \"2344b\"])\n",
    "# ➞ [\"2344b\", \"932c\", \"832u32\"]\n",
    "\n",
    "# sort_by_letter([\"99a\", \"78b\", \"c2345\", \"11d\"])\n",
    "# ➞ [\"99a\", \"78b\", \"c2345\", \"11d\"]\n",
    "\n",
    "# sort_by_letter([\"572z\", \"5y5\", \"304q2\"])\n",
    "# ➞ [\"304q2\", \"5y5\", \"572z\"]\n",
    "\n",
    "# sort_by_letter([])\n",
    "# ➞ []\n",
    "\n",
    "def sort_by_letter(temp_lst):\n",
    "    min_lst=[]   \n",
    "    lst=temp_lst\n",
    "    min_val=lst[0]\n",
    "    while len(lst)>0:\n",
    "        i = lst[0]\n",
    "        for j in range(0,len(lst)): \n",
    "            print(lst[j][0])\n",
    "            if ord(i[0])< ord(lst[j][0]):\n",
    "                min_val=i[0]\n",
    "                print(min_val)\n",
    "            else:\n",
    "                min_val=lst[j]\n",
    "            lst.remove(min_val)\n",
    "            min_lst.append(min_val)\n",
    "    print(min_lst)   \n",
    "sort_by_letter([\"932c\", \"832u32\", \"2344b\"])"
   ]
  },
  {
   "cell_type": "code",
   "execution_count": 36,
   "id": "9b60c444",
   "metadata": {},
   "outputs": [
    {
     "name": "stdout",
     "output_type": "stream",
     "text": [
      "C\n"
     ]
    }
   ],
   "source": [
    "# 5. There are three cups on a table, at positions A, B, and C. At the start, there is a ball hidden under the cup at position B.\n",
    "\n",
    "\n",
    "# However, I perform several swaps on the cups, which is notated as two letters. For example, if I swap the cups at positions A and B, I could notate this as AB or BA.\n",
    "\n",
    "# Create a function that returns the letter position that the ball is at, once I finish swapping the cups. The swaps will be given to you as a list.\n",
    "\n",
    "# Example\n",
    "\n",
    "# cup_swapping([\"AB\", \"CA\", \"AB\"]) ➞ \"C\"\n",
    "\n",
    "# # Ball begins at position B.\n",
    "# # Cups A and B swap, so the ball is at position A.\n",
    "# # Cups C and A swap, so the ball is at position C.\n",
    "# # Cups A and B swap, but the ball is at position C, so it doesn't move.\n",
    "\n",
    "def cup_swapping(lst):\n",
    "    position='B'\n",
    "    for i in lst:\n",
    "        if position in i:\n",
    "            position=i.strip(position)\n",
    "    print(position)\n",
    "        \n",
    "cup_swapping([\"AB\", \"CA\", \"AB\"])           \n",
    "            "
   ]
  }
 ],
 "metadata": {
  "kernelspec": {
   "display_name": "Python 3",
   "language": "python",
   "name": "python3"
  },
  "language_info": {
   "codemirror_mode": {
    "name": "ipython",
    "version": 3
   },
   "file_extension": ".py",
   "mimetype": "text/x-python",
   "name": "python",
   "nbconvert_exporter": "python",
   "pygments_lexer": "ipython3",
   "version": "3.8.8"
  }
 },
 "nbformat": 4,
 "nbformat_minor": 5
}
