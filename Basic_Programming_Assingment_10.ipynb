{
 "cells": [
  {
   "cell_type": "code",
   "execution_count": 1,
   "id": "4f3194ae",
   "metadata": {},
   "outputs": [
    {
     "name": "stdout",
     "output_type": "stream",
     "text": [
      "Sum of elememts:  20\n"
     ]
    }
   ],
   "source": [
    "# 1.\tWrite a Python program to find sum of elements in list?\n",
    "\n",
    "def listsum(l):\n",
    "    sum=0\n",
    "    for i in l:\n",
    "        sum+=int(i)\n",
    "    return sum\n",
    "\n",
    "l=[2,3,4,5,6]\n",
    "print('Sum of elememts: ',listsum(l))"
   ]
  },
  {
   "cell_type": "code",
   "execution_count": 3,
   "id": "64cabe51",
   "metadata": {},
   "outputs": [
    {
     "name": "stdout",
     "output_type": "stream",
     "text": [
      "Sum of elememts:  720\n"
     ]
    }
   ],
   "source": [
    "# 2.\tWrite a Python program to  Multiply all numbers in the list?\n",
    "def listmul(l):\n",
    "    sum=1\n",
    "    for i in l:\n",
    "        sum*=int(i)\n",
    "    return sum\n",
    "\n",
    "l=[2,3,4,5,6]\n",
    "print('Multiplication of elememts: ',listmul(l))\n"
   ]
  },
  {
   "cell_type": "code",
   "execution_count": 12,
   "id": "ff178ea1",
   "metadata": {},
   "outputs": [
    {
     "name": "stdout",
     "output_type": "stream",
     "text": [
      "smallest number in list is:  4\n"
     ]
    }
   ],
   "source": [
    "# 3.\tWrite a Python program to find smallest number in a list?\n",
    "def smallestnum(l):\n",
    "    min=l[0]\n",
    "    for i  in l:\n",
    "        if i < min:\n",
    "            min=i\n",
    "    return min\n",
    "l=[20,30,4,5,6]\n",
    "print(\"smallest number in list is: \",smallestnum(l))"
   ]
  },
  {
   "cell_type": "code",
   "execution_count": 13,
   "id": "59c5be41",
   "metadata": {},
   "outputs": [
    {
     "name": "stdout",
     "output_type": "stream",
     "text": [
      "largest number in list is:  30\n"
     ]
    }
   ],
   "source": [
    "# 4.\tWrite a Python program to find largest number in a list?\n",
    "def largestnum(l):\n",
    "    max=l[0]\n",
    "    for i  in l:\n",
    "        if i > max:\n",
    "            max=i\n",
    "    return max\n",
    "l=[20,30,4,5,6]\n",
    "print(\"largest number in list is: \",largestnum(l))"
   ]
  },
  {
   "cell_type": "code",
   "execution_count": 59,
   "id": "8a26fcc1",
   "metadata": {},
   "outputs": [
    {
     "name": "stdout",
     "output_type": "stream",
     "text": [
      "Second largest number in list is:  300\n"
     ]
    }
   ],
   "source": [
    "# 5.\tWrite a Python program to find second largest number in a list?\n",
    "def Secondlargestnum(l,n):\n",
    "    max=-9999\n",
    "    max_list=[]\n",
    "    for j in range(len(l)):\n",
    "        for i  in range(len(l)):      \n",
    "            if l[i] > max and l[i] not in max_list :                \n",
    "                max=l[i]                     \n",
    "        max_list.append(max)\n",
    "        max=-9999  \n",
    "    return max_list[n-1]\n",
    "l=[6,20,300,400,5]\n",
    "print(\"Second largest number in list is: \",Secondlargestnum(l,2))    "
   ]
  },
  {
   "cell_type": "code",
   "execution_count": 67,
   "id": "9dde7b87",
   "metadata": {},
   "outputs": [
    {
     "name": "stdout",
     "output_type": "stream",
     "text": [
      "Second largest number in list is:  [456, 400, 300, 20, 6]\n"
     ]
    }
   ],
   "source": [
    "# 6.\tWrite a Python program to find N largest elements from a list?\n",
    "def Nlargestnum(l,n):\n",
    "    max=-9999\n",
    "    l=set(l)\n",
    "    l=list(l)\n",
    "    max_list=[]\n",
    "    for j in range(len(l)):\n",
    "        for i  in range(len(l)):      \n",
    "            if l[i] > max and l[i] not in max_list :                \n",
    "                max=l[i]                     \n",
    "        max_list.append(max)\n",
    "        max=-9999    \n",
    "    return max_list[0:n]\n",
    "l=[6,20,300,400,5,456,400]\n",
    "print(\"Second largest number in list is: \",Nlargestnum(l,5))   # to get 5 highest nums from list l\n"
   ]
  },
  {
   "cell_type": "code",
   "execution_count": 68,
   "id": "fdd0781c",
   "metadata": {},
   "outputs": [
    {
     "data": {
      "text/plain": [
       "[6, 20, 456, 400]"
      ]
     },
     "execution_count": 68,
     "metadata": {},
     "output_type": "execute_result"
    }
   ],
   "source": [
    "# 7.\tWrite a Python program to print even numbers in a list?\n",
    "def getEven(l):\n",
    "    temp=[]\n",
    "    for i in l:\n",
    "        if i%2 ==0:\n",
    "            temp.append(i)\n",
    "    return temp\n",
    "\n",
    "getEven([6,20,301,401,5,456,400])"
   ]
  },
  {
   "cell_type": "code",
   "execution_count": 70,
   "id": "b42c4154",
   "metadata": {},
   "outputs": [
    {
     "data": {
      "text/plain": [
       "[301, 401, 5]"
      ]
     },
     "execution_count": 70,
     "metadata": {},
     "output_type": "execute_result"
    }
   ],
   "source": [
    "# 8.\tWrite a Python program to print odd numbers in a List?\n",
    "def getOdd(l):\n",
    "    temp=[]\n",
    "    for i in l:\n",
    "        if i%2 !=0:\n",
    "            temp.append(i)\n",
    "    return temp\n",
    "\n",
    "getOdd([6,20,301,401,5,456,400])"
   ]
  },
  {
   "cell_type": "code",
   "execution_count": 81,
   "id": "54f6c128",
   "metadata": {},
   "outputs": [
    {
     "data": {
      "text/plain": [
       "[3, 4, 6, 7, [44]]"
      ]
     },
     "execution_count": 81,
     "metadata": {},
     "output_type": "execute_result"
    }
   ],
   "source": [
    "# 9.\tWrite a Python program to Remove empty List from List?\n",
    "def removeempty(l):\n",
    "    for i in l:\n",
    "        if type(i)==list and len(i)==0:\n",
    "            l.remove([])\n",
    "    return l\n",
    "\n",
    "l=[3,4,6,7,[],[44],[]]\n",
    "\n",
    "removeempty(l)"
   ]
  },
  {
   "cell_type": "code",
   "execution_count": 83,
   "id": "449ded6b",
   "metadata": {},
   "outputs": [
    {
     "name": "stdout",
     "output_type": "stream",
     "text": [
      "[4, 56, 7, 88, 3]\n"
     ]
    }
   ],
   "source": [
    "# 10.\tWrite a Python program to Cloning or Copying a list?\n",
    "def listcopy(l):\n",
    "    return l\n",
    "s=listcopy([4,56,7,88,3])\n",
    "print(s)"
   ]
  },
  {
   "cell_type": "code",
   "execution_count": 86,
   "id": "879a8d97",
   "metadata": {},
   "outputs": [
    {
     "data": {
      "text/plain": [
       "3"
      ]
     },
     "execution_count": 86,
     "metadata": {},
     "output_type": "execute_result"
    }
   ],
   "source": [
    "# 11.\tWrite a Python program to Count occurrences of an element in a list?\n",
    "def occurencecount(l,ele):\n",
    "    count=0\n",
    "    for i in l:\n",
    "        if i==ele:\n",
    "            count+=1\n",
    "    return count\n",
    "\n",
    "occurencecount([4,56,7,8,3,8,8,2],8)  # Occurence count for 8"
   ]
  }
 ],
 "metadata": {
  "kernelspec": {
   "display_name": "Python 3",
   "language": "python",
   "name": "python3"
  },
  "language_info": {
   "codemirror_mode": {
    "name": "ipython",
    "version": 3
   },
   "file_extension": ".py",
   "mimetype": "text/x-python",
   "name": "python",
   "nbconvert_exporter": "python",
   "pygments_lexer": "ipython3",
   "version": "3.8.8"
  }
 },
 "nbformat": 4,
 "nbformat_minor": 5
}
