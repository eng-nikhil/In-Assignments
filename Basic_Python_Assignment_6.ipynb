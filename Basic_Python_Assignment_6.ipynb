{
 "cells": [
  {
   "cell_type": "raw",
   "id": "b10fb457",
   "metadata": {},
   "source": [
    "1. What are escape characters, and how do you use them?\n",
    "Ans: \\n -> new line\n",
    "     \\t-> Horizontal tab\n",
    "     \\v -> Vertical Tab\n",
    "     \\r -> carriage return\n",
    "     \\b -> back space\n",
    "     \\f-> Form feed\n",
    "     \\' -> Single quote\n",
    "     \\\" -> Double quote\n",
    "     \\\\->  Back Slash"
   ]
  },
  {
   "cell_type": "raw",
   "id": "5ff13ba6",
   "metadata": {},
   "source": [
    "2. What do the escape characters n and t stand for?\n",
    "Ans: n -> New line\n",
    "     t -> Horizontal tab"
   ]
  },
  {
   "cell_type": "raw",
   "id": "8f67ca2b",
   "metadata": {},
   "source": [
    "3. What is the way to include backslash characters in a string\n",
    "Ans: \\\\"
   ]
  },
  {
   "cell_type": "raw",
   "id": "8e8c7389",
   "metadata": {},
   "source": [
    "4. The string \"Howl's Moving Castle\" is a correct value. Why isn't the single quote character in the word Howl's not escaped a problem?\n",
    "Ans: In case we want to print Single quote(') in string complete string can be quoted by double quote that is reason above string has no issue.basically, \" looks for \" as end.                        "
   ]
  },
  {
   "cell_type": "raw",
   "id": "8dd2f38f",
   "metadata": {},
   "source": [
    "5. How do you write a string of newlines if you don't want to use the n character?\n",
    "Ans: Use new print or use in print('<str>,end='\\n')"
   ]
  },
  {
   "cell_type": "raw",
   "id": "6f234487",
   "metadata": {},
   "source": [
    "6. What are the values of the given expressions?\n",
    "'Hello, world!'[1]   -> e\n",
    "'Hello, world!'[0:5]  -> Hello\n",
    "'Hello, world!'[:5]   -> Hello\n",
    "'Hello, world!'[3:]   -> lo, world!"
   ]
  },
  {
   "cell_type": "raw",
   "id": "1e42b692",
   "metadata": {},
   "source": [
    "7. What are the values of the following expressions?\n",
    "'Hello'.upper()            -> HELLO\n",
    "'Hello'.upper().isupper()  -> True\n",
    "'Hello'.upper().lower()    -> hello"
   ]
  },
  {
   "cell_type": "raw",
   "id": "8b394b0c",
   "metadata": {},
   "source": [
    "8. What are the values of the following expressions?\n",
    "'Remember, remember, the fifth of July.'.split()   -> ['Remember,', 'remember,', 'the', 'fifth', 'of', 'July.']\n",
    "'-'.join('There can only one.'.split())  -> 'There-can-only-one.'"
   ]
  },
  {
   "cell_type": "raw",
   "id": "935209ce",
   "metadata": {},
   "source": [
    "9. What are the methods for right-justifying, left-justifying, and centering a string?\n",
    "Ans:str1.ljust(<total length>,<filler char>)\n",
    "    str1.rjust(<total length>,<filler char>)\n",
    "    str1.center(<total length>,<filler char>)\n",
    "eg: str1= \"Abcdef\"\n",
    "    str1.ljust(25,'#')"
   ]
  },
  {
   "cell_type": "raw",
   "id": "57effee3",
   "metadata": {},
   "source": [
    "10. What is the best way to remove whitespace characters from the start or end?\n",
    "Ans: str1.rstrip()  -> Remove spaces from end\n",
    "    str1.lstrip() -> Remove spaces from start\n",
    "    str1.strip() -> Remove spaces from start and end"
   ]
  }
 ],
 "metadata": {
  "kernelspec": {
   "display_name": "Python 3",
   "language": "python",
   "name": "python3"
  },
  "language_info": {
   "codemirror_mode": {
    "name": "ipython",
    "version": 3
   },
   "file_extension": ".py",
   "mimetype": "text/x-python",
   "name": "python",
   "nbconvert_exporter": "python",
   "pygments_lexer": "ipython3",
   "version": "3.8.8"
  }
 },
 "nbformat": 4,
 "nbformat_minor": 5
}
