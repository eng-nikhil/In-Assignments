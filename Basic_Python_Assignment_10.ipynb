{
 "cells": [
  {
   "cell_type": "raw",
   "id": "4f31cbb0",
   "metadata": {},
   "source": [
    "1. How do you distinguish between shutil.copy() and shutil.copytree()?\n",
    "Ans:shutil.copy() -> Copies Single File\n",
    "    shutil.copytree() -> Copies complete folder ,subfolders and files\n",
    "    \n",
    "\n",
    "2. What function is used to rename files??\n",
    "Ans:shutil.move()\n",
    "    \n",
    "3. What is the difference between the delete functions in the send2trash and shutil modules?\n",
    "Ans: delete function deletes the file \n",
    "    send2trash -> sends file to recyclebin or trash possible to get the file again, safer approach\n",
    "    \n",
    "4.ZipFile objects have a close() method just like File objects’ close() method. What ZipFile method is equivalent to File objects’ open() method?\n",
    "Ans: close() is used to close the ZipFile after extraction or writing\n",
    "     zipfile.ZipFile can be used to write same as open()\n",
    "    \n",
    "\n"
   ]
  },
  {
   "cell_type": "code",
   "execution_count": 43,
   "id": "5f2ec465",
   "metadata": {},
   "outputs": [
    {
     "name": "stdout",
     "output_type": "stream",
     "text": [
      "Files Copied to new dir\n"
     ]
    }
   ],
   "source": [
    "# 5. Create a programme that searches a folder tree for files with a certain file extension (such as .pdf or .jpg). Copy these files from whatever location they are in to a new folder.\n",
    "# Ans:\n",
    "import shutil\n",
    "def move_files(curr_dir,new_dir,filter_ext):\n",
    "    mv_list=[]\n",
    "    for path, subdirs, files in os.walk(curr_dir):\n",
    "        for name in files:\n",
    "            if name[name.index('.'):] in filter_ext:\n",
    "                mv_list.append(os.path.join(path, name))\n",
    "    try:\n",
    "        for i in mv_list:\n",
    "            shutil.copy(i,new_dir)\n",
    "        print('Files Copied to new dir')\n",
    "    except Exception as e:\n",
    "        print(e)\n",
    "        \n",
    "    \n",
    "curr_dir=\"E:\\\\Ineuron_Assignment\\\\Basic_Python\"\n",
    "new_dir = \"E:\\\\Ineuron_Assignment\\\\Basic_Python\\\\mytest_dir\"\n",
    "filter_ext=['.docx','.jpg','.pdf']\n",
    "move_files(curr_dir,new_dir,filter_ext)"
   ]
  }
 ],
 "metadata": {
  "kernelspec": {
   "display_name": "Python 3",
   "language": "python",
   "name": "python3"
  },
  "language_info": {
   "codemirror_mode": {
    "name": "ipython",
    "version": 3
   },
   "file_extension": ".py",
   "mimetype": "text/x-python",
   "name": "python",
   "nbconvert_exporter": "python",
   "pygments_lexer": "ipython3",
   "version": "3.8.8"
  }
 },
 "nbformat": 4,
 "nbformat_minor": 5
}
