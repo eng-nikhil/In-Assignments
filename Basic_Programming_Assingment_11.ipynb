{
 "cells": [
  {
   "cell_type": "code",
   "execution_count": 3,
   "id": "0419492b",
   "metadata": {},
   "outputs": [
    {
     "name": "stdout",
     "output_type": "stream",
     "text": [
      "Abcdsd\n",
      "asddffe\n"
     ]
    }
   ],
   "source": [
    "# 1.\tWrite a Python program to find words which are greater than given length k?\n",
    "\n",
    "def findwords(l,k):\n",
    "    for i in l:\n",
    "        if len(i)>k:\n",
    "            print(i)\n",
    "\n",
    "findwords(['Abcdsd','asddffe','dd','ert','e'],3)  # k=3"
   ]
  },
  {
   "cell_type": "code",
   "execution_count": 5,
   "id": "58876475",
   "metadata": {},
   "outputs": [
    {
     "data": {
      "text/plain": [
       "'ABDE'"
      ]
     },
     "execution_count": 5,
     "metadata": {},
     "output_type": "execute_result"
    }
   ],
   "source": [
    "# 2.\tWrite a Python program for removing i-th character from a string?\n",
    "def removechar(str,i):\n",
    "    temp=[]\n",
    "    for j in range(len(str)):\n",
    "        if j !=i-1:\n",
    "            temp.append(str[j])\n",
    "    return ''.join(temp)\n",
    "\n",
    "removechar('ABCDE',3)  #Removing  3rd char"
   ]
  },
  {
   "cell_type": "code",
   "execution_count": 13,
   "id": "692189a9",
   "metadata": {},
   "outputs": [
    {
     "name": "stdout",
     "output_type": "stream",
     "text": [
      "ABCDE Splits:  ['A', 'B', 'C', 'D', 'E']\n",
      "['A', 'B', 'C', 'D', 'E'] Joins:  ABCDE\n"
     ]
    }
   ],
   "source": [
    "# 3.\tWrite a Python program to split and join a string?\n",
    "def split(str):\n",
    "    l=[]\n",
    "    for i in str:\n",
    "        l.append(i)\n",
    "    return l\n",
    "\n",
    "\n",
    "def join(l):\n",
    "    str=''\n",
    "    for i in l:\n",
    "        str+=i\n",
    "    return str\n",
    "org_str='ABCDE'\n",
    "gen_list=split(org_str)\n",
    "print(org_str,'Splits: ', gen_list)\n",
    "gen_str=join(gen_list)\n",
    "print(gen_list,'Joins: ', gen_str)"
   ]
  },
  {
   "cell_type": "code",
   "execution_count": 23,
   "id": "79f45f3e",
   "metadata": {},
   "outputs": [
    {
     "name": "stdout",
     "output_type": "stream",
     "text": [
      "10101  is binary string?  True\n"
     ]
    }
   ],
   "source": [
    "# 4.\tWrite a Python to check if a given string is binary string or not?\n",
    "def isBinary(str):\n",
    "    for i in str:      \n",
    "        if i not in ['0','1']:\n",
    "            return False\n",
    "    return True\n",
    "str='10101'\n",
    "print(str ,' is binary string? ', isBinary('10101'))"
   ]
  },
  {
   "cell_type": "code",
   "execution_count": 26,
   "id": "3c99008f",
   "metadata": {},
   "outputs": [
    {
     "data": {
      "text/plain": [
       "['B', 'C', 'R']"
      ]
     },
     "execution_count": 26,
     "metadata": {},
     "output_type": "execute_result"
    }
   ],
   "source": [
    "# 5.\tWrite a Python program to find uncommon words from two Strings?\n",
    "def uncommon(str1,str2):\n",
    "    l=[]\n",
    "    for i in str1:\n",
    "        if i not in str2:\n",
    "            l.append(i)\n",
    "    for j in str2:\n",
    "        if j not in str1 and j not in l:\n",
    "            l.append(j)\n",
    "    return l\n",
    "uncommon('ABCDE','ADER')"
   ]
  },
  {
   "cell_type": "code",
   "execution_count": 41,
   "id": "c28ad2eb",
   "metadata": {},
   "outputs": [
    {
     "data": {
      "text/plain": [
       "['A', 'F']"
      ]
     },
     "execution_count": 41,
     "metadata": {},
     "output_type": "execute_result"
    }
   ],
   "source": [
    "# 6.\tWrite a Python to find all duplicate characters in string?\n",
    "def dupchars(str):\n",
    "    l=[]\n",
    "    for i in range(len(str)):    \n",
    "        for j in range(i+1,len(str)):            \n",
    "            if str[i]==str[j] and str[i] not in l:                \n",
    "                l.append(str[i])\n",
    "    return l\n",
    "\n",
    "dupchars('ADFFAF')          \n",
    "        "
   ]
  },
  {
   "cell_type": "code",
   "execution_count": 59,
   "id": "7c248644",
   "metadata": {},
   "outputs": [
    {
     "name": "stdout",
     "output_type": "stream",
     "text": [
      "True\n"
     ]
    }
   ],
   "source": [
    "# 7.\tWrite a Python Program to check if a string contains any special character?\n",
    "\n",
    "def isSpecialChar(str):\n",
    "    for i in str:\n",
    "        ord_i=ord(i)\n",
    "        if (ord_i >= 65 and ord_i <=90) or (ord_i >= 97 and ord_i <=122):\n",
    "            sp_char=False\n",
    "        else:\n",
    "            sp_char=True\n",
    "            return sp_char\n",
    "    return sp_char\n",
    "    \n",
    "print(isSpecialChar('ADVFGG?'))"
   ]
  }
 ],
 "metadata": {
  "kernelspec": {
   "display_name": "Python 3",
   "language": "python",
   "name": "python3"
  },
  "language_info": {
   "codemirror_mode": {
    "name": "ipython",
    "version": 3
   },
   "file_extension": ".py",
   "mimetype": "text/x-python",
   "name": "python",
   "nbconvert_exporter": "python",
   "pygments_lexer": "ipython3",
   "version": "3.8.8"
  }
 },
 "nbformat": 4,
 "nbformat_minor": 5
}
