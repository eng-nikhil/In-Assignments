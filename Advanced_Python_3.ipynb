{
 "cells": [
  {
   "cell_type": "raw",
   "id": "f528eeea",
   "metadata": {},
   "source": [
    "1. What is the concept of an abstract superclass?\n",
    "Ans: Abstract classes may not be instantiated, and its abstract methods must be implemented by its subclasses.\n",
    "\n",
    "\n",
    "2. What happens when a class statement's top level contains a basic assignment statement?\n",
    "Ans: It may be static variable.\n",
    "\n",
    "\n",
    "3. Why does a class need to manually call a superclass's __init__ method?\n",
    "Ans: There will be some initialization/activities in the base class _init_ function will not be done when child object created\n",
    "     Base class __init__ constructor need explicit call(if required) on child object creation \n",
    "\n",
    "\n",
    "4. How can you augment, instead of completely replacing, an inherited method?\n",
    "Ans: augment method is like not inheriting the method but using same definition.\n",
    "     Can be used with decorators.\n",
    "\n",
    "5. How is the local scope of a class different from that of a function?\n",
    "\n",
    "Ans:Declaring a variable at the top level of the class is like declaring a static or class variable.\n",
    "    These class variables are local to class but can be accessed from outside and can be shared between the objects of class,\n",
    "    Local variables of a function has scope with in the function block can't be accessed outside of block.\n",
    "    \n",
    "\n"
   ]
  }
 ],
 "metadata": {
  "kernelspec": {
   "display_name": "Python 3",
   "language": "python",
   "name": "python3"
  },
  "language_info": {
   "codemirror_mode": {
    "name": "ipython",
    "version": 3
   },
   "file_extension": ".py",
   "mimetype": "text/x-python",
   "name": "python",
   "nbconvert_exporter": "python",
   "pygments_lexer": "ipython3",
   "version": "3.8.8"
  }
 },
 "nbformat": 4,
 "nbformat_minor": 5
}
