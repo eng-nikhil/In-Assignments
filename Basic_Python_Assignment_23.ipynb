{
 "cells": [
  {
   "cell_type": "raw",
   "id": "334be88b",
   "metadata": {},
   "source": [
    "1. What is the result of the code, and why?\n",
    "def func(a, b=6, c=8):\n",
    "    print(a, b, c)\n",
    "func(1, 2)\n",
    "\n",
    "Ans: 1 2 8\n",
    "    value of a is always expected.\n",
    "    In case value of b not passed 6 will be considered in this case value of b is passed as 2 so that has been considered\n",
    "    Value of c is not passed so default 8 is considered"
   ]
  },
  {
   "cell_type": "raw",
   "id": "fb2f8cfc",
   "metadata": {},
   "source": [
    "2. What is the result of this code, and why?\n",
    "def func(a, b, c=5):\n",
    "    print(a, b, c)\n",
    "func(1, c=3, b=2)\n",
    "\n",
    "Ans: 1 2 3\n",
    "     Value of a is passed as positinal argument.\n",
    "     b and c passed with name-val combination\n"
   ]
  },
  {
   "cell_type": "raw",
   "id": "b6c9b0c1",
   "metadata": {},
   "source": [
    "3. How about this code: what is its result, and why?\n",
    "def func(a, *pargs):\n",
    "    print(a, pargs)\n",
    "func(1, 2, 3)\n",
    "\n",
    "Ans: 1 (2, 3)\n",
    "    First parameter i.e. a is passed as postional.\n",
    "    Since * is used in pargs function pass these values as tuple to function.\n"
   ]
  },
  {
   "cell_type": "raw",
   "id": "c67667bd",
   "metadata": {},
   "source": [
    "4. What does this code print, and why?\n",
    "def func(a, **kargs):\n",
    "    print(a, kargs)\n",
    "func(a=1, c=3, b=2)\n",
    "\n",
    "Ans: 1 {'c': 3, 'b': 2}\n",
    "    First parameter i.e. a is passed as postional.\n",
    "    Since ** used with kargs which refers to passing dictonary(Key value Pairs) to the function"
   ]
  },
  {
   "cell_type": "raw",
   "id": "6e06dd7d",
   "metadata": {},
   "source": [
    "5. What gets printed by this, and explain?\n",
    "def func(a, b, c=8, d=5): print(a, b, c, d)\n",
    "func(1, *(5, 6))\n",
    "\n",
    "Ans: 1 5 6 5\n",
    "    a is passed as postional.\n",
    "    b and c are passed in tuple for b and c variable\n",
    "    d by default set to 5 as missing in call."
   ]
  },
  {
   "cell_type": "raw",
   "id": "057bc58f",
   "metadata": {},
   "source": [
    "6. what is the result of this, and explain?\n",
    "def func(a, b, c): \n",
    "    a = 2; \n",
    "    b[0] = 'x'; \n",
    "    c['a'] = 'y'\n",
    "    \n",
    "l=1; \n",
    "m=[1]; \n",
    "n={'a':0}\n",
    "\n",
    "func(l, m, n)\n",
    "print(l, m, n)\n",
    "\n",
    "Ans: 1 ['x'] {'a': 'y'}\n",
    "    When a mutable object like a list or dict is passed to a function, it performs call-by-reference. \n",
    "    That is the reason b[0] and c['a'] updated \n",
    "    \n",
    "    When an immutable object like a number, string, or tuple is passed to a function, it performs call-by-value.\n",
    "    that is the reason l is not updated.  \n",
    "    "
   ]
  }
 ],
 "metadata": {
  "kernelspec": {
   "display_name": "Python 3",
   "language": "python",
   "name": "python3"
  },
  "language_info": {
   "codemirror_mode": {
    "name": "ipython",
    "version": 3
   },
   "file_extension": ".py",
   "mimetype": "text/x-python",
   "name": "python",
   "nbconvert_exporter": "python",
   "pygments_lexer": "ipython3",
   "version": "3.8.8"
  }
 },
 "nbformat": 4,
 "nbformat_minor": 5
}
