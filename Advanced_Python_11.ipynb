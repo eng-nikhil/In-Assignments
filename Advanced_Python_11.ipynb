{
 "cells": [
  {
   "cell_type": "raw",
   "id": "5586ca19",
   "metadata": {},
   "source": [
    "Q1. What is the concept of a metaclass?\n",
    "Ans: A metaclass in Python is a class of a class that defines how a class behaves.\n",
    "     A class is itself an instance of a metaclass. A class in Python defines how the instance of the class will behave.\n",
    "    \n",
    "\n",
    "Q2. What is the best way to declare a class's metaclass?\n",
    "Ans:The method that custom metaclasses should implement is the __new__ method. \n",
    "    The arguments mentioned in the __new__  method of metaclasses reflects in the __new__ method of type class. \n",
    "    It has four positional argument,as:\n",
    "    1. The first argument is the metaclass itself.\n",
    "    2. The second argument is the class name.\n",
    "    3. The third argument is the  superclasses (in the form of tuple)\n",
    "    4. The fourth argument is the attributes of class (in the form of dictionary)\n",
    "    eg:\n",
    "        class MetaCls(type):\n",
    "            def __new__(cls, clsname, superclasses, attributedict):\n",
    "                print(\"clsname:\", clsname)\n",
    "                print(\"superclasses:\", superclasses)\n",
    "                print(\"attrdict:\", attributedict)\n",
    "                return super(MetaCls, cls).__new__(cls,clsname, superclasses, attributedict)\n",
    "\n",
    "        C = MetaCls('C', (object, ), {})\n",
    "        print(\"class type:\", type(C))\n",
    "\n",
    "Q3. How do class decorators overlap with metaclasses for handling classes?\n",
    "Ans:\n",
    "    A class decorator is a simple function that receives a class instance as a parameter and returns either a new class or a modified version of the original class.\n",
    "    Class decorators are useful when you want to modify every method or attribute of a class with minimal boilerplate.\n",
    "    Metaclasses can’t be composed together easily, while many class decorators can be used to extend the same class without conflicts.\n",
    "\n",
    "\n",
    "Q4. How do class decorators overlap with metaclasses for handling instances?\n",
    "Ans: A class decorator is a simple function that receives a class instance as a parameter and returns either a new class or a modified version of the original class.\n",
    "    Class decorators are useful when you want to modify every method or attribute of a class with minimal boilerplate.\n",
    "    Metaclasses can’t be composed together easily, while many class decorators can be used to extend the same class without conflicts.\n"
   ]
  }
 ],
 "metadata": {
  "kernelspec": {
   "display_name": "Python 3",
   "language": "python",
   "name": "python3"
  },
  "language_info": {
   "codemirror_mode": {
    "name": "ipython",
    "version": 3
   },
   "file_extension": ".py",
   "mimetype": "text/x-python",
   "name": "python",
   "nbconvert_exporter": "python",
   "pygments_lexer": "ipython3",
   "version": "3.8.8"
  }
 },
 "nbformat": 4,
 "nbformat_minor": 5
}
