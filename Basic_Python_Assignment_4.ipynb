{
 "cells": [
  {
   "cell_type": "raw",
   "id": "67a8272c",
   "metadata": {},
   "source": [
    "1. What exactly is []?\n",
    "Ans: List"
   ]
  },
  {
   "cell_type": "raw",
   "id": "56235f33",
   "metadata": {},
   "source": [
    "2. In a list of values stored in a variable called spam, how would you assign the value 'hello' as the third value? (Assume [2, 4, 6, 8, 10] are in spam.)\n",
    "Ans: spam.insert(2,'hello')"
   ]
  },
  {
   "cell_type": "raw",
   "id": "6e48a12f",
   "metadata": {},
   "source": [
    "Let's pretend the spam includes the list ['a', 'b', 'c', 'd'] for the next three queries."
   ]
  },
  {
   "cell_type": "raw",
   "id": "79d629a4",
   "metadata": {},
   "source": [
    "3. What is the value of spam[int(int('3' * 2) / 11)]?\n",
    "Ans: 'd'"
   ]
  },
  {
   "cell_type": "raw",
   "id": "76b1fe25",
   "metadata": {},
   "source": [
    "4. What is the value of spam[-1]?\n",
    "Ans: 'd'"
   ]
  },
  {
   "cell_type": "raw",
   "id": "e21b82df",
   "metadata": {},
   "source": [
    "5. What is the value of spam[:2]?\n",
    "Ans: ['a','b']\n"
   ]
  },
  {
   "cell_type": "raw",
   "id": "6420c192",
   "metadata": {},
   "source": [
    "Let's pretend bacon has the list [3.14, 'cat,' 11, 'cat,' True] for the next three questions."
   ]
  },
  {
   "cell_type": "raw",
   "id": "25b49323",
   "metadata": {},
   "source": [
    "6. What is the value of bacon.index('cat')?\n",
    "Ans: 1"
   ]
  },
  {
   "cell_type": "raw",
   "id": "e0de3390",
   "metadata": {},
   "source": [
    "7. How does bacon.append(99) change the look of the list value in bacon?\n",
    "Ans: [3.14, 'cat', 11, 'cat' ,True, 99]"
   ]
  },
  {
   "cell_type": "raw",
   "id": "2ab80101",
   "metadata": {},
   "source": [
    "8. How does bacon.remove('cat') change the look of the list in bacon?\n",
    "Ans: [3.14,  11, 'cat', True] \n",
    "    Remove only first occurence"
   ]
  },
  {
   "cell_type": "raw",
   "id": "251b7c09",
   "metadata": {},
   "source": [
    "9. What are the list concatenation and list replication operators?\n",
    "Ans: List concatenation: + \n",
    "     eg: l1+l2\n",
    "     List replication: *\n",
    "     eg: l1*2"
   ]
  },
  {
   "cell_type": "raw",
   "id": "e0f36c55",
   "metadata": {},
   "source": [
    "10. What is difference between the list methods append() and insert()?\n",
    "Ans: apend adds element at the end of the list\n",
    "     insert expects index as parameter and adds element at passed index."
   ]
  },
  {
   "cell_type": "raw",
   "id": "cf852cac",
   "metadata": {},
   "source": [
    "11. What are the two methods for removing items from a list?\n",
    "Ans: remove and pop"
   ]
  },
  {
   "cell_type": "raw",
   "id": "50f3126d",
   "metadata": {},
   "source": [
    "12. Describe how list values and string values are identical.\n",
    "Ans: Way of accessing list and string elements is same. \n",
    "    -elements/chars can be accessed by [index].\n",
    "    -even both supports [startindex:endindex:steps] also\n",
    "    -Diffrennce is list elements can be modified using index(l1[index]) but string chars can not(str1[index])."
   ]
  },
  {
   "cell_type": "raw",
   "id": "74b53d36",
   "metadata": {},
   "source": [
    "13. What's the difference between tuples and lists?\n",
    "Ans: Tuples are immutable but list are mutable\n",
    "     Tuples takes less memory but list take more.\n",
    "     Iterations are faster on tuples compare to list.\n",
    "     tuples to be used only when accessing of element is required in faster way\n",
    "     List to be used when frequent inserts and deletions required.\n",
    "  "
   ]
  },
  {
   "cell_type": "raw",
   "id": "adf58cdf",
   "metadata": {},
   "source": [
    "14. How do you type a tuple value that only contains the integer 42?\n",
    "Ans: t1=(42,)"
   ]
  },
  {
   "cell_type": "raw",
   "id": "71eaa066",
   "metadata": {},
   "source": [
    "15. How do you get a list value's tuple form? How do you get a tuple value's list form?\n",
    "Ans: t1=tuple(list1)\n",
    "     list1=list(t1)"
   ]
  },
  {
   "cell_type": "raw",
   "id": "2b3434b0",
   "metadata": {},
   "source": [
    "16. Variables that \"contain\" list values are not necessarily lists themselves. Instead, what do they contain?\n",
    "Ans:\n",
    "    Those variables containts reference only to the list elements(values)"
   ]
  },
  {
   "cell_type": "raw",
   "id": "78803992",
   "metadata": {},
   "source": [
    "17. How do you distinguish between copy.copy() and copy.deepcopy()?\n",
    "Ans: copy.copy()  -> Shallow copy i.e. do not create/copy data to new memory rather create refrence for same data/memory\n",
    "     copy.deepcopy() -> Deep Copy i.e Create/copy data to another memory location"
   ]
  }
 ],
 "metadata": {
  "kernelspec": {
   "display_name": "Python 3",
   "language": "python",
   "name": "python3"
  },
  "language_info": {
   "codemirror_mode": {
    "name": "ipython",
    "version": 3
   },
   "file_extension": ".py",
   "mimetype": "text/x-python",
   "name": "python",
   "nbconvert_exporter": "python",
   "pygments_lexer": "ipython3",
   "version": "3.8.8"
  }
 },
 "nbformat": 4,
 "nbformat_minor": 5
}
