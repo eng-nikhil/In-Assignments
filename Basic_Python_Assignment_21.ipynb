{
 "cells": [
  {
   "cell_type": "code",
   "execution_count": 7,
   "id": "09204fba",
   "metadata": {},
   "outputs": [],
   "source": [
    "# 1. Add the current date to the text file today.txt as a string.\n",
    "from datetime import date\n",
    "f=open('today.txt','w')\n",
    "cur_date=f'{date.today()}'\n",
    "f.write(cur_date)\n",
    "f.close()"
   ]
  },
  {
   "cell_type": "code",
   "execution_count": 8,
   "id": "30b07bed",
   "metadata": {},
   "outputs": [
    {
     "name": "stdout",
     "output_type": "stream",
     "text": [
      "2022-01-31\n"
     ]
    }
   ],
   "source": [
    "# 2. Read the text file today.txt into the string today_string\n",
    "\n",
    "f=open('today.txt','r')\n",
    "today_string=f.read()\n",
    "print(today_string)"
   ]
  },
  {
   "cell_type": "code",
   "execution_count": 16,
   "id": "15afb188",
   "metadata": {},
   "outputs": [
    {
     "data": {
      "text/plain": [
       "'31'"
      ]
     },
     "execution_count": 16,
     "metadata": {},
     "output_type": "execute_result"
    }
   ],
   "source": [
    "#3. Parse the date from today_string.\n",
    "today_string[8::]\n"
   ]
  },
  {
   "cell_type": "code",
   "execution_count": 18,
   "id": "039b8ab5",
   "metadata": {},
   "outputs": [
    {
     "name": "stdout",
     "output_type": "stream",
     "text": [
      " Volume in drive E is New Volume\n",
      " Volume Serial Number is 12CB-009F\n",
      "\n",
      " Directory of E:\\Ineuron_Assignment\\Basic_Python\n",
      "\n",
      "31-01-2022  20:45    <DIR>          .\n",
      "31-01-2022  20:45    <DIR>          ..\n",
      "31-01-2022  20:17    <DIR>          .ipynb_checkpoints\n",
      "30-01-2022  22:27    <DIR>          __pycache__\n",
      "04-12-2021  12:56            10,061 Assignment_1.docx\n",
      "04-12-2021  12:58             9,234 Assignment_10.docx\n",
      "04-12-2021  12:59             9,459 Assignment_11.docx\n",
      "04-12-2021  12:59             9,446 Assignment_12.docx\n",
      "04-12-2021  12:59             9,183 Assignment_13.docx\n",
      "04-12-2021  13:00             9,284 Assignment_14.docx\n",
      "04-12-2021  13:00             9,381 Assignment_15.docx\n",
      "04-12-2021  13:00             9,819 Assignment_16.docx\n",
      "04-12-2021  13:01             9,708 Assignment_17.docx\n",
      "04-12-2021  13:02             9,326 Assignment_18.docx\n",
      "04-12-2021  13:02             9,785 Assignment_19.docx\n",
      "04-12-2021  12:56             9,806 Assignment_2.docx\n",
      "04-12-2021  13:03             9,663 Assignment_20.docx\n",
      "04-12-2021  13:03             9,273 Assignment_21.docx\n",
      "04-12-2021  13:04             9,791 Assignment_22.docx\n",
      "04-12-2021  13:04             9,008 Assignment_23.docx\n",
      "04-12-2021  13:04             9,155 Assignment_24.docx\n",
      "04-12-2021  13:05             9,100 Assignment_25.docx\n",
      "04-12-2021  12:56             9,452 Assignment_3.docx\n",
      "04-12-2021  12:57             9,626 Assignment_4.docx\n",
      "04-12-2021  12:57             9,288 Assignment_5.docx\n",
      "04-12-2021  12:57             9,462 Assignment_6.docx\n",
      "04-12-2021  12:58            10,472 Assignment_7.docx\n",
      "04-12-2021  12:58             9,208 Assignment_8.docx\n",
      "04-12-2021  12:58             9,273 Assignment_9.docx\n",
      "04-12-2021  22:32             3,544 Basic_Python_Assignment_1.ipynb\n",
      "29-01-2022  21:31             2,726 Basic_Python_Assignment_10.ipynb\n",
      "29-01-2022  22:05             3,282 Basic_Python_Assignment_11.ipynb\n",
      "29-01-2022  22:32             2,618 Basic_Python_Assignment_12.ipynb\n",
      "29-01-2022  23:07             2,113 Basic_Python_Assignment_13.ipynb\n",
      "29-01-2022  23:27             2,000 Basic_Python_Assignment_14.ipynb\n",
      "29-01-2022  23:55             3,709 Basic_Python_Assignment_15.ipynb\n",
      "30-01-2022  00:27             8,540 Basic_Python_Assignment_16.ipynb\n",
      "30-01-2022  22:19             7,430 Basic_Python_Assignment_17.ipynb\n",
      "30-01-2022  22:39             4,472 Basic_Python_Assignment_18.ipynb\n",
      "30-01-2022  23:16             8,712 Basic_Python_Assignment_19.ipynb\n",
      "12-12-2021  13:22             6,824 Basic_Python_Assignment_2.ipynb\n",
      "31-01-2022  20:17             9,525 Basic_Python_Assignment_20.ipynb\n",
      "31-01-2022  20:45             2,943 Basic_Python_Assignment_21.ipynb\n",
      "06-12-2021  09:54             4,550 Basic_Python_Assignment_3.ipynb\n",
      "11-12-2021  10:44             5,237 Basic_Python_Assignment_4.ipynb\n",
      "11-12-2021  12:05             2,597 Basic_Python_Assignment_5.ipynb\n",
      "11-12-2021  14:02             3,676 Basic_Python_Assignment_6.ipynb\n",
      "11-12-2021  23:04             7,140 Basic_Python_Assignment_7.ipynb\n",
      "11-12-2021  23:29             2,237 Basic_Python_Assignment_8.ipynb\n",
      "29-01-2022  20:15             2,603 Basic_Python_Assignment_9.ipynb\n",
      "31-01-2022  19:30               883 books.csv\n",
      "31-01-2022  19:26             8,192 books.db\n",
      "12-12-2021  13:21             3,637 N_Basic_Python_Assignment_1.ipynb\n",
      "29-01-2022  23:20               538 purpleImage.png\n",
      "29-01-2022  23:23               538 sdd.png\n",
      "29-01-2022  23:23               119 test.png\n",
      "30-01-2022  23:19                44 test.txt\n",
      "31-01-2022  20:42                10 today.txt\n",
      "11-12-2021  23:52             4,101 Untitled.ipynb\n",
      "30-01-2022  22:29                36 zoo.py\n",
      "              56 File(s)        351,839 bytes\n",
      "               4 Dir(s)  104,574,500,864 bytes free\n"
     ]
    }
   ],
   "source": [
    "#4. List the files in your current directory\n",
    "%ls  \n",
    "\n",
    "# or os.listdir() "
   ]
  },
  {
   "cell_type": "code",
   "execution_count": 22,
   "id": "3e4eb929",
   "metadata": {},
   "outputs": [
    {
     "name": "stdout",
     "output_type": "stream",
     "text": [
      "['.ipynb_checkpoints', 'Assignment_1.docx', 'Assignment_10.docx', 'Assignment_11.docx', 'Assignment_12.docx', 'Assignment_13.docx', 'Assignment_14.docx', 'Assignment_15.docx', 'Assignment_16.docx', 'Assignment_17.docx', 'Assignment_18.docx', 'Assignment_19.docx', 'Assignment_2.docx', 'Assignment_20.docx', 'Assignment_21.docx', 'Assignment_22.docx', 'Assignment_23.docx', 'Assignment_24.docx', 'Assignment_25.docx', 'Assignment_3.docx', 'Assignment_4.docx', 'Assignment_5.docx', 'Assignment_6.docx', 'Assignment_7.docx', 'Assignment_8.docx', 'Assignment_9.docx', 'Basic_Python_Assignment_1.ipynb', 'Basic_Python_Assignment_10.ipynb', 'Basic_Python_Assignment_11.ipynb', 'Basic_Python_Assignment_12.ipynb', 'Basic_Python_Assignment_13.ipynb', 'Basic_Python_Assignment_14.ipynb', 'Basic_Python_Assignment_15.ipynb', 'Basic_Python_Assignment_16.ipynb', 'Basic_Python_Assignment_17.ipynb', 'Basic_Python_Assignment_18.ipynb', 'Basic_Python_Assignment_19.ipynb', 'Basic_Python_Assignment_2.ipynb', 'Basic_Python_Assignment_20.ipynb', 'Basic_Python_Assignment_21.ipynb', 'Basic_Python_Assignment_3.ipynb', 'Basic_Python_Assignment_4.ipynb', 'Basic_Python_Assignment_5.ipynb', 'Basic_Python_Assignment_6.ipynb', 'Basic_Python_Assignment_7.ipynb', 'Basic_Python_Assignment_8.ipynb', 'Basic_Python_Assignment_9.ipynb', 'books.csv', 'books.db', 'N_Basic_Python_Assignment_1.ipynb', 'purpleImage.png', 'sdd.png', 'test.png', 'test.txt', 'today.txt', 'Untitled.ipynb', 'zoo.py', '__pycache__', '~$signment_1.docx']\n"
     ]
    }
   ],
   "source": [
    "# 5. Create a list of all of the files in your parent directory (minimum five files should be available).\n",
    "import os\n",
    "lst=[]\n",
    "for f in os.listdir() :\n",
    "    lst.append(f)\n",
    "print(lst)"
   ]
  },
  {
   "cell_type": "code",
   "execution_count": 1,
   "id": "2380b48b",
   "metadata": {},
   "outputs": [
    {
     "name": "stdout",
     "output_type": "stream",
     "text": [
      "Done!\n"
     ]
    }
   ],
   "source": [
    "#6. Use multiprocessing to create three separate processes. \n",
    "# Make each one wait a random number of seconds between one and five, print the current time, and then exit.\n",
    "\n",
    "import multiprocessing\n",
    "from datetime import datetime\n",
    "import time\n",
    "  \n",
    "def print_time():\n",
    "    time.sleep(random.randint(1,5))\n",
    "    now=datetime.now()\n",
    "    dt_string = now.strftime(\"%d/%m/%Y %H:%M:%S\")\n",
    "    print(dt_string)\n",
    "\n",
    "# creating processes\n",
    "p1 = multiprocessing.Process(target=print_time)\n",
    "p2 = multiprocessing.Process(target=print_time)\n",
    "\n",
    "p1=multiprocessing.Process()\n",
    "  \n",
    "    # starting process 1\n",
    "p1.start()\n",
    "# starting process 2\n",
    "p2.start()\n",
    "  \n",
    "# wait until process 1 is finished\n",
    "p1.join()\n",
    "# wait until process 2 is finished\n",
    "p2.join()\n",
    "  \n",
    "# both processes finished\n",
    "print(\"Done!\")\n"
   ]
  },
  {
   "cell_type": "code",
   "execution_count": 10,
   "id": "b8ae4c41",
   "metadata": {},
   "outputs": [
    {
     "data": {
      "text/plain": [
       "datetime.date(2021, 3, 2)"
      ]
     },
     "execution_count": 10,
     "metadata": {},
     "output_type": "execute_result"
    }
   ],
   "source": [
    "#7. Create a date object of your day of birth.\n",
    "from datetime import date\n",
    "my_date = date(1984, 9, 2)\n",
    "                "
   ]
  },
  {
   "cell_type": "code",
   "execution_count": 13,
   "id": "0d0e50df",
   "metadata": {},
   "outputs": [
    {
     "data": {
      "text/plain": [
       "1"
      ]
     },
     "execution_count": 13,
     "metadata": {},
     "output_type": "execute_result"
    }
   ],
   "source": [
    "#8. What day of the week was your day of birth?\n",
    "my_date.weekday()"
   ]
  },
  {
   "cell_type": "code",
   "execution_count": 16,
   "id": "f10a29fa",
   "metadata": {},
   "outputs": [
    {
     "name": "stdout",
     "output_type": "stream",
     "text": [
      "New date\n",
      "2048-07-18\n"
     ]
    }
   ],
   "source": [
    "# 9. When will you be (or when were you) 10,000 days old?\n",
    "\n",
    "from datetime import datetime\n",
    "from datetime import timedelta\n",
    "  \n",
    "# calculating end date by adding 10 days\n",
    "new_date = my_date + timedelta(days=10000)\n",
    "  \n",
    "# printing end date\n",
    "print(\"New date\")\n",
    "print(new_date)"
   ]
  }
 ],
 "metadata": {
  "kernelspec": {
   "display_name": "Python 3",
   "language": "python",
   "name": "python3"
  },
  "language_info": {
   "codemirror_mode": {
    "name": "ipython",
    "version": 3
   },
   "file_extension": ".py",
   "mimetype": "text/x-python",
   "name": "python",
   "nbconvert_exporter": "python",
   "pygments_lexer": "ipython3",
   "version": "3.8.8"
  }
 },
 "nbformat": 4,
 "nbformat_minor": 5
}
