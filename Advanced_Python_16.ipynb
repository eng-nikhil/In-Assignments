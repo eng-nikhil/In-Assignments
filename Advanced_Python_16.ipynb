{
 "cells": [
  {
   "cell_type": "raw",
   "id": "12c994c0",
   "metadata": {},
   "source": [
    "Q1. What is the benefit of regular expressions?\n",
    "Ans: Regular expressions are useful  for :search and replace operations. \n",
    "     for eg: matching a sub-string from a pattern and replace it with something else.\n",
    "     It is useful becuase it works on patters not exact string.\n",
    "\n",
    "\n",
    "\n",
    "Q2. Describe the difference between the effects of \"(ab)c+\" and \"a(bc)+.\" Which of these, if any, is the unqualified pattern \"abc+\"?\n",
    "Ans: (ab)c+ -> ab should exist and then atleast one c. will parse string like ab\n",
    "     a(bc)+ -> a should exist and then atleast one bc\n",
    "     abc+ ->  ab should exist and then atleast one c. will parse string like abcc\n",
    "\n",
    "Q3. How much do you need to use the following sentence while using regular expressions?\n",
    "import re\n",
    "Ans: it is required to use regular expression methods\n",
    "\n",
    "\n",
    "Q4. Which characters have special significance in square brackets when expressing a range, and under what circumstances?\n",
    "Ans:[a-z]  -> any lower case alphabet\n",
    "    [A-Z]  -> any Upper case alphabet\n",
    "    [0-9]  -> Any digit from 0 to 9\n",
    "\n",
    "\n",
    "Q5. How does compiling a regular-expression object benefit you?\n",
    "Ans: regular-expression compilation provides a object which can be used with diffrent function.\n",
    "     Any Change in expression to be done at one place only.\n",
    "\n",
    "\n",
    "Q6. What are some examples of how to use the match object returned by re.match and re.search?\n",
    "Ans: re.match() -> we can use match function to check the given pattern at beginning of target string/\n",
    "        eg: m=re.match(<pattern>,'abcdfsfdss') check if pattern matches with string using m.start() status\n",
    "     re.search() -> we can use search() function to search given patter in target string.\n",
    "        m=re.search(<pattern>,'sdsfdsfsd') if pattern not found in string m =None\n",
    "\n",
    "\n",
    "Q7. What is the difference between using a vertical bar (|) as an alteration and using square brackets as a character set?\n",
    "Ans: Expression Matches any one element separated by the vertical bar (|) character.\n",
    "     eg: :  th(e|is|at) will match words - the, this and that.\n",
    "     Using square brackets as a character set : Matches any single character in set of characters\n",
    "     eg: [abc] will match characters a,b and c indenpendently in any string.\n",
    "\n",
    "Q8. In regular-expression search patterns, why is it necessary to use the raw-string indicator (r)? In   replacement strings?\n",
    "Ans:regular expressions are frequently static strings, which are represented as string literals.\n"
   ]
  }
 ],
 "metadata": {
  "kernelspec": {
   "display_name": "Python 3",
   "language": "python",
   "name": "python3"
  },
  "language_info": {
   "codemirror_mode": {
    "name": "ipython",
    "version": 3
   },
   "file_extension": ".py",
   "mimetype": "text/x-python",
   "name": "python",
   "nbconvert_exporter": "python",
   "pygments_lexer": "ipython3",
   "version": "3.8.8"
  }
 },
 "nbformat": 4,
 "nbformat_minor": 5
}
