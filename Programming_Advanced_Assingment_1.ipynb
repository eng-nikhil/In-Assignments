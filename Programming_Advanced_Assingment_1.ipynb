{
 "cells": [
  {
   "cell_type": "code",
   "execution_count": 13,
   "id": "88400095",
   "metadata": {},
   "outputs": [
    {
     "name": "stdout",
     "output_type": "stream",
     "text": [
      "2\n",
      "0\n"
     ]
    }
   ],
   "source": [
    "# 1. Write a function that takes a list of lists and returns the value of all of the symbols in it, where each symbol adds or takes something from the total score. Symbol values:\n",
    "\n",
    "# # = 5\n",
    "# O = 3\n",
    "# X = 1\n",
    "# ! = -1\n",
    "# !! = -3\n",
    "# !!! = -5\n",
    "\n",
    "# A list of lists containing 2 #s, a O, and a !!! would equal (0 + 5 + 5 + 3 - 5) 8.\n",
    "\n",
    "# If the final score is negative, return 0 (e.g. 3 #s, 3 !!s, 2 !!!s and a X would be (0 + 5 + 5 + 5 - 3 - 3 - 3 - 5 - 5 + 1) -3, so return 0.\n",
    "\n",
    "# Examples\n",
    "\n",
    "# check_score([\n",
    "#   [\"#\", \"!\"],\n",
    "#   [\"!!\", \"X\"]\n",
    "# ]) ➞ 2\n",
    "\n",
    "# check_score([\n",
    "#   [\"!!!\", \"O\", \"!\"],\n",
    "#   [\"X\", \"#\", \"!!!\"],\n",
    "#   [\"!!\", \"X\", \"O\"]\n",
    "# ]) ➞ 0\n",
    "\n",
    "def set_dict():\n",
    "    st_dict=dict()\n",
    "    st_dict['#']=5\n",
    "    st_dict['O']=3\n",
    "    st_dict['X']=1\n",
    "    st_dict['!']=-1\n",
    "    st_dict['!!']=-3\n",
    "    st_dict['!!!']=-5\n",
    "    return st_dict\n",
    "\n",
    "def check_score(lst):\n",
    "    count=0\n",
    "    st_dict=set_dict()\n",
    "    for i in range(len(lst)):\n",
    "         for j in lst[i]:\n",
    "                count+=st_dict[j]\n",
    "    if count>0:\n",
    "        return count\n",
    "    else:\n",
    "        return 0\n",
    "\n",
    "print(check_score([['#',\"!\"],['!!',\"X\"]]))\n",
    "print(check_score([ [\"!!!\", \"O\", \"!\"],  [\"X\", \"#\", \"!!!\"],  [\"!!\", \"X\", \"O\"]]))\n"
   ]
  },
  {
   "cell_type": "code",
   "execution_count": 18,
   "id": "1fb4173b",
   "metadata": {},
   "outputs": [
    {
     "name": "stdout",
     "output_type": "stream",
     "text": [
      "6\n",
      "84\n",
      "120\n"
     ]
    }
   ],
   "source": [
    "# 2. Create a function that takes a variable number of arguments, each argument representing the number of items in a group, and returns the number of permutations (combinations) \n",
    "# of items that you could get by taking one item from each group.\n",
    "\n",
    "# Examples\n",
    "\n",
    "# combinations(2, 3) ➞ 6\n",
    "\n",
    "# combinations(3, 7, 4) ➞ 84\n",
    "\n",
    "# combinations(2, 3, 4, 5) ➞ 120\n",
    "\n",
    "\n",
    "def combinations(*lst):\n",
    "    count=1\n",
    "    for i in lst:\n",
    "        count=count*i\n",
    "    return count\n",
    "        \n",
    "print(combinations(2, 3))\n",
    "print(combinations(3, 7, 4))\n",
    "print(combinations(2, 3, 4, 5))\n"
   ]
  },
  {
   "cell_type": "code",
   "execution_count": 22,
   "id": "ba8af850",
   "metadata": {},
   "outputs": [
    {
     "name": "stdout",
     "output_type": "stream",
     "text": [
      ".-...--...-.....- -.-......-.-...-...-.--..\n",
      "......-...--. --. -.-.--\n"
     ]
    }
   ],
   "source": [
    "# 3. Create a function that takes a string as an argument and returns the Morse code equivalent.\n",
    "\n",
    "# Examples\n",
    "\n",
    "# encode_morse(\"EDABBIT CHALLENGE\") ➞ \". -.. .- -... -... .. -   -.-. .... .- .-.. .-.. . -. --. .\"\n",
    "\n",
    "# encode_morse(\"HELP ME !\") ➞ \".... . .-.. .--.   -- .   -.-.--\"\n",
    "\n",
    "# This dictionary can be used for coding:\n",
    "\n",
    "# char_to_dots = {\n",
    "#   'A': '.-', 'B': '-...', 'C': '-.-.', 'D': '-..', 'E': '.', 'F': '..-.',\n",
    "#   'G': '--.', 'H': '....', 'I': '..', 'J': '.---', 'K': '-.-', 'L': '.-..',\n",
    "#   'M': '--', 'N': '-.', 'O': '---', 'P': '.--.', 'Q': '--.-', 'R': '.-.',\n",
    "#   'S': '...', 'T': '-', 'U': '..-', 'V': '...-', 'W': '.--', 'X': '-..-',\n",
    "#   'Y': '-.--', 'Z': '--..', ' ': ' ', '0': '-----',\n",
    "#   '1': '.----', '2': '..---', '3': '...--', '4': '....-', '5': '.....',\n",
    "#   '6': '-....', '7': '--...', '8': '---..', '9': '----.',\n",
    "#   '&': '.-...', \"'\": '.----.', '@': '.--.-.', ')': '-.--.-', '(': '-.--.',\n",
    "#   ':': '---...', ',': '--..--', '=': '-...-', '!': '-.-.--', '.': '.-.-.-',\n",
    "#   '-': '-....-', '+': '.-.-.', '\"': '.-..-.', '?': '..--..', '/': '-..-.'\n",
    "# }\n",
    "\n",
    "char_to_dots = {\n",
    "  'A': '.-', 'B': '-...', 'C': '-.-.', 'D': '-..', 'E': '.', 'F': '..-.',\n",
    "  'G': '--.', 'H': '....', 'I': '..', 'J': '.---', 'K': '-.-', 'L': '.-..',\n",
    "  'M': '--', 'N': '-.', 'O': '---', 'P': '.--.', 'Q': '--.-', 'R': '.-.',\n",
    "  'S': '...', 'T': '-', 'U': '..-', 'V': '...-', 'W': '.--', 'X': '-..-',\n",
    "  'Y': '-.--', 'Z': '--..', ' ': ' ', '0': '-----',\n",
    "  '1': '.----', '2': '..---', '3': '...--', '4': '....-', '5': '.....',\n",
    "  '6': '-....', '7': '--...', '8': '---..', '9': '----.',\n",
    "  '&': '.-...', \"'\": '.----.', '@': '.--.-.', ')': '-.--.-', '(': '-.--.',\n",
    "  ':': '---...', ',': '--..--', '=': '-...-', '!': '-.-.--', '.': '.-.-.-',\n",
    "  '-': '-....-', '+': '.-.-.', '\"': '.-..-.', '?': '..--..', '/': '-..-.'\n",
    "}\n",
    "\n",
    "def encode_morse(str):\n",
    "    lst=[]\n",
    "    for i in str:\n",
    "        lst.append(char_to_dots[i])\n",
    "    return ''.join(lst)\n",
    "\n",
    "print(encode_morse(\"EDABBIT CHALLENGE\"))\n",
    "print(encode_morse(\"HELP ME !\"))  "
   ]
  },
  {
   "cell_type": "code",
   "execution_count": 34,
   "id": "9f31aae3",
   "metadata": {},
   "outputs": [
    {
     "name": "stdout",
     "output_type": "stream",
     "text": [
      "True Time: 0.0\n",
      "True Time: 0.0\n",
      "False Time Consumed: 0.0\n",
      "False Time Consumed: 0.0009775161743164062\n"
     ]
    }
   ],
   "source": [
    "# 4.  Write a function that takes a number and returns True if it's a prime; False otherwise. \n",
    "#The number can be 2^64-1 (2 to the power of 63, not XOR). \n",
    "#With the standard technique it would be O(2^64-1), which is much too large for the 10 second time limit.\n",
    "\n",
    "# Examples\n",
    "\n",
    "# prime(7) ➞ True\n",
    "\n",
    "# prime(56963) ➞ True\n",
    "\n",
    "# prime(5151512515524) ➞ False\n",
    "\n",
    "import math as m\n",
    "import time\n",
    "\n",
    "def prime(num):\n",
    "    if num <= 1:\n",
    "        return False\n",
    "    if num == 2:\n",
    "        return True\n",
    "    if num > 2 and num % 2 == 0:\n",
    "        return False\n",
    "    max_div= m.floor(m.sqrt(num))\n",
    "\n",
    "# Only Upto sqrt to be calculated.\n",
    "#Skip all even number by making step size of 2\n",
    "\n",
    "    for i in range(3,1+max_div,2):\n",
    "        if num%i ==0:\n",
    "            return False\n",
    "    return True\n",
    "\n",
    "t0=time.time()\n",
    "print(prime(7),'Time:',time.time()-t0)\n",
    "        \n",
    "t0=time.time()\n",
    "print(prime(56963),'Time:',time.time()-t0)\n",
    "\n",
    "t0=time.time()\n",
    "print(prime(5151512515524),'Time Consumed:',time.time()-t0)\n",
    "\n",
    "t0=time.time()\n",
    "print(prime(515151251552423443),'Time Consumed:',time.time()-t0)"
   ]
  },
  {
   "cell_type": "code",
   "execution_count": 51,
   "id": "1ea8b83b",
   "metadata": {},
   "outputs": [
    {
     "name": "stdout",
     "output_type": "stream",
     "text": [
      "[False, True, True, False]\n",
      "[False, True, False, True, True]\n",
      "[False, True, True, False]\n"
     ]
    }
   ],
   "source": [
    "\n",
    "# 5.  Create a function that converts a word to a bitstring and then to a boolean list based on the following criteria:\n",
    "\n",
    "#     1. Locate the position of the letter in the English alphabet (from 1 to 26).\n",
    "#     2. Odd positions will be represented as 1 and 0 otherwise.\n",
    "#     3. Convert the represented positions to boolean values, 1 for True and 0 for False.\n",
    "#     4. Store the conversions into an array.\n",
    "\n",
    "#  Examples\n",
    "\n",
    "# to_boolean_list(\"deep\") ➞ [False, True, True, False]\n",
    "# # deep converts to 0110\n",
    "# # d is the 4th alphabet - 0\n",
    "# # e is the 5th alphabet - 1\n",
    "# # e is the 5th alphabet - 1\n",
    "# # p is the 16th alphabet - 0\n",
    "\n",
    "# to_boolean_list(\"loves\") ➞ [False, True, False, True, True]\n",
    "\n",
    "# to_boolean_list(\"tesh\") ➞ [False, True, True, False]\n",
    "\n",
    "def to_boolean_list(str):\n",
    "    lst=[]\n",
    "    for i in str:\n",
    "        lst.append(bool((ord(i)%2)))\n",
    "    print(lst)\n",
    "\n",
    "to_boolean_list(\"deep\")\n",
    "to_boolean_list(\"loves\")\n",
    "to_boolean_list(\"tesh\")\n"
   ]
  }
 ],
 "metadata": {
  "kernelspec": {
   "display_name": "Python 3",
   "language": "python",
   "name": "python3"
  },
  "language_info": {
   "codemirror_mode": {
    "name": "ipython",
    "version": 3
   },
   "file_extension": ".py",
   "mimetype": "text/x-python",
   "name": "python",
   "nbconvert_exporter": "python",
   "pygments_lexer": "ipython3",
   "version": "3.8.8"
  }
 },
 "nbformat": 4,
 "nbformat_minor": 5
}
