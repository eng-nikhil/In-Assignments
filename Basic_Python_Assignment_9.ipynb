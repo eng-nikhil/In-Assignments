{
 "cells": [
  {
   "cell_type": "raw",
   "id": "04b4e573",
   "metadata": {},
   "source": [
    "1. To what does a relative path refer?\n",
    "\n",
    "Ans: Relative path refers to partial path of a file or directory for eg: ../dir1/file.txt"
   ]
  },
  {
   "cell_type": "raw",
   "id": "963648d1",
   "metadata": {},
   "source": [
    "2. What does an absolute path start with your operating system?\n",
    "Ans: Absoulte path for OS starts with root  or directory for eg: d:/ or /user1/"
   ]
  },
  {
   "cell_type": "raw",
   "id": "696066d4",
   "metadata": {},
   "source": [
    "3. What do the functions os.getcwd() and os.chdir() do?\n",
    "os.getcwd() -> Show current working directoty\n",
    "os.chdir()-> Used to change current working direciry"
   ]
  },
  {
   "cell_type": "raw",
   "id": "0aba1e86",
   "metadata": {},
   "source": [
    "4. What are the . and .. folders?\n",
    ". -> current folder\n",
    "..-> parent folder\n"
   ]
  },
  {
   "cell_type": "raw",
   "id": "91c1babe",
   "metadata": {},
   "source": [
    "5. In C:\\bacon\\eggs\\spam.txt, which part is the dir name, and which part is the base name?\n",
    "dirname-> C:\\bacon\\eggs\\\n",
    "basename->spam.txt\n"
   ]
  },
  {
   "cell_type": "raw",
   "id": "26c6a811",
   "metadata": {},
   "source": [
    "6. What are the three “mode” arguments that can be passed to the open() function?\n",
    "r, w, a"
   ]
  },
  {
   "cell_type": "raw",
   "id": "8409fb07",
   "metadata": {},
   "source": [
    "7. What happens if an existing file is opened in write mode?\n",
    "Content of file will be cleaned/trunctaed and new one will be written\n"
   ]
  },
  {
   "cell_type": "raw",
   "id": "60d3fd27",
   "metadata": {},
   "source": [
    "8. How do you tell the difference between read() and readlines()?\n",
    "read() returns content of complete file as string. \n",
    "readlines() returns lines in list format, each  element of list refers to one line"
   ]
  },
  {
   "cell_type": "raw",
   "id": "277b9b43",
   "metadata": {},
   "source": [
    "9. What data structure does a shelf value resemble?\n",
    "dictonary - key-value pair"
   ]
  }
 ],
 "metadata": {
  "kernelspec": {
   "display_name": "Python 3",
   "language": "python",
   "name": "python3"
  },
  "language_info": {
   "codemirror_mode": {
    "name": "ipython",
    "version": 3
   },
   "file_extension": ".py",
   "mimetype": "text/x-python",
   "name": "python",
   "nbconvert_exporter": "python",
   "pygments_lexer": "ipython3",
   "version": "3.8.8"
  }
 },
 "nbformat": 4,
 "nbformat_minor": 5
}
