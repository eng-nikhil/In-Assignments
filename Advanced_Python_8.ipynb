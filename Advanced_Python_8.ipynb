{
 "cells": [
  {
   "cell_type": "raw",
   "id": "f8d81971",
   "metadata": {},
   "source": [
    "Q1. What are the two latest user-defined exception constraints in Python 3.X?\n",
    "Ans: User-defined exception are defined based on requriment for eg:\n",
    "    ValueError can be raise if number is negative which is not expected\n",
    "    or InvalidFormat  if date format validation fails\n",
    "\n",
    "Q2. How are class-based exceptions that have been raised matched to handlers?\n",
    "Ans: Using method names defined in exception class.    \n",
    "\n",
    "    \n",
    "Q3. Describe two methods for attaching context information to exception artefacts.\n",
    "Ans:  except TypeError as e       \n",
    "\n",
    "\n",
    "Q4. Describe two methods for specifying the text of an exception object's error message.\n",
    "Ans:raise TypeError(\"Invalid Type\")\n",
    "\n",
    "Q5. Why do you no longer use string-based exceptions?\n",
    "Ans: Based on requirement can be used in user defined exception classes.\n"
   ]
  }
 ],
 "metadata": {
  "kernelspec": {
   "display_name": "Python 3",
   "language": "python",
   "name": "python3"
  },
  "language_info": {
   "codemirror_mode": {
    "name": "ipython",
    "version": 3
   },
   "file_extension": ".py",
   "mimetype": "text/x-python",
   "name": "python",
   "nbconvert_exporter": "python",
   "pygments_lexer": "ipython3",
   "version": "3.8.8"
  }
 },
 "nbformat": 4,
 "nbformat_minor": 5
}
