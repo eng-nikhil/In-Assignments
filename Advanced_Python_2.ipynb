{
 "cells": [
  {
   "cell_type": "raw",
   "id": "04be29b4",
   "metadata": {},
   "source": [
    "Q1. What is the relationship between classes and modules?\n",
    "\n",
    "Ans: classes and modules both has common feature of providing reusablity.\n",
    "     classes provides reuasablity of prototype in diffrent objects of class.\n",
    "     Modules provides reusability by enabling devloper to import it and utilize methods.\n",
    "\n",
    "\n",
    "Q2. How do you make instances and classes?\n",
    "Ans: class Myclass:pass\n",
    "     instance= Myclass()\n",
    "\n",
    "\n",
    "Q3. Where and how should be class attributes created?\n",
    "Ans: Class/Static attributes are declared as part of class definition.\n",
    "     Static variables has common memory and are assocaited with Class.\n",
    "     class Myclass:\n",
    "        static_var=0\n",
    "\n",
    "Q4. Where and how are instance attributes created?\n",
    "Ans: Instance attributes are associated to instance of the class \n",
    "     class Myclass:\n",
    "        def __init__(self,a):\n",
    "            self.instance_var=a\n",
    "\n",
    "Q5. What does the term \"self\" in a Python class mean?\n",
    "Ans:Variable used to point to current/calling  object/instance of class.\n",
    "    Not a keyword but Convention.\n",
    "\n",
    "\n",
    "\n",
    "Q6. How does a Python class handle operator overloading?\n",
    "Ans:In the class, operators can be overloaded by defining the functions specific to peroform operation on object items. \n",
    "    for eg: if one object has 3 variables '+' can be overloaded to add three varibles invidually\n",
    "\n",
    "\n",
    "Q7. When do you consider allowing operator overloading of your classes?\n",
    "Ans: when there are multiple variables in class and we want to perform operation on them for eg:\n",
    "     def __add__(self, other):\n",
    "        return self.a + other.a, self.b + other.b\n",
    "     it will allow to obj3=obj1+obj2 \n",
    "\n",
    "\n",
    "\n",
    "Q8. What is the most popular form of operator overloading?\n",
    "Ans: addition __add__\n",
    "\n",
    "Q9. What are the two most important concepts to grasp in order to comprehend Python OOP code?\n",
    "Ans: class , objects, \n",
    "     inheritence, polymorphism\n",
    "\n"
   ]
  }
 ],
 "metadata": {
  "kernelspec": {
   "display_name": "Python 3",
   "language": "python",
   "name": "python3"
  },
  "language_info": {
   "codemirror_mode": {
    "name": "ipython",
    "version": 3
   },
   "file_extension": ".py",
   "mimetype": "text/x-python",
   "name": "python",
   "nbconvert_exporter": "python",
   "pygments_lexer": "ipython3",
   "version": "3.8.8"
  }
 },
 "nbformat": 4,
 "nbformat_minor": 5
}
