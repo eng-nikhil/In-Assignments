{
 "cells": [
  {
   "cell_type": "raw",
   "id": "163bde30",
   "metadata": {},
   "source": [
    "# Question 1:\n",
    "\n",
    "# Write a program that calculates and prints the value according to the given formula:\n",
    "# Q = Square root of [(2 * C * D)/H]\n",
    "# Following are the fixed values of C and H:\n",
    "# C is 50. H is 30.\n",
    "# D is the variable whose values should be input to your program in a comma-separated sequence.\n",
    "\n",
    "# Example\n",
    "\n",
    "# Let us assume the following comma separated input sequence is given to the program:\n",
    "\n",
    "# 100,150,180\n",
    "\n",
    "# The output of the program should be:\n",
    "\n",
    "# 18,22,24"
   ]
  },
  {
   "cell_type": "code",
   "execution_count": 5,
   "id": "0467f1a7",
   "metadata": {},
   "outputs": [
    {
     "name": "stdout",
     "output_type": "stream",
     "text": [
      "18\n",
      "22\n",
      "24\n"
     ]
    }
   ],
   "source": [
    "from math import sqrt\n",
    "def calculate(l):\n",
    "    c,h=50,30\n",
    "    for d in l:\n",
    "        print(int(sqrt((2*c*int(d))/h)))\n",
    "\n",
    "\n",
    "calculate([100,150,180])"
   ]
  },
  {
   "cell_type": "raw",
   "id": "4bf2165d",
   "metadata": {},
   "source": [
    "# Question 2:\n",
    "# Write a program which takes 2 digits, X,Y as input and generates a 2-dimensional array. The element value in the i-th row and j-th column of the array should be i*j.\n",
    "\n",
    "# Note: i=0,1.., X-1; j=0,1,¡¬Y-1.\n",
    "\n",
    "# Example\n",
    "\n",
    "# Suppose the following inputs are given to the program:\n",
    "\n",
    "# 3,5\n",
    "\n",
    "# Then, the output of the program should be:\n",
    "\n",
    "# [[0, 0, 0, 0, 0], [0, 1, 2, 3, 4], [0, 2, 4, 6, 8]] "
   ]
  },
  {
   "cell_type": "code",
   "execution_count": 17,
   "id": "c8d9627e",
   "metadata": {},
   "outputs": [
    {
     "name": "stdout",
     "output_type": "stream",
     "text": [
      "[[0, 0, 0, 0, 0], [0, 1, 2, 3, 4], [0, 2, 4, 6, 8]]\n"
     ]
    }
   ],
   "source": [
    "def matrix(row,col):\n",
    "    mat=[]\n",
    "    for i in range(row):\n",
    "        l=[]\n",
    "        for j in range(col): \n",
    "            l.append(i*j)\n",
    "        mat.append(l)\n",
    "    print(mat)\n",
    "matrix(3,5)"
   ]
  },
  {
   "cell_type": "raw",
   "id": "6ce74387",
   "metadata": {},
   "source": [
    "# Question 3:\n",
    "# Write a program that accepts a comma separated sequence of words as input and prints the words in a comma-separated sequence after sorting them alphabetically.\n",
    "\n",
    "# Suppose the following input is supplied to the program:\n",
    "\n",
    "# without,hello,bag,world\n",
    "\n",
    "# Then, the output should be:\n",
    "\n",
    "# bag,hello,without,world"
   ]
  },
  {
   "cell_type": "code",
   "execution_count": 7,
   "id": "a7f98f26",
   "metadata": {},
   "outputs": [
    {
     "name": "stdout",
     "output_type": "stream",
     "text": [
      "Sorted array is: ['bag', 'hello', 'without', 'world']\n"
     ]
    }
   ],
   "source": [
    "def partition(arr, low, high):\n",
    "    i = (low-1)        \n",
    "    pivot = arr[high]    \n",
    "    for j in range(low, high):\n",
    "        if arr[j] <= pivot:\n",
    "            i = i+1\n",
    "            arr[i], arr[j] = arr[j], arr[i]\n",
    "    arr[i+1], arr[high] = arr[high], arr[i+1]\n",
    "    return (i+1) \n",
    "\n",
    "def quickSort(arr, low, high):\n",
    "    if len(arr) == 1:\n",
    "        return arr\n",
    "    if low < high:\n",
    "        pi = partition(arr, low, high)\n",
    "        quickSort(arr, low, pi-1)\n",
    "        quickSort(arr, pi+1, high)\n",
    "\n",
    "arr=['without','hello','bag','world']\n",
    "n = len(arr)\n",
    "quickSort(arr, 0, n-1)\n",
    "print(\"Sorted array is:\",arr)"
   ]
  },
  {
   "cell_type": "raw",
   "id": "fa68f1e3",
   "metadata": {},
   "source": [
    "# Question 4:\n",
    "# Write a program that accepts a sequence of whitespace separated words as input and prints the words after removing all duplicate words and sorting them alphanumerically.\n",
    "\n",
    "# Suppose the following input is supplied to the program:\n",
    "\n",
    "# hello world and practice makes perfect and hello world again\n",
    "\n",
    "# Then, the output should be:\n",
    "\n",
    "# again and hello makes perfect practice world\n"
   ]
  },
  {
   "cell_type": "code",
   "execution_count": 15,
   "id": "8b2b9e7c",
   "metadata": {},
   "outputs": [
    {
     "name": "stdout",
     "output_type": "stream",
     "text": [
      "White Space removed and Sorted:\n",
      " again and hello makes perfect practice world\n"
     ]
    }
   ],
   "source": [
    "str='hello world and      practice makes perfect and hello world again'\n",
    "arr=str.split()\n",
    "temp_arr=[]\n",
    "for i in arr:\n",
    "    if i not in temp_arr:\n",
    "        temp_arr.append(i)\n",
    "n = len(temp_arr)\n",
    "quickSort(temp_arr, 0, n-1)    # Develpoed in Question #3\n",
    "print(\"White Space removed and Sorted:\\n\",' '.join(temp_arr))"
   ]
  },
  {
   "cell_type": "raw",
   "id": "7e9fbf84",
   "metadata": {},
   "source": [
    "# Question 5:\n",
    "# Write a program that accepts a sentence and calculate the number of letters and digits.\n",
    "\n",
    "# Suppose the following input is supplied to the program:\n",
    "\n",
    "# hello world! 123\n",
    "\n",
    "# Then, the output should be:\n",
    "\n",
    "# LETTERS 10\n",
    "\n",
    "# DIGITS 3"
   ]
  },
  {
   "cell_type": "code",
   "execution_count": 19,
   "id": "66994489",
   "metadata": {},
   "outputs": [
    {
     "name": "stdout",
     "output_type": "stream",
     "text": [
      "LETTERS 10\n",
      "DIGITS 3\n"
     ]
    }
   ],
   "source": [
    "def countletters(lst):\n",
    "    letters,digits=0,0\n",
    "    for i in lst:\n",
    "        ord_i = ord(i) \n",
    "        if ord_i in range(65,91) or ord_i in range(97,123):\n",
    "            letters+=1\n",
    "        elif ord_i in range(48,58):\n",
    "            digits+=1\n",
    "    return letters,digits\n",
    "\n",
    "lst='hello world! 123'\n",
    "letters,digits = countletters(lst)\n",
    "print('LETTERS',letters)\n",
    "print('DIGITS',digits)"
   ]
  },
  {
   "cell_type": "raw",
   "id": "284bf776",
   "metadata": {},
   "source": [
    "# Question 6:\n",
    "# A website requires the users to input username and password to register. Write a program to check the validity of password input by users.\n",
    "\n",
    "# Following are the criteria for checking the password:\n",
    "\n",
    "# 1. At least 1 letter between [a-z]\n",
    "\n",
    "# 2. At least 1 number between [0-9]\n",
    "\n",
    "# 1. At least 1 letter between [A-Z]\n",
    "\n",
    "# 3. At least 1 character from [$#@]\n",
    "\n",
    "# 4. Minimum length of transaction password: 6\n",
    "\n",
    "# 5. Maximum length of transaction password: 12\n",
    "\n",
    "# Your program should accept a sequence of comma separated passwords and will check them according to the above criteria. Passwords that match the criteria are to be printed, each separated by a comma.\n",
    "\n",
    "# Example\n",
    "\n",
    "# If the following passwords are given as input to the program:\n",
    "\n",
    "# ABd1234@1,a F1#,2w3E*,2We3345\n",
    "\n",
    "# Then, the output of the program should be:\n",
    "\n",
    "# ABd1234@1"
   ]
  },
  {
   "cell_type": "code",
   "execution_count": 35,
   "id": "400084cd",
   "metadata": {},
   "outputs": [
    {
     "name": "stdout",
     "output_type": "stream",
     "text": [
      "['ABd1234@1']\n"
     ]
    }
   ],
   "source": [
    "def passwordvalidation(pwd_list):\n",
    "    accepted_pwds=[]\n",
    "    for pwd in pwd_list:\n",
    "        check=[0,0,0,0,0]   # Refering to : [[a-z],[0-9],[A-Z],[$#@],min(len(6))& max(len(12))]\n",
    "        len_pwd=len(pwd)\n",
    "        if len_pwd > 6 and len_pwd < 12:\n",
    "            check[4] =1\n",
    "        else:\n",
    "            continue\n",
    "        for i in pwd:\n",
    "            if check[0] ==0 and ord(i) in range(97,123):\n",
    "                check[0]=1\n",
    "            elif check[1] ==0 and ord(i) in range(48,58):\n",
    "                check[1]=1\n",
    "            elif check[2] ==0 and ord(i) in range(65,91):\n",
    "                check[2]=1\n",
    "            elif check[3]==0 and i in ['$','#','@']:\n",
    "                check[3]=1\n",
    "        if 0 not in check:           \n",
    "            accepted_pwds.append(pwd)\n",
    "    return accepted_pwds\n",
    "\n",
    "print(passwordvalidation(['ABd1234@1','a F1#','2w3E*','2We3345']))    \n"
   ]
  }
 ],
 "metadata": {
  "kernelspec": {
   "display_name": "Python 3",
   "language": "python",
   "name": "python3"
  },
  "language_info": {
   "codemirror_mode": {
    "name": "ipython",
    "version": 3
   },
   "file_extension": ".py",
   "mimetype": "text/x-python",
   "name": "python",
   "nbconvert_exporter": "python",
   "pygments_lexer": "ipython3",
   "version": "3.8.8"
  }
 },
 "nbformat": 4,
 "nbformat_minor": 5
}
