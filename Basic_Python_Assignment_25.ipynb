{
 "cells": [
  {
   "cell_type": "raw",
   "id": "82cb0dc0",
   "metadata": {},
   "source": [
    "1) What is the difference between enclosing a list comprehension in square brackets and parentheses?\n",
    "Ans: square brackets[] -> returns values\n",
    "     parentheses() -> provide generator\n",
    "        \n",
    "2) What is the relationship between generators and iterators?\n",
    "Ans: Both iterator and Generators gives values over iterable object(iterator) and function(generator).   \n",
    "     An iterator is an object which contains a countable number of values and it is used to iterate over iterable objects like list, tuples, sets, etc\n",
    "     Generators is another way of creating iterators in a simple way where it uses the keyword “yield” instead of returning it in a defined function.\n",
    "     Generators are implemented using a function.\n",
    "        \n",
    "3) What are the signs that a function is a generator function?\n",
    "Ans: it should have yield keyword which returns values.\n",
    "    \n",
    "4) What is the purpose of a yield statement?\n",
    "Ans: It returns values out from function and keep the current value for next calculation.\n",
    "      Enables not to store all the values which a function generates in iterative manner.\n",
    "        \n",
    "5) What is the relationship between map calls and list comprehensions? Make a comparison and contrast between the two.\n",
    "Ans: List comprehension allows filtering but we can't do that in map. for print all even numbers in range 100 possible \n",
    "     with comprehension but not possible with map.\n",
    "     Map is faster in case of calling an already defined function\n"
   ]
  }
 ],
 "metadata": {
  "kernelspec": {
   "display_name": "Python 3",
   "language": "python",
   "name": "python3"
  },
  "language_info": {
   "codemirror_mode": {
    "name": "ipython",
    "version": 3
   },
   "file_extension": ".py",
   "mimetype": "text/x-python",
   "name": "python",
   "nbconvert_exporter": "python",
   "pygments_lexer": "ipython3",
   "version": "3.8.8"
  }
 },
 "nbformat": 4,
 "nbformat_minor": 5
}
