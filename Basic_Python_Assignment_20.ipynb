{
 "cells": [
  {
   "cell_type": "code",
   "execution_count": 2,
   "id": "3734967b",
   "metadata": {},
   "outputs": [],
   "source": [
    "# 1. Set the variable test1 to the string 'This is a test of the emergency text system,' and save test1 to a file named test.txt.\n",
    "\n",
    "test1='This is a test of the emergency text system,'\n",
    "f=open('test.txt','w')\n",
    "f.write(test1)\n",
    "f.close()"
   ]
  },
  {
   "cell_type": "code",
   "execution_count": 6,
   "id": "64161415",
   "metadata": {},
   "outputs": [
    {
     "data": {
      "text/plain": [
       "'This is a test of the emergency text system,'"
      ]
     },
     "execution_count": 6,
     "metadata": {},
     "output_type": "execute_result"
    }
   ],
   "source": [
    "# 2. Read the contents of the file test.txt into the variable test2. Is there a difference between test 1 and test 2?\n",
    "\n",
    "f=open('test.txt','r')\n",
    "test2=f.read()\n",
    "test2\n",
    "# No difference"
   ]
  },
  {
   "cell_type": "code",
   "execution_count": 17,
   "id": "25bd1b7c",
   "metadata": {},
   "outputs": [],
   "source": [
    "# 3. Create a CSV file called books.csv by using these lines:\n",
    "#title,author,year\n",
    "# The Weirdstone of Brisingamen,Alan Garner,1960\n",
    "# Perdido Street Station,China Miéville,2000\n",
    "# Thud!,Terry Pratchett,2005\n",
    "# The Spellman Files,Lisa Lutz,2007\n",
    "# Small Gods,Terry Pratchett,1992\n",
    "import csv\n",
    "rows=[[\"title\",'author','year'],['The Weirdstone of Brisingamen','Alan Garner',1960],['Perdido Street Station','China Miéville',2000],['Thud!','Terry Pratchett',2005],['The Spellman Files','Lisa Lutz',2007],['Small Gods','Terry Pratchett',1992]]\n",
    "\n",
    "f=open('books.csv','w')\n",
    "writer = csv.writer(f)\n",
    "writer.writerows(rows)\n",
    "f.close()"
   ]
  },
  {
   "cell_type": "code",
   "execution_count": 40,
   "id": "e3c5e4f8",
   "metadata": {},
   "outputs": [
    {
     "name": "stdout",
     "output_type": "stream",
     "text": [
      "Db File Created\n",
      "Query Executed\n"
     ]
    }
   ],
   "source": [
    "# 4. Use the sqlite3 module to create a SQLite database called books.db, and a table called books with these fields: title (text), author (text), and year (integer).\n",
    "\n",
    "import sqlite3\n",
    "from sqlite3 import Error\n",
    "\n",
    "\n",
    "def create_connection(db_file):\n",
    "    conn = None\n",
    "    try:\n",
    "        conn = sqlite3.connect(db_file)\n",
    "        print('Db File Created')\n",
    "    except Error as e:\n",
    "        print(e)\n",
    "    finally:\n",
    "        if conn:\n",
    "            conn.close()\n",
    "            \n",
    "\n",
    "def execute_query(q,db):\n",
    "    conn = sqlite3.connect(db) \n",
    "    c = conn.cursor()\n",
    "    c.execute(q)                   \n",
    "    conn.commit()\n",
    "    print('Query Executed')\n",
    "\n",
    "db=\"books.db\"\n",
    "q='CREATE TABLE IF NOT EXISTS books([title] TEXT, [author] TEXT,[year] INTEGER) '\n",
    "\n",
    "create_connection(db)\n",
    "execute_query(q,db)\n"
   ]
  },
  {
   "cell_type": "code",
   "execution_count": 48,
   "id": "dbaa009b",
   "metadata": {},
   "outputs": [
    {
     "name": "stdout",
     "output_type": "stream",
     "text": [
      "INSERT INTO books (title, author,year) Values (\"The Weirdstone of Brisingamen\",\"Alan Garner\",1960)\n",
      "Query Executed\n",
      "INSERT INTO books (title, author,year) Values (\"Perdido Street Station\",\"China Miéville\",2000)\n",
      "Query Executed\n",
      "INSERT INTO books (title, author,year) Values (\"Thud!\",\"Terry Pratchett\",2005)\n",
      "Query Executed\n",
      "INSERT INTO books (title, author,year) Values (\"The Spellman Files\",\"Lisa Lutz\",2007)\n",
      "Query Executed\n",
      "INSERT INTO books (title, author,year) Values (\"Small Gods\",\"Terry Pratchett\",1992)\n",
      "Query Executed\n"
     ]
    }
   ],
   "source": [
    "# 5. Read books.csv and insert its data into the book table.\n",
    "\n",
    "db=\"books.db\"\n",
    "f=open('books.csv','r')\n",
    "reader=csv.reader(f)\n",
    "header = next(reader)\n",
    "for row in reader:\n",
    "    if len(row)>0 and row != header:\n",
    "        #print(i)\n",
    "        q='INSERT INTO books (title, author,year) Values (\"{}\",\"{}\",{})'.format(row[0],row[1],row[2])\n",
    "        print(q)\n",
    "        execute_query(q,db)\n",
    "\n"
   ]
  },
  {
   "cell_type": "code",
   "execution_count": 58,
   "id": "e022e523",
   "metadata": {},
   "outputs": [
    {
     "name": "stdout",
     "output_type": "stream",
     "text": [
      "                           title\n",
      "0         Perdido Street Station\n",
      "1                     Small Gods\n",
      "2             The Spellman Files\n",
      "3  The Weirdstone of Brisingamen\n",
      "4                          Thud!\n"
     ]
    }
   ],
   "source": [
    "# 6. Select and print the title column from the book table in alphabetical order.\n",
    "import pandas as pd\n",
    "\n",
    "def sqlite_reader(q,db):\n",
    "    conn = sqlite3.connect(db) \n",
    "    c = conn.cursor()     \n",
    "    c.execute(q)\n",
    "    return c\n",
    "\n",
    "db=\"books.db\"\n",
    "q = 'SELECT title from books order by title'\n",
    "\n",
    "c=sqlite_reader(q,db)\n",
    "\n",
    "df = pd.DataFrame(c.fetchall(), columns=['title'])\n",
    "print (df)"
   ]
  },
  {
   "cell_type": "code",
   "execution_count": 59,
   "id": "1d4d3c73",
   "metadata": {},
   "outputs": [
    {
     "name": "stdout",
     "output_type": "stream",
     "text": [
      "                           title           author  year\n",
      "0  The Weirdstone of Brisingamen      Alan Garner  1960\n",
      "1                     Small Gods  Terry Pratchett  1992\n",
      "2         Perdido Street Station   China Miéville  2000\n",
      "3                          Thud!  Terry Pratchett  2005\n",
      "4             The Spellman Files        Lisa Lutz  2007\n"
     ]
    }
   ],
   "source": [
    "# 7. From the book table, select and print all columns in the order of publication.\n",
    "db=\"books.db\"\n",
    "q = 'SELECT title, author,year from books order by year'\n",
    "\n",
    "c=sqlite_reader(q,db)    # Defined in previous question\n",
    "\n",
    "df = pd.DataFrame(c.fetchall(), columns=['title','author','year'])\n",
    "print (df)"
   ]
  },
  {
   "cell_type": "code",
   "execution_count": 70,
   "id": "90d350bf",
   "metadata": {},
   "outputs": [
    {
     "name": "stdout",
     "output_type": "stream",
     "text": [
      "('The Weirdstone of Brisingamen', 'Alan Garner', 1960)\n",
      "('Perdido Street Station', 'China Miéville', 2000)\n",
      "('Thud!', 'Terry Pratchett', 2005)\n",
      "('The Spellman Files', 'Lisa Lutz', 2007)\n",
      "('Small Gods', 'Terry Pratchett', 1992)\n"
     ]
    }
   ],
   "source": [
    "# 8. Use the sqlalchemy module to connect to the sqlite3 database books.db that you just made in exercise 6.\n",
    "\n",
    "import sqlalchemy as db\n",
    "database=\"books.db\"\n",
    "\n",
    "engine = db.create_engine('sqlite:///%s' % database)\n",
    "connection = engine.connect()\n",
    "metadata = db.MetaData()\n",
    "shows = db.Table('books', metadata, autoload=True, autoload_with=engine)\n",
    "query = db.select([shows])\n",
    "result = connection.execute(query)\n",
    "result_set = result.fetchall()\n",
    "for row in result_set:\n",
    "    print(row)"
   ]
  },
  {
   "cell_type": "code",
   "execution_count": 91,
   "id": "df496f0b",
   "metadata": {},
   "outputs": [
    {
     "name": "stderr",
     "output_type": "stream",
     "text": [
      "<ipython-input-91-9cc145332b16>:6: DeprecationWarning: Redis.hmset() is deprecated. Use Redis.hset() instead.\n",
      "  conn.hmset('test', {'count': 1, 'name': 'Fester Bestertester'})\n"
     ]
    },
    {
     "data": {
      "text/plain": [
       "{b'count': b'1', b'name': b'Fester Bestertester'}"
      ]
     },
     "execution_count": 91,
     "metadata": {},
     "output_type": "execute_result"
    }
   ],
   "source": [
    "# 9. Install the Redis server and the Python redis library (pip install redis) on your computer.\n",
    "# Create a Redis hash called test with the fields count (1) and name ('Fester Bestertester'). Print all the fields for test.\n",
    "\n",
    "import redis\n",
    "conn = redis.Redis()\n",
    "conn.hmset('test', {'count': 1, 'name': 'Fester Bestertester'})\n",
    "conn.hgetall('test')"
   ]
  },
  {
   "cell_type": "code",
   "execution_count": 92,
   "id": "5b8dbe95",
   "metadata": {},
   "outputs": [
    {
     "data": {
      "text/plain": [
       "3"
      ]
     },
     "execution_count": 92,
     "metadata": {},
     "output_type": "execute_result"
    }
   ],
   "source": [
    "# 10. Increment the count field of test and print it.\n",
    "conn.hincrby('test', 'count', 2)   #increasing by 2"
   ]
  }
 ],
 "metadata": {
  "kernelspec": {
   "display_name": "Python 3",
   "language": "python",
   "name": "python3"
  },
  "language_info": {
   "codemirror_mode": {
    "name": "ipython",
    "version": 3
   },
   "file_extension": ".py",
   "mimetype": "text/x-python",
   "name": "python",
   "nbconvert_exporter": "python",
   "pygments_lexer": "ipython3",
   "version": "3.8.8"
  }
 },
 "nbformat": 4,
 "nbformat_minor": 5
}
