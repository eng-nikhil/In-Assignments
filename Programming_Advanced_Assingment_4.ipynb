{
 "cells": [
  {
   "cell_type": "code",
   "execution_count": 5,
   "id": "0d771da2",
   "metadata": {},
   "outputs": [
    {
     "name": "stdout",
     "output_type": "stream",
     "text": [
      "5\n",
      "55\n",
      "6765\n",
      "12586269025\n"
     ]
    }
   ],
   "source": [
    "# 1. In mathematics, the Fibonacci numbers, commonly denoted Fn, form a sequence, called the Fibonacci sequence, \n",
    "#such that each number is the sum of the two preceding ones, starting from 0 and 1:\n",
    "\n",
    "# The beginning of the sequence is this:\n",
    "\n",
    "# 0, 1, 1, 2, 3, 5, 8, 13, 21, 34, 55, 89, 144, ...\n",
    "\n",
    "# The function fastFib(num) returns the fibonacci number Fn, of the given num as an argument.\n",
    "\n",
    "# Examples\n",
    "\n",
    "# fib_fast(5) ➞ 5\n",
    "\n",
    "# fib_fast(10) ➞ 55\n",
    "\n",
    "# fib_fast(20) ➞ 6765\n",
    "\n",
    "# fib_fast(50) ➞ 12586269025\n",
    "\n",
    "\n",
    "def fib_fast(num):\n",
    "    a=0\n",
    "    b=1    \n",
    "    for i in range(num-1):\n",
    "        c=a+b\n",
    "        a=b\n",
    "        b=c\n",
    "    return c\n",
    "\n",
    "print(fib_fast(5))\n",
    "print(fib_fast(10))\n",
    "print(fib_fast(20))\n",
    "print(fib_fast(50))"
   ]
  },
  {
   "cell_type": "code",
   "execution_count": 16,
   "id": "4cf36e8b",
   "metadata": {},
   "outputs": [
    {
     "name": "stdout",
     "output_type": "stream",
     "text": [
      "68 65 6c 6c 6f 20 77 6f 72 6c 64 \n",
      "42 69 67 20 42 6f 69 \n",
      "4d 61 72 74 79 20 50 6f 70 70 69 6e 73 6f 6e \n"
     ]
    }
   ],
   "source": [
    "# 2. Create a function that takes a strings characters as ASCII and returns each characters hexadecimal value as a string.\n",
    "\n",
    "# Examples\n",
    "\n",
    "# convert_to_hex(\"hello world\") ➞ \"68 65 6c 6c 6f 20 77 6f 72 6c 64\"\n",
    "\n",
    "# convert_to_hex(\"Big Boi\") ➞ \"42 69 67 20 42 6f 69\"\n",
    "\n",
    "# convert_to_hex(\"Marty Poppinson\") ➞ \"4d 61 72 74 79 20 50 6f 70 70 69 6e 73 6f 6e\"\n",
    "\n",
    "def  convert_to_hex(mystr):\n",
    "    hex_conv=''\n",
    "    for i in mystr:\n",
    "        hex_conv+= ((hex(ord(i)) + ' ').lstrip('0x'))\n",
    "    return hex_conv\n",
    "\n",
    "print(convert_to_hex(\"hello world\"))\n",
    "print(convert_to_hex(\"Big Boi\"))\n",
    "print(convert_to_hex(\"Marty Poppinson\"))\n"
   ]
  },
  {
   "cell_type": "code",
   "execution_count": 26,
   "id": "a04c767c",
   "metadata": {},
   "outputs": [
    {
     "name": "stdout",
     "output_type": "stream",
     "text": [
      "Where did my vowels go?\n",
      "abcd\n",
      "UPPERCASE\n"
     ]
    }
   ],
   "source": [
    "# 3. Someone has attempted to censor my strings by replacing every vowel with a *, l*k* th*s.\n",
    "#Luckily, I've been able to find the vowels that were removed.\n",
    "\n",
    "# Given a censored string and a string of the censored vowels, return the original uncensored string.\n",
    "\n",
    "# Example\n",
    "\n",
    "# uncensor(\"Wh*r* d*d my v*w*ls g*?\", \"eeioeo\") ➞ \"Where did my vowels go?\"\n",
    "\n",
    "# uncensor(\"abcd\", \"\") ➞ \"abcd\"\n",
    "\n",
    "# uncensor(\"*PP*RC*S*\", \"UEAE\") ➞ \"UPPERCASE\"\n",
    "\n",
    "def uncensor(mystr,vowels):\n",
    "    counter=0\n",
    "    newstr=''\n",
    "    for i in range(len(mystr)):\n",
    "        if mystr[i] == '*':\n",
    "            newstr+=vowels[counter]\n",
    "            counter+=1\n",
    "        else:\n",
    "            newstr+=mystr[i]\n",
    "    return newstr\n",
    "        \n",
    "        \n",
    "print(uncensor(\"Wh*r* d*d my v*w*ls g*?\", \"eeioeo\"))\n",
    "print(uncensor(\"abcd\", \"\"))\n",
    "print(uncensor(\"*PP*RC*S*\", \"UEAE\"))\n"
   ]
  },
  {
   "cell_type": "code",
   "execution_count": 28,
   "id": "01f76034",
   "metadata": {},
   "outputs": [
    {
     "name": "stdout",
     "output_type": "stream",
     "text": [
      "Domain name using PTR DNS:\n",
      "dns.google\n",
      "dns.google\n"
     ]
    }
   ],
   "source": [
    "# 4. Write a function that takes an IP address and returns the domain name using PTR DNS records.\n",
    "\n",
    "# Example\n",
    "\n",
    "# get_domain(\"8.8.8.8\") ➞ \"dns.google\"\n",
    "\n",
    "# get_domain(\"8.8.4.4\") ➞ \"dns.google\"\n",
    "import socket\n",
    "\n",
    "\n",
    "def get_domain_name(ip_address):\n",
    "    result=socket.gethostbyaddr(ip_address)\n",
    "    return list(result)[0]\n",
    "\n",
    "print(\"Domain name using PTR DNS:\")\n",
    "print(get_domain_name(\"8.8.8.8\"))\n",
    "print(get_domain_name(\"8.8.4.4\"))\n"
   ]
  },
  {
   "cell_type": "code",
   "execution_count": 51,
   "id": "df4f679f",
   "metadata": {},
   "outputs": [
    {
     "name": "stdout",
     "output_type": "stream",
     "text": [
      "288\n",
      "34560\n",
      "24883200\n"
     ]
    }
   ],
   "source": [
    "# 5. Create a function that takes an integer n and returns the factorial of factorials. See below examples for a better understanding:\n",
    "\n",
    "# Examples\n",
    "\n",
    "# fact_of_fact(4) ➞ 288\n",
    "# # 4! * 3! * 2! * 1! = 288\n",
    "\n",
    "# fact_of_fact(5) ➞ 34560\n",
    "\n",
    "# fact_of_fact(6) ➞ 24883200\n",
    "\n",
    "def fact(num):\n",
    "    if num==0:\n",
    "        return 1\n",
    "    else:\n",
    "        num= num*fact(num-1)\n",
    "    return num\n",
    "    \n",
    "def fact_of_fact(fnum):\n",
    "    factval=1\n",
    "    while True:\n",
    "        if fnum == 0:\n",
    "            break \n",
    "        else:\n",
    "            factval=factval*fact(fnum)\n",
    "            fnum-=1\n",
    "    return factval\n",
    "print(fact_of_fact(4))\n",
    "print(fact_of_fact(5))\n",
    "print(fact_of_fact(6))"
   ]
  }
 ],
 "metadata": {
  "kernelspec": {
   "display_name": "Python 3",
   "language": "python",
   "name": "python3"
  },
  "language_info": {
   "codemirror_mode": {
    "name": "ipython",
    "version": 3
   },
   "file_extension": ".py",
   "mimetype": "text/x-python",
   "name": "python",
   "nbconvert_exporter": "python",
   "pygments_lexer": "ipython3",
   "version": "3.8.8"
  }
 },
 "nbformat": 4,
 "nbformat_minor": 5
}
