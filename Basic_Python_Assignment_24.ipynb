{
 "cells": [
  {
   "cell_type": "raw",
   "id": "7963c575",
   "metadata": {},
   "source": [
    "1. What is the relationship between def statements and lambda expressions ?\n",
    "Ans: def used to create function which needs to be used in future by calling there prototype\n",
    "     lamda are annonymous function to used as inline.They can be used whenever function objects are required.\n",
    "        \n",
    "2. What is the benefit of lambda?\n",
    "Ans:No additional variable, concise code.\n",
    "    \n",
    "3. Compare and contrast map, filter, and reduce.\n",
    "Ans: map applies a function to all the items in the given list. eg: Add 10 to all the elements of list \n",
    "    filter creates a list of elements for which a function returns true value eg: Get the list of even numbers from the inputlist\n",
    "    reduce performs some computation on a list and returns result for eg: Sum of all the elements of list \n",
    "\n",
    "4. What are function annotations, and how are they used?\n",
    "Ans: Since Python supports dynamic typing and hence no module is provided for type checking. \n",
    "    Annotation can be used to inform about the type of the parameters and the return type of the function.\n",
    "    Can be defind as \n",
    "    def test(a:int, b:float=5.0)  -> 'int'     \n",
    "    means type of a should be int , type of b should be float and test function should return a integer.\n",
    "\n",
    "5. What are recursive functions, and how are they used?\n",
    "Ans: Function which calls itself is recursive function,values are passed on stack for them\n",
    "     def fibonacci(num):\n",
    "        fibonacci(num-1)\n",
    "        \n",
    "6. What are some general design guidelines for coding functions?\n",
    "Ans: 1.Use 4-space indentation and no tabs.\n",
    "     2.Use docstrings \n",
    "     3.Wrap lines so that they don’t exceed 79 characters\n",
    "     4.Use spaces around operators and after commas,\n",
    "\n",
    "7. Name three or more ways that functions can communicate results to a caller.\n",
    "Ans: return , yield , Use mutable datatypes like dict,list"
   ]
  }
 ],
 "metadata": {
  "kernelspec": {
   "display_name": "Python 3",
   "language": "python",
   "name": "python3"
  },
  "language_info": {
   "codemirror_mode": {
    "name": "ipython",
    "version": 3
   },
   "file_extension": ".py",
   "mimetype": "text/x-python",
   "name": "python",
   "nbconvert_exporter": "python",
   "pygments_lexer": "ipython3",
   "version": "3.8.8"
  }
 },
 "nbformat": 4,
 "nbformat_minor": 5
}
