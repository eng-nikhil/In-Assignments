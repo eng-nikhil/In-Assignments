{
 "cells": [
  {
   "cell_type": "raw",
   "id": "35bd52d6",
   "metadata": {},
   "source": [
    "Q1. Define the relationship between a class and its instances. Is it a one-to-one or a one-to-many partnership, for example?\n",
    "Ans: Class is like blueprinting or prototype. Instance is actual implementation\n",
    "     Class has one to many relation with object.\n",
    "    \n",
    "Q2. What kind of data is held only in an instance?\n",
    "Ans: Instance variables and variables which are defined using object referece(self)\n",
    "\n",
    "Q3. What kind of knowledge is stored in a class?\n",
    "Ans: Prototype or blueprint by defining methods and variables.\n",
    "\n",
    "Q4. What exactly is a method, and how is it different from a regular function?\n",
    "Ans:Generally, methods are specfic function under the class which are called/has reference of object(self).\n",
    "    First parameter of methods is used as object refrence(self) of class.\n",
    "    function can be utility methods as well. which doesn't need object refrence.\n",
    "    \n",
    "\n",
    "Q5. Is inheritance supported in Python, and if so, what is the syntax?\n",
    "Ans: Yes,\n",
    "     class Parent:pass\n",
    "     class Child(Parent):pass\n",
    "\n",
    "Q6. How much encapsulation (making instance or class variables private) does Python support?\n",
    "Ans: encapsulation is achieved in python by Conventions, and its developer responsibity to follow this.\n",
    "     __private_var, _protected_var , public_var\n",
    "        \n",
    "Q7. How do you distinguish between a class variable and an instance variable?\n",
    "Ans: Class/static variables are associated to class can be accessed by class name.All object share same copy.\n",
    "      instance variables are assosciated to instance of class. every instance has its own copy\n",
    "        \n",
    "Q8. When, if ever, can self be included in a class's method definitions?\n",
    "Ans:Class/Static methods can't access instance methods and instance variables directly.\n",
    "\n",
    "Q9. What is the difference between the _ _add_ _ and the _ _radd_ _ methods?\n",
    "Ans: both methods are used to overload + operrator.\n",
    "    but functions __radd__ are only called if the left operand does not support the corresponding operation \n",
    "    and the operands are of different types.\n",
    "\n",
    "Q10. When is it necessary to use a reflection method? When do you not need it, even though you support the operation in question?\n",
    "Ans: for eg: if we want to print something diffrent if type(obj)== str and type(obj)== int then reflection method can be used\n",
    "    \n",
    "Q11. What is the _ _iadd_ _ method called?\n",
    "Ans Used to overload += operator\n",
    "\n",
    "Q12. Is the _ _init_ _ method inherited by subclasses? What do you do if you need to customize its behavior within a subclass?\n",
    "Ans: __init__ is not inherited in subclass , if subclass want to change its behaviuor:\n",
    "        1. Can write in its own __init__ method\n",
    "        2. using super() call parent init and change behaviuor"
   ]
  }
 ],
 "metadata": {
  "kernelspec": {
   "display_name": "Python 3",
   "language": "python",
   "name": "python3"
  },
  "language_info": {
   "codemirror_mode": {
    "name": "ipython",
    "version": 3
   },
   "file_extension": ".py",
   "mimetype": "text/x-python",
   "name": "python",
   "nbconvert_exporter": "python",
   "pygments_lexer": "ipython3",
   "version": "3.8.8"
  }
 },
 "nbformat": 4,
 "nbformat_minor": 5
}
