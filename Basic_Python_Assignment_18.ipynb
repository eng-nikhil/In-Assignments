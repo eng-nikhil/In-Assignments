{
 "cells": [
  {
   "cell_type": "code",
   "execution_count": 8,
   "id": "bdc7c9cc",
   "metadata": {},
   "outputs": [
    {
     "name": "stdout",
     "output_type": "stream",
     "text": [
      "Open 9-5 daily\n"
     ]
    }
   ],
   "source": [
    "# 1. Create a zoo.py file first. Define the hours() function, which prints the string 'Open 9-5 daily'. \n",
    "#Then, use the interactive interpreter to import the zoo module and call its hours() function.\n",
    "func='def hours(): print(\"Open 9-5 daily\")'\n",
    "f = open('zoo.py','w')\n",
    "f.write(func)\n",
    "f.close()\n",
    "\n",
    "import zoo \n",
    "zoo.hours()"
   ]
  },
  {
   "cell_type": "code",
   "execution_count": 7,
   "id": "eb29e93d",
   "metadata": {},
   "outputs": [
    {
     "name": "stdout",
     "output_type": "stream",
     "text": [
      "Open 9-5 daily\n"
     ]
    }
   ],
   "source": [
    "# 2. In the interactive interpreter, import the zoo module as menagerie and call its hours() function.\n",
    "\n",
    "import zoo as menagerie\n",
    "menagerie.hours()"
   ]
  },
  {
   "cell_type": "code",
   "execution_count": 9,
   "id": "52067f30",
   "metadata": {},
   "outputs": [
    {
     "name": "stdout",
     "output_type": "stream",
     "text": [
      "Open 9-5 daily\n"
     ]
    }
   ],
   "source": [
    "# 3.Using the interpreter, explicitly import and call the hours() function from zoo.\n",
    "\n",
    "from zoo import hours\n",
    "hours()"
   ]
  },
  {
   "cell_type": "code",
   "execution_count": 10,
   "id": "33bdb764",
   "metadata": {},
   "outputs": [
    {
     "name": "stdout",
     "output_type": "stream",
     "text": [
      "Open 9-5 daily\n"
     ]
    }
   ],
   "source": [
    "# 4. Import the hours() function as info and call it.\n",
    "\n",
    "from zoo import hours as info\n",
    "info()"
   ]
  },
  {
   "cell_type": "code",
   "execution_count": 13,
   "id": "74c3fd9c",
   "metadata": {},
   "outputs": [
    {
     "name": "stdout",
     "output_type": "stream",
     "text": [
      "a : 1\n",
      "b : 2\n",
      "c : 3\n"
     ]
    }
   ],
   "source": [
    "# 5. Create a plain dictionary with the key-value pairs 'a': 1, 'b': 2, and 'c': 3, and print it out.\n",
    "\n",
    "dict={'a': 1, 'b': 2,'c': 3}\n",
    "for key,val in dict.items():\n",
    "    print(key,':',val)"
   ]
  },
  {
   "cell_type": "code",
   "execution_count": 18,
   "id": "f23f0cf0",
   "metadata": {},
   "outputs": [
    {
     "name": "stdout",
     "output_type": "stream",
     "text": [
      "a 1\n",
      "b 2\n",
      "c 3\n",
      "Changed Order\n",
      "b 2\n",
      "c 3\n",
      "a 1\n"
     ]
    }
   ],
   "source": [
    "# 6.Make an OrderedDict called fancy from the same pairs listed in 5 and print it. Did it print in the same order as plain?\n",
    "\n",
    "from collections import OrderedDict\n",
    "fancy = OrderedDict()\n",
    "fancy={'a': 1, 'b': 2,'c': 3}\n",
    " \n",
    "for key, value in fancy.items():\n",
    "    print(key, value)\n",
    "\n",
    "# Yes it will print same order beacause OrderedDict preservs order of insertion \n",
    "# here all inserted at same time\n",
    "\n",
    "# Changing Order of insertion\n",
    "\n",
    "print('Changed Order')\n",
    "fancy1 = OrderedDict()\n",
    "fancy1={ 'b': 2,'c': 3,'a': 1,}\n",
    "for key, value in fancy1.items():\n",
    "    print(key, value)"
   ]
  },
  {
   "cell_type": "code",
   "execution_count": 23,
   "id": "9e002875",
   "metadata": {},
   "outputs": [
    {
     "name": "stdout",
     "output_type": "stream",
     "text": [
      "something for a\n"
     ]
    }
   ],
   "source": [
    "# 7. Make a default dictionary called dict_of_lists and pass it the argument list.\n",
    "# Make the list dict_of_lists['a'] and append the value 'something for a' to it in one assignment. \n",
    "# Print dict_of_lists['a'].\n",
    "\n",
    "dict_of_lists={}\n",
    "dict_of_lists['a']='something for a'\n",
    "print(dict_of_lists['a'])\n"
   ]
  }
 ],
 "metadata": {
  "kernelspec": {
   "display_name": "Python 3",
   "language": "python",
   "name": "python3"
  },
  "language_info": {
   "codemirror_mode": {
    "name": "ipython",
    "version": 3
   },
   "file_extension": ".py",
   "mimetype": "text/x-python",
   "name": "python",
   "nbconvert_exporter": "python",
   "pygments_lexer": "ipython3",
   "version": "3.8.8"
  }
 },
 "nbformat": 4,
 "nbformat_minor": 5
}
