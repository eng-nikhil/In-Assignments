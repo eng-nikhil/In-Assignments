{
 "cells": [
  {
   "cell_type": "code",
   "execution_count": 9,
   "id": "4e8813a1",
   "metadata": {},
   "outputs": [
    {
     "name": "stdout",
     "output_type": "stream",
     "text": [
      "2\n",
      "2\n",
      "8\n"
     ]
    }
   ],
   "source": [
    "# 1. Create a function that takes a number n (integer greater than zero) as an argument, and returns 2 if n is odd and 8 if n is even.\n",
    "\n",
    "# You can only use the following arithmetic operators: addition of numbers +, subtraction of numbers -, multiplication of number *, division of number /, and exponentiation **.\n",
    "\n",
    "# You are not allowed to use any other methods in this challenge (i.e. no if statements, comparison operators, etc).\n",
    "\n",
    "# Examples\n",
    "\n",
    "# f(1) ➞ 2\n",
    "\n",
    "# f(2) ➞ 8\n",
    "\n",
    "# f(3) ➞ 2\n",
    "\n",
    "def f(num):\n",
    "    if num%2==0 or num==1:return 2\n",
    "    else:return 8\n",
    "\n",
    "print(f(1))\n",
    "print(f(2))\n",
    "print(f(3))"
   ]
  },
  {
   "cell_type": "code",
   "execution_count": 13,
   "id": "e1a5c336",
   "metadata": {},
   "outputs": [
    {
     "name": "stdout",
     "output_type": "stream",
     "text": [
      "A\n",
      "A\n",
      "None\n"
     ]
    }
   ],
   "source": [
    "# 2. Create a function that returns the majority vote in a list.\n",
    "# A majority vote is an element that occurs > N/2 times in a list (where N is the length of the list).\n",
    "\n",
    "# Examples\n",
    "\n",
    "# majority_vote([\"A\", \"A\", \"B\"]) ➞ \"A\"\n",
    "\n",
    "# majority_vote([\"A\", \"A\", \"A\", \"B\", \"C\", \"A\"]) ➞ \"A\"\n",
    "\n",
    "# majority_vote([\"A\", \"B\", \"B\", \"A\", \"C\", \"C\"]) ➞ None\n",
    "\n",
    "def majority_vote(lst):\n",
    "    myset=set(lst)\n",
    "    mydict={}\n",
    "    for i in myset:\n",
    "        mydict[i]=0\n",
    "    for i in lst:\n",
    "        mydict[i]+=1\n",
    "    max_key=max(mydict, key=mydict.get)\n",
    "    max_val=mydict[max_key]\n",
    "    mydict[max_key]=0\n",
    "    second_max_key=max(mydict, key=mydict.get)\n",
    "    second_max_val=mydict[second_max_key]\n",
    "    if max_val == second_max_val:\n",
    "        return None\n",
    "    return max_key\n",
    "\n",
    "print(majority_vote([\"A\", \"A\", \"B\"]))\n",
    "print(majority_vote([\"A\", \"A\", \"A\", \"B\", \"C\", \"A\"]))\n",
    "print(majority_vote([\"A\", \"B\", \"B\", \"A\", \"C\", \"C\"]))"
   ]
  },
  {
   "cell_type": "code",
   "execution_count": 28,
   "id": "03d77244",
   "metadata": {},
   "outputs": [
    {
     "name": "stdout",
     "output_type": "stream",
     "text": [
      "----- is - Wednesday!\n",
      "The *** jumped **** the moon.\n",
      "Why did the ******* cross the ****?\n"
     ]
    }
   ],
   "source": [
    "# 3. Create a function that takes a string txt and censors any word from a given list lst.\n",
    "#The text removed must be replaced by the given character char.\n",
    "\n",
    "# Examples\n",
    "\n",
    "# censor_string(\"Today is a Wednesday!\", [\"Today\", \"a\"], \"-\") ➞ \"----- is - Wednesday!\"\n",
    "\n",
    "# censor_string(\"The cow jumped over the moon.\", [\"cow\", \"over\"], \"*\"), \"The *** jumped **** the moon.\")\n",
    "\n",
    "# censor_string(\"Why did the chicken cross the road?\", [\"Did\", \"chicken\", \"road\"], \"*\") ➞ \"Why *** the ******* cross the ****?\"\n",
    "\n",
    "def censor_string(mystr,lst,repstr):\n",
    "    for i in lst:\n",
    "        mystr=mystr.replace(i,repstr*len(i),1)\n",
    "    return mystr\n",
    "\n",
    "print(censor_string(\"Today is a Wednesday!\", [\"Today\", \"a\"], \"-\"))\n",
    "print(censor_string(\"The cow jumped over the moon.\", [\"cow\", \"over\"], \"*\"))\n",
    "print(censor_string(\"Why did the chicken cross the road?\", [\"Did\", \"chicken\", \"road\"], \"*\") )"
   ]
  },
  {
   "cell_type": "code",
   "execution_count": 64,
   "id": "978d2a6a",
   "metadata": {},
   "outputs": [
    {
     "name": "stdout",
     "output_type": "stream",
     "text": [
      "True\n",
      "False\n"
     ]
    }
   ],
   "source": [
    "# 4. In mathematics a Polydivisible Number (or magic number) is a number in a given number base with digits abcde...\n",
    "# that has the following properties:\n",
    "\n",
    "# -  Its first digit a is not 0.\n",
    "# - The number formed by its first two digits ab is a multiple of 2.\n",
    "# - The number formed by its first three digits abc is a multiple of 3.\n",
    "# - The number formed by its first four digits abcd is a multiple of 4.\n",
    "\n",
    "# Create a function which takes an integer n and returns True if the given number is a Polydivisible Number and False otherwise.\n",
    "\n",
    "# Examples\n",
    "\n",
    "# is_polydivisible(1232) ➞ True\n",
    "# # 1     / 1 = 1\n",
    "# # 12    / 2 = 6\n",
    "# # 123   / 3 = 41\n",
    "# # 1232  / 4 = 308\n",
    "\n",
    "# is_polydivisible(123220 ) ➞ False\n",
    "# # 1   / 1 = 1\n",
    "# # 12   / 2 = 6\n",
    "# # 123   / 3 = 41\n",
    "# # 1232   / 4 = 308\n",
    "# # 12322   / 5 = 2464.4         # Not a Whole Number\n",
    "# # 123220   /6 = 220536.333...  # Not a Whole Number\n",
    "\n",
    "def is_polydivisible(num):\n",
    "    lst= [x for x in str(num)]\n",
    "    for i in range(0,len(lst)):\n",
    "        val_lst=lst[0:i+1]\n",
    "        val_num=int(''.join(val_lst))\n",
    "        if val_num%(i+1)!=0:\n",
    "            return False\n",
    "    return True\n",
    "\n",
    "print(is_polydivisible(1232))  \n",
    "print(is_polydivisible(123220 ))\n",
    "        "
   ]
  },
  {
   "cell_type": "code",
   "execution_count": 93,
   "id": "c8c04116",
   "metadata": {},
   "outputs": [
    {
     "name": "stdout",
     "output_type": "stream",
     "text": [
      "17\n",
      "87\n"
     ]
    }
   ],
   "source": [
    "# 5. Create a function that takes a list of numbers and returns the sum of all prime numbers in the list.\n",
    "\n",
    "# Examples\n",
    "\n",
    "# sum_primes([1, 2, 3, 4, 5, 6, 7, 8, 9, 10]) ➞ 17\n",
    "\n",
    "# sum_primes([2, 3, 4, 11, 20, 50, 71]) ➞ 87\n",
    "\n",
    "# sum_primes([]) ➞ None\n",
    "\n",
    "from math import sqrt,floor\n",
    "def is_prime(num):\n",
    "    if num==1: return False\n",
    "    for i in range(1,floor(sqrt(num))):\n",
    "        if num%(i+1)==0:\n",
    "            return False\n",
    "    return True\n",
    "\n",
    "def sum_primes(lst):\n",
    "    count=0\n",
    "    if len(lst)==0:return None\n",
    "    for i in lst:\n",
    "        if is_prime(i):  \n",
    "            count+=i\n",
    "    return count\n",
    "\n",
    "print(sum_primes([1, 2, 3, 4, 5, 6, 7, 8, 9, 10]))\n",
    "\n",
    "print(sum_primes([2, 3, 4, 11, 20, 50, 71]) )\n",
    "    "
   ]
  }
 ],
 "metadata": {
  "kernelspec": {
   "display_name": "Python 3",
   "language": "python",
   "name": "python3"
  },
  "language_info": {
   "codemirror_mode": {
    "name": "ipython",
    "version": 3
   },
   "file_extension": ".py",
   "mimetype": "text/x-python",
   "name": "python",
   "nbconvert_exporter": "python",
   "pygments_lexer": "ipython3",
   "version": "3.8.8"
  }
 },
 "nbformat": 4,
 "nbformat_minor": 5
}
