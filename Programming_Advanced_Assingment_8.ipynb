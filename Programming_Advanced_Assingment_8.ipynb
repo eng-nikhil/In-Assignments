{
 "cells": [
  {
   "cell_type": "code",
   "execution_count": 20,
   "id": "fbab1040",
   "metadata": {},
   "outputs": [
    {
     "name": "stdout",
     "output_type": "stream",
     "text": [
      "True\n",
      "True\n",
      "False\n",
      "False\n"
     ]
    }
   ],
   "source": [
    "# 1. Given a sentence as txt, return True if any two adjacent words have this property: One word ends with a vowel, while the word immediately after begins with a vowel (a e i o u).\n",
    "\n",
    "# Examples\n",
    "\n",
    "# vowel_links(\"a very large appliance\") ➞ True\n",
    "\n",
    "# vowel_links(\"go to edabit\") ➞ True\n",
    "\n",
    "# vowel_links(\"an open fire\") ➞ False\n",
    "\n",
    "# vowel_links(\"a sudden applause\") ➞ False\n",
    "\n",
    "def vowel_links(mystr):\n",
    "    vowels=['a','e','i','o','u']\n",
    "    for i in range(len(mystr)-2):\n",
    "        if mystr[i] in vowels and mystr[i+1]==' ' and mystr[i+2]in vowels:\n",
    "            return True\n",
    "    return False\n",
    "\n",
    "print(vowel_links(\"a very large appliance\"))\n",
    "print(vowel_links(\"go to edabit\") )\n",
    "print(vowel_links(\"an open fire\") )\n",
    "print(vowel_links(\"a sudden applause\"))"
   ]
  },
  {
   "cell_type": "code",
   "execution_count": 28,
   "id": "8bcfa18e",
   "metadata": {},
   "outputs": [
    {
     "name": "stdout",
     "output_type": "stream",
     "text": [
      "True\n",
      "True\n",
      "False\n",
      "False\n"
     ]
    }
   ],
   "source": [
    "# 2. You are given three inputs: a string, one letter, and a second letter.\n",
    "\n",
    "# Write a function that returns True if every instance of the first letter occurs before every instance of the second letter.\n",
    "\n",
    "# Examples\n",
    "\n",
    "# first_before_second(\"a rabbit jumps joyfully\", \"a\", \"j\") ➞ True\n",
    "# # Every instance of \"a\" occurs before every instance of \"j\".\n",
    "\n",
    "# first_before_second(\"knaves knew about waterfalls\", \"k\", \"w\") ➞  True\n",
    "\n",
    "# first_before_second(\"happy birthday\", \"a\", \"y\") ➞ False\n",
    "# # The \"a\" in \"birthday\" occurs after the \"y\" in \"happy\".\n",
    "\n",
    "# first_before_second(\"precarious kangaroos\", \"k\", \"a\") ➞ False\n",
    "\n",
    "def first_before_second(mystr,a,b):\n",
    "    ind=mystr.index(b)\n",
    "    if a in mystr[:ind] and a not in mystr[ind+1:]:\n",
    "        return True\n",
    "    else:     \n",
    "        return False\n",
    "print(first_before_second(\"a rabbit jumps joyfully\", \"a\", \"j\"))\n",
    "print( first_before_second(\"knaves knew about waterfalls\", \"k\", \"w\"))\n",
    "print( first_before_second(\"happy birthday\", \"a\", \"y\"))\n",
    "print(first_before_second(\"precarious kangaroos\", \"k\", \"a\"))"
   ]
  },
  {
   "cell_type": "code",
   "execution_count": 30,
   "id": "d0c04422",
   "metadata": {},
   "outputs": [
    {
     "name": "stdout",
     "output_type": "stream",
     "text": [
      "[4, 8]\n",
      "EAI\n",
      "['A', 'B', 'T', 'A', 'I', 'Y']\n"
     ]
    }
   ],
   "source": [
    "# 3. Create a function that returns the characters from a list or string r on odd or even positions, depending on the specifier s.\n",
    "# The specifier will be \"odd\" for items on odd positions (1, 3, 5, ...) and \"even\" for items on even positions (2, 4, 6, ...).\n",
    "\n",
    "# Examples\n",
    "\n",
    "# char_at_pos([2, 4, 6, 8, 10], \"even\") ➞ [4, 8]\n",
    "# # 4 & 8 occupy the 2nd & 4th positions\n",
    "\n",
    "# char_at_pos(\"EDABIT\", \"odd\") ➞ \"EAI\"\n",
    "# # \"E\", \"A\" and \"I\" occupy the 1st, 3rd and 5th positions\n",
    "\n",
    "# char_at_pos([\"A\", \"R\", \"B\", \"I\", \"T\", \"R\", \"A\", \"R\", \"I\", \"L\", \"Y\"], \"odd\") ➞ [\"A\", \"B\", \"T\", \"A\", \"I\", \"Y\"]\n",
    "\n",
    "def char_at_pos(lst,check):\n",
    "    if check=='even':\n",
    "        return lst[1::2]    \n",
    "    elif check=='odd':\n",
    "        return lst[::2]\n",
    "print(char_at_pos([2, 4, 6, 8, 10], \"even\"))\n",
    "print(char_at_pos(\"EDABIT\", \"odd\"))\n",
    "print(char_at_pos([\"A\", \"R\", \"B\", \"I\", \"T\", \"R\", \"A\", \"R\", \"I\", \"L\", \"Y\"], \"odd\"))\n"
   ]
  },
  {
   "cell_type": "code",
   "execution_count": 70,
   "id": "89576681",
   "metadata": {},
   "outputs": [
    {
     "name": "stdout",
     "output_type": "stream",
     "text": [
      "10\n",
      "1\n",
      "64\n"
     ]
    }
   ],
   "source": [
    "# 4. Write a function that returns the greatest common divisor of all list elements. If the greatest common divisor is 1, return 1.\n",
    "\n",
    "# Examples\n",
    "\n",
    "# GCD([10, 20, 40]) ➞ 10\n",
    "\n",
    "# GCD([1, 2, 3, 100]) ➞ 1\n",
    "\n",
    "# GCD([1024, 192, 2048, 512]) ➞ 64\n",
    "\n",
    "def GCD(nums):\n",
    "    n1 = max(nums)\n",
    "    n2 = min(nums)\n",
    "    mx = float(\"-inf\")\n",
    "    for i in range(1,n2+1) :\n",
    "        if n1%i==0 and n2%i==0 and i > mx :\n",
    "            mx = i\n",
    "    return mx\n",
    "            \n",
    "print(GCD([10, 20, 40]))\n",
    "print(GCD([1, 2, 3, 100]))\n",
    "print(GCD([1024, 192, 2048, 512]))   \n",
    "       "
   ]
  },
  {
   "cell_type": "code",
   "execution_count": 95,
   "id": "66ee03c9",
   "metadata": {},
   "outputs": [
    {
     "name": "stdout",
     "output_type": "stream",
     "text": [
      "Decimal Only\n",
      "Binary Only\n",
      "Decimal and binary.\n",
      "Neither\n"
     ]
    }
   ],
   "source": [
    "# 5. A number/string is a palindrome if the digits/characters are the same when read both forward and backward. Examples include \"racecar\" and 12321. Given a positive number n, check if n or the binary representation of n is palindromic. Return the following:\n",
    "\n",
    "# - \"Decimal only.\" if only n is a palindrome.\n",
    "# - \"Binary only.\" if only the binary representation of n is a palindrome.\n",
    "# - \"Decimal and binary.\" if both are palindromes.\n",
    "# - \"Neither!\" if neither are palindromes.\n",
    "\n",
    "# Examples\n",
    "\n",
    "# palindrome_type(1306031) ➞ \"Decimal only.\"\n",
    "# # decimal = 1306031\n",
    "# # binary  = \"100111110110110101111\"\n",
    "\n",
    "# palindrome_type(427787) ➞ \"Binary only.\"\n",
    "# # decimal = 427787\n",
    "# # binary  = \"1101000011100001011\"\n",
    "\n",
    "# palindrome_type(313) ➞ \"Decimal and binary.\"\n",
    "# # decimal = 313\n",
    "# # binary  = 100111001\n",
    "\n",
    "# palindrome_type(934) ➞ \"Neither!\"\n",
    "# # decimal = 934\n",
    "# # binary  = \"1110100110\"\n",
    "\n",
    "\n",
    "def palindrome_type(num):    \n",
    "    Decimal,Binary=False,False\n",
    "    if str(num)==str(num)[::-1]:\n",
    "        Decimal=True\n",
    "    if str(bin(num))[2:]==str(bin(num))[:1:-1]:     \n",
    "        Binary=True\n",
    "    if Decimal and Binary:\n",
    "        return'Decimal and binary.'\n",
    "    elif Decimal:\n",
    "        return 'Decimal Only'\n",
    "    elif Binary:\n",
    "        return 'Binary Only'\n",
    "    else:\n",
    "        return 'Neither'\n",
    "\n",
    "print(palindrome_type(1306031))\n",
    "print(palindrome_type(427787))\n",
    "print(palindrome_type(313))\n",
    "print(palindrome_type(934))    "
   ]
  }
 ],
 "metadata": {
  "kernelspec": {
   "display_name": "Python 3",
   "language": "python",
   "name": "python3"
  },
  "language_info": {
   "codemirror_mode": {
    "name": "ipython",
    "version": 3
   },
   "file_extension": ".py",
   "mimetype": "text/x-python",
   "name": "python",
   "nbconvert_exporter": "python",
   "pygments_lexer": "ipython3",
   "version": "3.8.8"
  }
 },
 "nbformat": 4,
 "nbformat_minor": 5
}
