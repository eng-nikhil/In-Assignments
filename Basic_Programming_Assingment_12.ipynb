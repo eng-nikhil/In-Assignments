{
 "cells": [
  {
   "cell_type": "code",
   "execution_count": 6,
   "id": "1db73290",
   "metadata": {},
   "outputs": [
    {
     "data": {
      "text/plain": [
       "{2, 3, 4}"
      ]
     },
     "execution_count": 6,
     "metadata": {},
     "output_type": "execute_result"
    }
   ],
   "source": [
    "# 1.\tWrite a Python program to Extract Unique values dictionary values?\n",
    "# def extractUnique(dict):\n",
    "def uniquevalues(dict):\n",
    "    return set(dict.values())\n",
    "    \n",
    "dict={'k1':2,'k2':3,'k3':4,'k4':2,'k5':3}\n",
    "uniquevalues(dict)"
   ]
  },
  {
   "cell_type": "code",
   "execution_count": 9,
   "id": "249c3fec",
   "metadata": {},
   "outputs": [
    {
     "data": {
      "text/plain": [
       "14"
      ]
     },
     "execution_count": 9,
     "metadata": {},
     "output_type": "execute_result"
    }
   ],
   "source": [
    "# 2.\tWrite a Python program to find the sum of all items in a dictionary?\n",
    "def valuesSum(dict):\n",
    "    sum=0\n",
    "    for i in dict.values():\n",
    "        sum+=i\n",
    "    return sum\n",
    "\n",
    "dict={'k1':2,'k2':3,'k3':4,'k4':2,'k5':3}\n",
    "valuesSum(dict)"
   ]
  },
  {
   "cell_type": "code",
   "execution_count": 12,
   "id": "11aa0330",
   "metadata": {},
   "outputs": [
    {
     "name": "stdout",
     "output_type": "stream",
     "text": [
      "Merged List:  {'k1': 2, 'k2': 3, 'k3': 4, 'k4': 2, 'k5': 3}\n"
     ]
    }
   ],
   "source": [
    "# 3.\tWrite a Python program to Merging two Dictionaries?\n",
    "def dictmerge(k1,k2):\n",
    "    for k,v in k2.items():\n",
    "        k1[k]=v\n",
    "    return k1\n",
    "\n",
    "k1={'k1':2,'k2':3}\n",
    "k2={'k3':4,'k4':2,'k5':3}\n",
    "print('Merged List: ',dictmerge(k1,k2))\n"
   ]
  },
  {
   "cell_type": "code",
   "execution_count": 25,
   "id": "47f4b503",
   "metadata": {},
   "outputs": [
    {
     "name": "stdout",
     "output_type": "stream",
     "text": [
      "nested_dictionary {'K1': {'C1K1': {'C2K2': 20}}, 'K2': {'C1K2': {'C2K2': 3}}, 'K3': {'C1K3': {'C2K3': 1, 'C3K3': 4}}}\n",
      "flat_dictionary {'K1_C1K1_C2K2': 20, 'K2_C1K2_C2K2': 3, 'K3_C1K3_C2K3': 1, 'K3_C1K3_C3K3': 4}\n"
     ]
    }
   ],
   "source": [
    "# 4.\tWrite a Python program to convert key-values list to flat dictionary?\n",
    "def flatten_dict(dd, sep ='_', prefix =''):\n",
    "    return { prefix + sep + k if prefix else k : v\n",
    "             for kk, vv in dd.items()\n",
    "             for k, v in flatten_dict(vv, sep, kk).items()\n",
    "             } if isinstance(dd, dict) else { prefix : dd }\n",
    "         \n",
    "\n",
    "ini_dict = {'K1': {'C1K1': {'C2K2': 20}},\n",
    "            'K2': {'C1K2': {'C2K2': 3}},\n",
    "            'K3': {'C1K3': {'C2K3': 1, 'C3K3': 4}}}\n",
    " \n",
    "print (\"nested_dictionary\", str(ini_dict))\n",
    "print (\"flat_dictionary\", str(flatten_dict(ini_dict)))"
   ]
  },
  {
   "cell_type": "code",
   "execution_count": 39,
   "id": "f800a7b0",
   "metadata": {},
   "outputs": [
    {
     "name": "stdout",
     "output_type": "stream",
     "text": [
      "Before insertion dict_items([('k1', 2), ('k2', 3), ('k3', 4)])\n",
      "After insertion dict_items([('k0', 1), ('k1', 2), ('k2', 3), ('k3', 4)])\n"
     ]
    }
   ],
   "source": [
    "# 5.\tWrite a Python program to insertion at the beginning in OrderedDict?\n",
    "from collections import OrderedDict\n",
    " \n",
    "od = OrderedDict()\n",
    "od = {'k1':2,'k2':3,'k3':4}\n",
    "print('Before insertion',od.items())\n",
    "temp_od=OrderedDict()\n",
    "\n",
    "temp_od={'k0':1}\n",
    "for key, value in od.items():\n",
    "    temp_od[key]=value\n",
    "od=temp_od\n",
    "print('After insertion',od.items())\n"
   ]
  },
  {
   "cell_type": "code",
   "execution_count": 47,
   "id": "3d72d46c",
   "metadata": {},
   "outputs": [
    {
     "name": "stdout",
     "output_type": "stream",
     "text": [
      "odict_items([('A', None), ('B', None), ('C', None), ('D', None), ('E', None), ('F', None)])\n"
     ]
    },
    {
     "data": {
      "text/plain": [
       "'true'"
      ]
     },
     "execution_count": 47,
     "metadata": {},
     "output_type": "execute_result"
    }
   ],
   "source": [
    "# 6.\tWrite a Python program to check order of character in string using OrderedDict()?\n",
    "\n",
    "def ordercheck(input, pattern):       \n",
    "    dict = OrderedDict.fromkeys(input) \n",
    "    print(dict.items())\n",
    "    ptrlen = 0\n",
    "    for key,value in dict.items(): \n",
    "        if (key == pattern[ptrlen]): \n",
    "            ptrlen = ptrlen + 1\n",
    "        if (ptrlen == (len(pattern))): \n",
    "            return 'true'\n",
    "    return 'false'\n",
    "  \n",
    "ordercheck('ABCDEF','CD')\n"
   ]
  },
  {
   "cell_type": "code",
   "execution_count": 84,
   "id": "f637ca35",
   "metadata": {},
   "outputs": [
    {
     "name": "stdout",
     "output_type": "stream",
     "text": [
      "Org Dict: {'e': 18, 'a': 56, 'd': 24, 'b': 21, 'c': 20} \n",
      "\n",
      "Sorting Based on Key: \n",
      "a 56\n",
      "b 21\n",
      "c 20\n",
      "d 24\n",
      "e 18\n",
      "Sorting Based on Values: \n",
      "e 18\n",
      "c 20\n",
      "b 21\n",
      "d 24\n",
      "a 56\n"
     ]
    }
   ],
   "source": [
    "# 7.\tWrite a Python program to sort Python Dictionaries by Key or Value?\n",
    "def sorteddict(dict,criteria='key'):\n",
    "    all_keys=list(dict.keys())\n",
    "    all_vals=list(dict.values())\n",
    "    sorted_keys=sorted(all_keys)\n",
    "    sorted_vals=sorted(all_vals)   \n",
    "    if criteria== 'key':\n",
    "        print(\"Sorting Based on Key: \")\n",
    "        for i in range(len(sorted_keys)):\n",
    "            print(sorted_keys[i],dict[sorted_keys[i]])\n",
    "    else:\n",
    "        print(\"Sorting Based on Values: \")\n",
    "        for i in sorted_vals:\n",
    "            ind=all_vals.index(i)\n",
    "            print(all_keys[ind],dict[all_keys[ind]])\n",
    "\n",
    "d1={'e': 18, 'a': 56, 'd': 24, 'b': 21, 'c': 20}\n",
    "print(\"Org Dict:\", d1 ,'\\n')\n",
    "sorteddict(d1,'key')\n",
    "sorteddict(d1,'vals')"
   ]
  }
 ],
 "metadata": {
  "kernelspec": {
   "display_name": "Python 3",
   "language": "python",
   "name": "python3"
  },
  "language_info": {
   "codemirror_mode": {
    "name": "ipython",
    "version": 3
   },
   "file_extension": ".py",
   "mimetype": "text/x-python",
   "name": "python",
   "nbconvert_exporter": "python",
   "pygments_lexer": "ipython3",
   "version": "3.8.8"
  }
 },
 "nbformat": 4,
 "nbformat_minor": 5
}
