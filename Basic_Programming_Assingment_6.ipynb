{
 "cells": [
  {
   "cell_type": "code",
   "execution_count": 2,
   "id": "1fef1c2b",
   "metadata": {},
   "outputs": [
    {
     "name": "stdout",
     "output_type": "stream",
     "text": [
      "Fibonacci List:  [0, 1, 1, 2, 3, 5, 8]\n"
     ]
    }
   ],
   "source": [
    "#Write a Python Program to Display Fibonacci Sequence Using Recursion?\n",
    "\n",
    "def fibonacciRecursion(a,b,num):\n",
    "    if num == 1:\n",
    "        return 1\n",
    "    else:\n",
    "        c=a+b\n",
    "        l.append(c)\n",
    "        fibonacciRecursion(b,c,num-1)\n",
    "l=[0,1]\n",
    "fibonacciRecursion(0,1,6)\n",
    "print('Fibonacci List: ', l)"
   ]
  },
  {
   "cell_type": "code",
   "execution_count": 10,
   "id": "92857bb2",
   "metadata": {},
   "outputs": [
    {
     "name": "stdout",
     "output_type": "stream",
     "text": [
      "120\n"
     ]
    }
   ],
   "source": [
    "#Write a Python Program to Find Factorial of Number Using Recursion?\n",
    "\n",
    "def factorialRecursion(num):\n",
    "    if num == 1:\n",
    "        return 1\n",
    "    else:\n",
    "        return num*factorialRecursion(num-1)\n",
    "print(factorialRecursion(5))"
   ]
  },
  {
   "cell_type": "code",
   "execution_count": 15,
   "id": "918ab065",
   "metadata": {},
   "outputs": [
    {
     "name": "stdout",
     "output_type": "stream",
     "text": [
      "Enter Weight in KG: 78\n",
      "Enter Height in meters: 1.71\n",
      "BMI is: 26.6749 \n"
     ]
    }
   ],
   "source": [
    "#Write a Python Program to calculate your Body Mass Index?\n",
    "def BMICalculate(weight,height):\n",
    "    BMI = weight/height**2\n",
    "    return BMI\n",
    "\n",
    "weight=float(input(\"Enter Weight in KG: \"))\n",
    "height=float(input(\"Enter Height in meters: \"))\n",
    "print(\"BMI is: {0:.4f} \".format(BMICalculate(weight,height)))"
   ]
  },
  {
   "cell_type": "code",
   "execution_count": 27,
   "id": "b24e06ce",
   "metadata": {},
   "outputs": [
    {
     "name": "stdout",
     "output_type": "stream",
     "text": [
      "Enter any number: 10\n",
      "Natural Log:  2.302585092994046\n"
     ]
    }
   ],
   "source": [
    "#Write a Python Program to calculate the natural logarithm of any number?\n",
    "import math\n",
    "def naturallog(a):\n",
    "    return math.log(a)\n",
    "a=float(input(\"Enter any number: \"))\n",
    "print('Natural Log: ',naturallog(a))"
   ]
  },
  {
   "cell_type": "code",
   "execution_count": 53,
   "id": "3caee319",
   "metadata": {},
   "outputs": [
    {
     "name": "stdout",
     "output_type": "stream",
     "text": [
      "Enter Number: 3\n",
      "Cube Sum is:  36 Using recurion:  36\n"
     ]
    }
   ],
   "source": [
    "#Write a Python Program for cube sum of first n natural numbers?\n",
    "def cubesum(n):\n",
    "    sum=0\n",
    "    for i in range(1,n+1):\n",
    "        sum+=i**3\n",
    "    return sum\n",
    "        \n",
    "def cubesumrecursion(n):\n",
    "    if n==0:\n",
    "        return 0\n",
    "    else:\n",
    "        return n**3+cubesumrecursion(n-1)\n",
    "\n",
    "num=int(input(\"Enter Number: \"))\n",
    "print(\"Cube Sum is: \",cubesum(num),\"Using recurion: \" ,cubesumrecursion(num))"
   ]
  }
 ],
 "metadata": {
  "kernelspec": {
   "display_name": "Python 3",
   "language": "python",
   "name": "python3"
  },
  "language_info": {
   "codemirror_mode": {
    "name": "ipython",
    "version": 3
   },
   "file_extension": ".py",
   "mimetype": "text/x-python",
   "name": "python",
   "nbconvert_exporter": "python",
   "pygments_lexer": "ipython3",
   "version": "3.8.8"
  }
 },
 "nbformat": 4,
 "nbformat_minor": 5
}
