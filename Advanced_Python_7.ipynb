{
 "cells": [
  {
   "cell_type": "raw",
   "id": "c344ee91",
   "metadata": {},
   "source": [
    "Q1. What is the purpose of the try statement?\n",
    "Ans:Used for expection handling \n",
    "    represents starting of the block from where any error occurs control will go except block.\n",
    "\n",
    "\n",
    "Q2. What are the two most popular try statement variations?\n",
    "Ans: try/except\n",
    "     try/except/else\n",
    "     try/except/else/finally\n",
    "\n",
    "\n",
    "\n",
    "Q3. What is the purpose of the raise statement?\n",
    "Ans: used to explicity raise the exceptions\n",
    "\n",
    "\n",
    "Q4. What does the assert statement do, and what other statement is it like?\n",
    "Ans: Assert staement used to raise the exception is any condion not true\n",
    "     for eg: user passed value of variable as negative to validate it assert can be used\n",
    "        assert a>=0 'value is negative '\n",
    "     Other statement for this: \n",
    "        if a<0:raise Exception('value is negative')\n",
    "\n",
    "\n",
    "Q5. What is the purpose of the with/as argument, and what other statement is it like?\n",
    "Ans: One of the use of with is to explicit close of file \n",
    "    without 'with':\n",
    "        file = open('file_path', 'w')\n",
    "        try:\n",
    "            file.write('hello world')\n",
    "        finally:\n",
    "            file.close()\n",
    "    Using 'with':\n",
    "        with open('file_path', 'w') as file:\n",
    "            file.write('hello world !')"
   ]
  }
 ],
 "metadata": {
  "kernelspec": {
   "display_name": "Python 3",
   "language": "python",
   "name": "python3"
  },
  "language_info": {
   "codemirror_mode": {
    "name": "ipython",
    "version": 3
   },
   "file_extension": ".py",
   "mimetype": "text/x-python",
   "name": "python",
   "nbconvert_exporter": "python",
   "pygments_lexer": "ipython3",
   "version": "3.8.8"
  }
 },
 "nbformat": 4,
 "nbformat_minor": 5
}
