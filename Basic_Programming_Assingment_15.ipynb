{
 "cells": [
  {
   "cell_type": "code",
   "execution_count": 15,
   "id": "8e2d574d",
   "metadata": {},
   "outputs": [
    {
     "name": "stdout",
     "output_type": "stream",
     "text": [
      "Enter number: 100\n",
      "0\n",
      "35\n",
      "70\n"
     ]
    },
    {
     "ename": "StopIteration",
     "evalue": "",
     "output_type": "error",
     "traceback": [
      "\u001b[1;31m---------------------------------------------------------------------------\u001b[0m",
      "\u001b[1;31mStopIteration\u001b[0m                             Traceback (most recent call last)",
      "\u001b[1;32m<ipython-input-15-d48982135fb5>\u001b[0m in \u001b[0;36m<module>\u001b[1;34m\u001b[0m\n\u001b[0;32m     16\u001b[0m \u001b[0mgen\u001b[0m\u001b[1;33m=\u001b[0m\u001b[0mgenerator\u001b[0m\u001b[1;33m(\u001b[0m\u001b[0mnum\u001b[0m\u001b[1;33m)\u001b[0m\u001b[1;33m\u001b[0m\u001b[1;33m\u001b[0m\u001b[0m\n\u001b[0;32m     17\u001b[0m \u001b[1;32mfor\u001b[0m \u001b[0mi\u001b[0m \u001b[1;32min\u001b[0m \u001b[0mrange\u001b[0m\u001b[1;33m(\u001b[0m\u001b[0mnum\u001b[0m\u001b[1;33m)\u001b[0m\u001b[1;33m:\u001b[0m\u001b[1;33m\u001b[0m\u001b[1;33m\u001b[0m\u001b[0m\n\u001b[1;32m---> 18\u001b[1;33m     \u001b[0mprint\u001b[0m\u001b[1;33m(\u001b[0m\u001b[0mnext\u001b[0m\u001b[1;33m(\u001b[0m\u001b[0mgen\u001b[0m\u001b[1;33m)\u001b[0m\u001b[1;33m)\u001b[0m\u001b[1;33m\u001b[0m\u001b[1;33m\u001b[0m\u001b[0m\n\u001b[0m\u001b[0;32m     19\u001b[0m \u001b[1;33m\u001b[0m\u001b[0m\n\u001b[0;32m     20\u001b[0m \u001b[1;33m\u001b[0m\u001b[0m\n",
      "\u001b[1;31mStopIteration\u001b[0m: "
     ]
    }
   ],
   "source": [
    "# Question 1:\n",
    "# Please write a program using generator to print the numbers which can be divisible by 5 and 7 between 0 and n in comma separated form while n is input by console.\n",
    "# Example:\n",
    "# If the following n is given as input to the program:\n",
    "# 100\n",
    "# Then, the output of the program should be:\n",
    "# 0,35,70\n",
    "\n",
    "def generator(num):\n",
    "    for i in range(num):\n",
    "        if i%5 ==0 and i%7 ==0:\n",
    "            yield i         \n",
    "        \n",
    "\n",
    "num=int(input('Enter number: '))\n",
    "gen=generator(num)\n",
    "for i in range(num):\n",
    "    print(next(gen))"
   ]
  },
  {
   "cell_type": "code",
   "execution_count": 17,
   "id": "3926ddb7",
   "metadata": {},
   "outputs": [
    {
     "name": "stdout",
     "output_type": "stream",
     "text": [
      "Enter number: 30\n",
      "0\n",
      "2\n",
      "4\n",
      "6\n",
      "8\n",
      "10\n",
      "12\n",
      "14\n",
      "16\n",
      "18\n",
      "20\n",
      "22\n",
      "24\n",
      "26\n",
      "28\n"
     ]
    },
    {
     "ename": "StopIteration",
     "evalue": "",
     "output_type": "error",
     "traceback": [
      "\u001b[1;31m---------------------------------------------------------------------------\u001b[0m",
      "\u001b[1;31mStopIteration\u001b[0m                             Traceback (most recent call last)",
      "\u001b[1;32m<ipython-input-17-c38bda4a6639>\u001b[0m in \u001b[0;36m<module>\u001b[1;34m\u001b[0m\n\u001b[0;32m     16\u001b[0m \u001b[0mgen\u001b[0m\u001b[1;33m=\u001b[0m\u001b[0mevengenerator\u001b[0m\u001b[1;33m(\u001b[0m\u001b[0mnum\u001b[0m\u001b[1;33m)\u001b[0m\u001b[1;33m\u001b[0m\u001b[1;33m\u001b[0m\u001b[0m\n\u001b[0;32m     17\u001b[0m \u001b[1;32mfor\u001b[0m \u001b[0mi\u001b[0m \u001b[1;32min\u001b[0m \u001b[0mrange\u001b[0m\u001b[1;33m(\u001b[0m\u001b[0mnum\u001b[0m\u001b[1;33m)\u001b[0m\u001b[1;33m:\u001b[0m\u001b[1;33m\u001b[0m\u001b[1;33m\u001b[0m\u001b[0m\n\u001b[1;32m---> 18\u001b[1;33m     \u001b[0mprint\u001b[0m\u001b[1;33m(\u001b[0m\u001b[0mnext\u001b[0m\u001b[1;33m(\u001b[0m\u001b[0mgen\u001b[0m\u001b[1;33m)\u001b[0m\u001b[1;33m)\u001b[0m\u001b[1;33m\u001b[0m\u001b[1;33m\u001b[0m\u001b[0m\n\u001b[0m\u001b[0;32m     19\u001b[0m \u001b[1;33m\u001b[0m\u001b[0m\n",
      "\u001b[1;31mStopIteration\u001b[0m: "
     ]
    }
   ],
   "source": [
    "# Question 2:\n",
    "# Please write a program using generator to print the even numbers between 0 and n in comma separated form while n is input by console.\n",
    "# Example:\n",
    "# If the following n is given as input to the program:\n",
    "# 10\n",
    "# Then, the output of the program should be:\n",
    "# 0,2,4,6,8,10\n",
    "\n",
    "def evengenerator(num):\n",
    "    for i in range(num):\n",
    "        if i%2 ==0:\n",
    "            yield i         \n",
    "        \n",
    "\n",
    "num=int(input('Enter number: '))\n",
    "gen=evengenerator(num)\n",
    "for i in range(num):\n",
    "    print(next(gen))\n",
    "\n"
   ]
  },
  {
   "cell_type": "code",
   "execution_count": 22,
   "id": "8c4f4724",
   "metadata": {},
   "outputs": [
    {
     "name": "stdout",
     "output_type": "stream",
     "text": [
      "Enter number: 7\n",
      "0\n",
      "1\n",
      "1\n",
      "2\n",
      "3\n",
      "5\n",
      "8\n"
     ]
    }
   ],
   "source": [
    "# Question 3:\n",
    "# The Fibonacci Sequence is computed based on the following formula:\n",
    "# f(n)=0 if n=0\n",
    "# f(n)=1 if n=1\n",
    "# f(n)=f(n-1)+f(n-2) if n>1\n",
    "# Please write a program using list comprehension to print the Fibonacci Sequence in comma separated form with a given n input by console.\n",
    "# Example:\n",
    "# If the following n is given as input to the program:\n",
    "# 7\n",
    "\n",
    "# Then, the output of the program should be:\n",
    "# 0,1,1,2,3,5,8,13\n",
    "\n",
    "def fibonaci():\n",
    "    a,b,i=0,1,0\n",
    "    while 1:\n",
    "        yield i\n",
    "        a,b=b,i  \n",
    "        i=a+b      \n",
    "\n",
    "num=int(input('Enter number: '))\n",
    "gen=fibonaci()\n",
    "for i in range(num):\n",
    "    print(next(gen))"
   ]
  },
  {
   "cell_type": "code",
   "execution_count": 24,
   "id": "19be3d48",
   "metadata": {},
   "outputs": [
    {
     "data": {
      "text/plain": [
       "'john'"
      ]
     },
     "execution_count": 24,
     "metadata": {},
     "output_type": "execute_result"
    }
   ],
   "source": [
    "# Question 4:\n",
    "# Assuming that we have some email addresses in the \"username@companyname.com\" format, please write program to print the user name of a given email address. Both user names and company names are composed of letters only.\n",
    "# Example:\n",
    "# If the following email address is given as input to the program:\n",
    "# john@google.com\n",
    "# Then, the output of the program should be:\n",
    "# john\n",
    "\n",
    "def getname(email):\n",
    "    return email[0:email.index('@')]\n",
    "\n",
    "getname('john@google.com')"
   ]
  },
  {
   "cell_type": "code",
   "execution_count": 25,
   "id": "68644f6a",
   "metadata": {},
   "outputs": [
    {
     "name": "stdout",
     "output_type": "stream",
     "text": [
      "Enter Len of Square6\n",
      "Shape Area 0\n",
      "Square Area 36\n"
     ]
    }
   ],
   "source": [
    "# Question 5:\n",
    "# Define a class named Shape and its subclass Square. \n",
    "# The Square class has an init function which takes a length as argument.\n",
    "# Both classes have a area function which can print the area of the shape where Shape's area is 0 by default.\n",
    "\n",
    "class Shape:\n",
    "    def area(self):\n",
    "        return 0\n",
    "        \n",
    "class Square(Shape):\n",
    "    def __init__(self,length):\n",
    "        self.length=length\n",
    "    def area(self):\n",
    "        return length**2\n",
    "    \n",
    "shape_obj=Shape()\n",
    "length=eval(input('Enter Len of Square'))\n",
    "square_obj=Square(length)\n",
    "print('Shape Area',shape_obj.area())\n",
    "print('Square Area',square_obj.area())"
   ]
  }
 ],
 "metadata": {
  "kernelspec": {
   "display_name": "Python 3",
   "language": "python",
   "name": "python3"
  },
  "language_info": {
   "codemirror_mode": {
    "name": "ipython",
    "version": 3
   },
   "file_extension": ".py",
   "mimetype": "text/x-python",
   "name": "python",
   "nbconvert_exporter": "python",
   "pygments_lexer": "ipython3",
   "version": "3.8.8"
  }
 },
 "nbformat": 4,
 "nbformat_minor": 5
}
