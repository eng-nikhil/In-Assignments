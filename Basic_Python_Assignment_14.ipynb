{
 "cells": [
  {
   "cell_type": "markdown",
   "id": "541602c4",
   "metadata": {},
   "source": [
    "1. What does RGBA stand for?\n",
    "Ans: RGBA-> Red Green Blue Alpha(Transperancy)\n",
    "    It is used to represent the colors\n",
    "    \n",
    "2. From the Pillow module, how do you get the RGBA value of any images?\n",
    "Ans:getcolor() -> Returns RGBA tuple\n",
    "    \n",
    "3. What is a box tuple, and how does it work?\n",
    "Ans: Box tuple is a tuple of values which represents cordinates of a box in image.\n",
    "    represented as box = (left,top,right,bottom)\n",
    "    \n",
    "4. Use your image and load in notebook then, How can you find out the width and height of an Image object?\n",
    "Ans: myimage = Image.open('test.jpg')  # Image is from Pillow/PIL package\n",
    "     width, height = myimage.size      # Size returns Width and height parameters\n",
    "    \n",
    "5. What method would you call to get Image object for a 100×100 image, excluding the lower-left quarter of it?\n",
    "Ans:img = Image.new(mode='RGBA',size=(100,100))\n",
    "    img.save('test.png')\n",
    "    \n",
    "6. After making changes to an Image object, how could you save it as an image file?\n",
    "Ans: img.save('test.png')\n",
    "    \n",
    "7. What module contains Pillow’s shape-drawing code?\n",
    "Ans:ImageDraw \n",
    "    \n",
    "8. Image objects do not have drawing methods. What kind of object does? How do you get this kind of object?\n",
    "Ans:ImageDraw which is taken from image object ."
   ]
  }
 ],
 "metadata": {
  "kernelspec": {
   "display_name": "Python 3",
   "language": "python",
   "name": "python3"
  },
  "language_info": {
   "codemirror_mode": {
    "name": "ipython",
    "version": 3
   },
   "file_extension": ".py",
   "mimetype": "text/x-python",
   "name": "python",
   "nbconvert_exporter": "python",
   "pygments_lexer": "ipython3",
   "version": "3.8.8"
  }
 },
 "nbformat": 4,
 "nbformat_minor": 5
}
