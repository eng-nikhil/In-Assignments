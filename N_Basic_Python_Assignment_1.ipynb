{
 "cells": [
  {
   "cell_type": "raw",
   "id": "f44203d1",
   "metadata": {},
   "source": [
    "# 1. In the below elements which of them are values or an expression? eg:- values can be integer or string and expressions will be mathematical operators.\n",
    "*        -> Expression\n",
    "'hello'  -> String\n",
    "-87.8    -> Float\n",
    "-        -> Expression\n",
    "/        -> Expression\n",
    "6        -> Int"
   ]
  },
  {
   "cell_type": "raw",
   "id": "00f398ce",
   "metadata": {},
   "source": [
    "2. What is the difference between string and variable?\n",
    " \n",
    "   String is the the set of characters for eg: 'Abc',\"xyz\"\n",
    "   Variable refers to a memory refence which can have diffrent values for eg: a=2,b='SS'"
   ]
  },
  {
   "cell_type": "raw",
   "id": "0af651db",
   "metadata": {},
   "source": [
    "3. Describe three different data types.\n",
    "\n",
    "   int eg: a=10\n",
    "   float eg: b=10.2\n",
    "   complex eg: a= 10+5j\n",
    "   bool eg: a= True/False\n",
    "   str  eg: a='abc'"
   ]
  },
  {
   "cell_type": "raw",
   "id": "b9b22175",
   "metadata": {},
   "source": [
    "4. What is an expression made up of? What do all expressions do?\n",
    "   Expression is combination of Operators,variables,values returns an response as value "
   ]
  },
  {
   "cell_type": "raw",
   "id": "c6007ecb",
   "metadata": {},
   "source": [
    "5. This assignment statements, like spam = 10. What is the difference between an expression and a statement?\n",
    "   Expression has operator ,values and variables after execution returns some value for eg: a+2\n",
    "   Statement doesn't return any value for eg: loops and class"
   ]
  },
  {
   "cell_type": "raw",
   "id": "683a4d18",
   "metadata": {},
   "source": [
    "6. After running the following code, what does the variable bacon contain?\n",
    "bacon = 22\n",
    "bacon + 1\n",
    "\n",
    "Ans: bacon contains 22"
   ]
  },
  {
   "cell_type": "raw",
   "id": "76de73f9",
   "metadata": {},
   "source": [
    "7. What should the values of the following two terms be?\n",
    "'spam' + 'spamspam'\n",
    "'spam' * 3\n",
    "\n",
    "Ans: spamspamspam"
   ]
  },
  {
   "cell_type": "raw",
   "id": "1167c33c",
   "metadata": {},
   "source": [
    "8. Why is eggs a valid variable name while 100 is invalid?\n",
    "Ans:In python Variable names should start wirh Alphabet symbols Only.\n",
    "    "
   ]
  },
  {
   "cell_type": "raw",
   "id": "b487b421",
   "metadata": {},
   "source": [
    "9.What three functions can be used to get the integer, floating-point number, or string version of a value?\n",
    " int()\n",
    " float()\n",
    " str()"
   ]
  },
  {
   "cell_type": "raw",
   "id": "e8de4e26",
   "metadata": {},
   "source": [
    "10. Why does this expression cause an error? How can you fix it?\n",
    "'I have eaten ' + 99 + ' burritos.'\n",
    "\n",
    "Ans: Trying to add int with strings, can be fixed as:\n",
    "     'I have eaten ' + '99' + ' burritos.'\n",
    "    or 'I have eaten ' + str(99) + ' burritos.'        "
   ]
  }
 ],
 "metadata": {
  "kernelspec": {
   "display_name": "Python 3",
   "language": "python",
   "name": "python3"
  },
  "language_info": {
   "codemirror_mode": {
    "name": "ipython",
    "version": 3
   },
   "file_extension": ".py",
   "mimetype": "text/x-python",
   "name": "python",
   "nbconvert_exporter": "python",
   "pygments_lexer": "ipython3",
   "version": "3.8.8"
  }
 },
 "nbformat": 4,
 "nbformat_minor": 5
}
