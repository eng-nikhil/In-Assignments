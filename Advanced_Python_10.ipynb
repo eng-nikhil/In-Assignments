{
 "cells": [
  {
   "cell_type": "code",
   "execution_count": null,
   "id": "1cd6111e",
   "metadata": {},
   "outputs": [],
   "source": [
    "Q1. What is the difference between __getattr__ and __getattribute__?\n",
    "Ans: __getattr__ method is invoked whenever we request an attribute that hasn't already been defined. \n",
    "     __getattribute__ method from  class is invoked for every attribute regardless whether it exists or not. \n",
    "      \n",
    "\n",
    "Q2. What is the difference between properties and descriptors?\n",
    "\n",
    "Ans:Since,Python doesn’t have a private variables concept, descriptor protocol can be considered as a Pythonic way to achieve something similar. bute.\n",
    "    Descriptors are invoked by the __getattribute__() method.\n",
    "    If we need a simple way to return a computed value from an attribute read, \n",
    "    or to call a function on an attribute write, use the @property decorator. \n",
    "\n",
    "\n",
    "Q3. What are the key differences in functionality between __getattr__ and __getattribute__, as well as properties and descriptors?\n",
    "Ans:__getattr__ method is invoked whenever we request an attribute that hasn't already been defined. \n",
    "     __getattribute__ method from  class is invoked for every attribute regardless whether it exists or not. \n",
    "    Since,Python doesn’t have a private variables concept, descriptor protocol can be considered as a Pythonic way to achieve something similar. bute.\n",
    "    Descriptors are invoked by the __getattribute__() method.\n",
    "    If we need a simple way to return a computed value from an attribute read, \n",
    "    or to call a function on an attribute write, use the @property decorator. "
   ]
  }
 ],
 "metadata": {
  "kernelspec": {
   "display_name": "Python 3",
   "language": "python",
   "name": "python3"
  },
  "language_info": {
   "codemirror_mode": {
    "name": "ipython",
    "version": 3
   },
   "file_extension": ".py",
   "mimetype": "text/x-python",
   "name": "python",
   "nbconvert_exporter": "python",
   "pygments_lexer": "ipython3",
   "version": "3.8.8"
  }
 },
 "nbformat": 4,
 "nbformat_minor": 5
}
