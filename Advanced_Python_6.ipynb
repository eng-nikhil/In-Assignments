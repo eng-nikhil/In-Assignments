{
 "cells": [
  {
   "cell_type": "raw",
   "id": "7c4689e3",
   "metadata": {},
   "source": [
    "Q1. Describe three applications for exception processing.\n",
    "Ans:ZeroDivisionError,FloatingPointError,  IndexError,filenotfound\n",
    "    \n",
    "\n",
    "Q2. What happens if you don't do something extra to treat an exception?\n",
    "Ans: Program crashes and application stops.\n",
    "\n",
    "\n",
    "Q3. What are your options for recovering from an exception in your script?\n",
    "Ans: Based on the error in the expect block logging to files can be done.\n",
    "\n",
    "\n",
    "Q4. Describe two methods for triggering exceptions in your script.\n",
    "Ans: raise Exception \n",
    "     raise TypeError\n",
    "\n",
    "Q5. Identify two methods for specifying actions to be executed at termination time, regardless of whether or not an exception exists.\n",
    "Ans: Method 1: specify same action in Else(no expection) and Except(execption) both \n",
    "     Method 2: specify action in Finally block which wil be executed always"
   ]
  }
 ],
 "metadata": {
  "kernelspec": {
   "display_name": "Python 3",
   "language": "python",
   "name": "python3"
  },
  "language_info": {
   "codemirror_mode": {
    "name": "ipython",
    "version": 3
   },
   "file_extension": ".py",
   "mimetype": "text/x-python",
   "name": "python",
   "nbconvert_exporter": "python",
   "pygments_lexer": "ipython3",
   "version": "3.8.8"
  }
 },
 "nbformat": 4,
 "nbformat_minor": 5
}
