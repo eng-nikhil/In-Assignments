{
 "cells": [
  {
   "cell_type": "markdown",
   "id": "d1a7bb9a",
   "metadata": {},
   "source": [
    "1. What is the result of the code, and explain?\n",
    "\n",
    "X = 'iNeuron'\n",
    "def func():\n",
    "    print(X)\n",
    "func()\n",
    "\n",
    "Ans: it will print iNeuron, accessing global variable"
   ]
  },
  {
   "cell_type": "markdown",
   "id": "b6547a42",
   "metadata": {},
   "source": [
    "2. What is the result of the code, and explain?\n",
    "\n",
    "\n",
    "X = 'iNeuron'\n",
    "def func():\n",
    "    X = 'NI!'\n",
    "\n",
    "func()\n",
    "print(X)\n",
    "\n",
    "Ans: it will print iNeuron becuase X variable inside func() has local scope so it will not impact global X.\n"
   ]
  },
  {
   "cell_type": "markdown",
   "id": "8ef7b965",
   "metadata": {},
   "source": [
    "3. What does this code print, and why?\n",
    "\n",
    "X = 'iNeuron'\n",
    "def func():\n",
    "    X = 'NI'\n",
    "    print(X)\n",
    "\n",
    "func()\n",
    "print(X)\n",
    "\n",
    "\n",
    "Ans: 'NI'  ( local variable of func)\n",
    "     'iNeuron' (global variable of file)"
   ]
  },
  {
   "cell_type": "markdown",
   "id": "9d302dd2",
   "metadata": {},
   "source": [
    "4. What output does this code produce? Why?\n",
    "\n",
    "\n",
    "X = 'iNeuron'\n",
    "def func():\n",
    "    global X\n",
    "    X = 'NI'\n",
    "func()\n",
    "print(X)\n",
    "\n",
    "Ans: iNeuron\n",
    "    func is changing value of global variable "
   ]
  },
  {
   "cell_type": "markdown",
   "id": "adf3d2f8",
   "metadata": {},
   "source": [
    "5. What about this code—what’s the output, and why?\n",
    "\n",
    "\n",
    "X = 'iNeuron'\n",
    "def func():\n",
    "    X = 'NI'\n",
    "    def nested():\n",
    "        print(X)\n",
    "    nested()\n",
    "func()\n",
    "print(X)\n",
    "\n",
    "\n",
    "Ans: NI\n",
    "     iNeuron  \n",
    "     nested will refer to nearest X  variable so it will consider X='NI'"
   ]
  },
  {
   "cell_type": "raw",
   "id": "40ecd457",
   "metadata": {},
   "source": [
    "6. How about this code: what is its output in Python 3, and explain?\n",
    "\n",
    "\n",
    "def func():\n",
    "    X = 'NI'\n",
    "    def nested():\n",
    "        nonlocal X\n",
    "        X = 'Spam'\n",
    "    nested()\n",
    "    print(X)\n",
    "func()\n",
    "\n",
    "Ans: It will print 'Spam' because nonlocal keyword make X as non local variable means will have impact outsise of function.\n"
   ]
  }
 ],
 "metadata": {
  "kernelspec": {
   "display_name": "Python 3",
   "language": "python",
   "name": "python3"
  },
  "language_info": {
   "codemirror_mode": {
    "name": "ipython",
    "version": 3
   },
   "file_extension": ".py",
   "mimetype": "text/x-python",
   "name": "python",
   "nbconvert_exporter": "python",
   "pygments_lexer": "ipython3",
   "version": "3.8.8"
  }
 },
 "nbformat": 4,
 "nbformat_minor": 5
}
