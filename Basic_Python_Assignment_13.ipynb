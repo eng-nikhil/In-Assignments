{
 "cells": [
  {
   "cell_type": "markdown",
   "id": "cf33f4b5",
   "metadata": {},
   "source": [
    "1. What advantages do Excel spreadsheets have over CSV spreadsheets?\n",
    "Ans:Excel spreadsheets can have values of data types other than strings.\n",
    "    cells can have different fonts, sizes, or color settings also adjacent cells can be merged.\n",
    "    But Excel spreadsheets consume more size compare to CSV spreadsheets.\n",
    "    \n",
    "2.What do you pass to csv.reader() and csv.writer() to create reader and writer objects?\n",
    "Ans:f_pointer=open('test.csv','r')\n",
    "    CSVReader = csv.reader(f_pointer)     # Passing file pointer obj\n",
    "    \n",
    "    outputFile = open('out_test.csv', 'w')\n",
    "    CSVWriter = csv.writer(outputFile) # Passing file pointer obj\n",
    "    \n",
    "3. What modes do File objects for reader and writer objects need to be opened in?\n",
    "Ans: r and w\n",
    "    \n",
    "4. What method takes a list argument and writes it to a CSV file?\n",
    "Ans:writerow(<list>)\n",
    "    \n",
    "5. What do the keyword arguments delimiter and line terminator do?\n",
    "Ans:delimiter -> Charater which we want to place between two cells of a line.\n",
    "    line terminator -> Character which we want to place at the end of line/row.\n",
    "    \n",
    "6. What function takes a string of JSON data and returns a Python data structure?\n",
    "Ans:json.loads()   -> takes JSON(as string) writtens Dict\n",
    "    \n",
    "7. What function takes a Python data structure and returns a string of JSON data?\n",
    "Ans: json.dumps() -> takes dict and dumps it to string\n"
   ]
  }
 ],
 "metadata": {
  "kernelspec": {
   "display_name": "Python 3",
   "language": "python",
   "name": "python3"
  },
  "language_info": {
   "codemirror_mode": {
    "name": "ipython",
    "version": 3
   },
   "file_extension": ".py",
   "mimetype": "text/x-python",
   "name": "python",
   "nbconvert_exporter": "python",
   "pygments_lexer": "ipython3",
   "version": "3.8.8"
  }
 },
 "nbformat": 4,
 "nbformat_minor": 5
}
