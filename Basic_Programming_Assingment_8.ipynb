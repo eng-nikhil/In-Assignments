{
 "cells": [
  {
   "cell_type": "code",
   "execution_count": 6,
   "id": "9670fb3b",
   "metadata": {},
   "outputs": [
    {
     "name": "stdout",
     "output_type": "stream",
     "text": [
      "Number of values rows? 2\n",
      "Number of values columns? 2\n",
      "Matrix element: 1\n",
      "Matrix element: 2\n",
      "Matrix element: 3\n",
      "Matrix element: 4\n",
      "++++++++++++++++++++++++++++++\n",
      "Matrix 1:  [[1, 2], [3, 4]]\n",
      "++++++++++++++++++++++++++++++\n",
      "Number of values rows? 2\n",
      "Number of values columns? 2\n",
      "Matrix element: 3\n",
      "Matrix element: 4\n",
      "Matrix element: 5\n",
      "Matrix element: 6\n",
      "++++++++++++++++++++++++++++++\n",
      "Matrix 2:  [[3, 4], [5, 6]]\n",
      "++++++++++++++++++++++++++++++\n",
      "Addition of two matrix:  [[4, 6], [8, 10]]\n"
     ]
    }
   ],
   "source": [
    "#1.Write a Python Program to Add Two Matrices?\n",
    "\n",
    "def creatematrix():\n",
    "    matrix=[]\n",
    "    row=int(input('Number of values rows? '))\n",
    "    col=int(input('Number of values columns? '))\n",
    "    for _ in range(row):\n",
    "        l=[]\n",
    "        for _ in range(col):\n",
    "            l.append(int(input('Matrix element: ')))\n",
    "        matrix.append(l)\n",
    "    return matrix\n",
    "\n",
    "def addmatrix(m1,m2):\n",
    "    m3=[]\n",
    "    if len(m1) !=len(m2) or len(m1[0])!=len(m2[1]):\n",
    "        print(\"Rows and Coloums of matrix are not same..\")\n",
    "    else:\n",
    "        for i in range(len(m1[0])):\n",
    "            for j in range(len(m1)):\n",
    "                m1[i][j]=m1[i][j]+m2[i][j]\n",
    "        return m1     \n",
    "    \n",
    "\n",
    "m1=creatematrix()\n",
    "print(\"++++++++++++++++++++++++++++++\")\n",
    "print('Matrix 1: ',m1)\n",
    "print(\"++++++++++++++++++++++++++++++\")\n",
    "m2=creatematrix()\n",
    "print(\"++++++++++++++++++++++++++++++\")\n",
    "print('Matrix 2: ',m2)\n",
    "print(\"++++++++++++++++++++++++++++++\")\n",
    "\n",
    "print(\"Addition of two matrix: \", addmatrix(m1,m2))"
   ]
  },
  {
   "cell_type": "code",
   "execution_count": 61,
   "id": "0d5b2d1b",
   "metadata": {},
   "outputs": [
    {
     "name": "stdout",
     "output_type": "stream",
     "text": [
      "Number of values rows? 2\n",
      "Number of values columns? 3\n",
      "Matrix element: 2\n",
      "Matrix element: 3\n",
      "Matrix element: 4\n",
      "Matrix element: 6\n",
      "Matrix element: 2\n",
      "Matrix element: 3\n",
      "++++++++++++++++++++++++++++++\n",
      "Matrix 1:  [[2, 3, 4], [6, 2, 3]]\n",
      "++++++++++++++++++++++++++++++\n",
      "Number of values rows? 3\n",
      "Number of values columns? 2\n",
      "Matrix element: 3\n",
      "Matrix element: 4\n",
      "Matrix element: 5\n",
      "Matrix element: 2\n",
      "Matrix element: 3\n",
      "Matrix element: 4\n",
      "++++++++++++++++++++++++++++++\n",
      "Matrix 3:  [[3, 4], [5, 2], [3, 4]]\n",
      "++++++++++++++++++++++++++++++\n",
      "++++++++++++++++++++++++++++++\n",
      "Multiplication 1:  [[21, 14], [28, 28]]\n",
      "++++++++++++++++++++++++++++++\n"
     ]
    }
   ],
   "source": [
    "#2.\tWrite a Python Program to Multiply Two Matrices?\n",
    "\n",
    "def mulmatrix(m1,m2):\n",
    "    m3 = [ [0]*len(m2[0]) for i in range(len(m1))] \n",
    "    for i in range(len(m1)):\n",
    "        for j in range(len(m2[0])):\n",
    "            m3[i][j]=0\n",
    "    if len(m1[0]) !=len(m2):\n",
    "        print(\"Cols of M1 and Rows of M2 are not same..Multiplication not possible\")\n",
    "    else:       \n",
    "        for i in range(len(m1)):\n",
    "            for j in range(len(m2[0])):            \n",
    "                for k in range(len(m1)):\n",
    "                    m3[i][j]+=m1[i][k]*m2[k][j]          \n",
    "        return m3\n",
    "m1=creatematrix()\n",
    "print(\"++++++++++++++++++++++++++++++\")\n",
    "print('Matrix 1: ',m1)\n",
    "print(\"++++++++++++++++++++++++++++++\")\n",
    "m2=creatematrix()\n",
    "print(\"++++++++++++++++++++++++++++++\")\n",
    "print('Matrix 3: ',m2)\n",
    "print(\"++++++++++++++++++++++++++++++\")\n",
    "m3=mulmatrix(m1,m2)\n",
    "print(\"++++++++++++++++++++++++++++++\")\n",
    "print('Multiplication 1: ',m3)\n",
    "print(\"++++++++++++++++++++++++++++++\")"
   ]
  },
  {
   "cell_type": "code",
   "execution_count": 64,
   "id": "d9cb2242",
   "metadata": {},
   "outputs": [
    {
     "name": "stdout",
     "output_type": "stream",
     "text": [
      "Matrix M1:  [[2, 3, 4], [6, 2, 3]]\n",
      "++++++++++++++++++++++++++++++\n",
      "Transpose of M1:  [[2, 6], [3, 2], [4, 3]]\n",
      "++++++++++++++++++++++++++++++\n"
     ]
    }
   ],
   "source": [
    "#3.\tWrite a Python Program to Transpose a Matrix?\n",
    "def transpose(m1):\n",
    "    m4 = [ [0]*len(m1) for i in range(len(m1[0]))] \n",
    "    for i in range(len(m1)):\n",
    "        for j in range(len(m1[0])):\n",
    "            m4[j][i]=m1[i][j]\n",
    "    return m4\n",
    "print('Matrix M1: ',m1)\n",
    "print(\"++++++++++++++++++++++++++++++\")\n",
    "print('Transpose of M1: ',transpose(m1))\n",
    "print(\"++++++++++++++++++++++++++++++\")"
   ]
  },
  {
   "cell_type": "code",
   "execution_count": 15,
   "id": "7efae6e0",
   "metadata": {},
   "outputs": [
    {
     "name": "stdout",
     "output_type": "stream",
     "text": [
      "Enter any Word: AFGSDF\n",
      "Sorted Word is:  ADFFGS\n"
     ]
    }
   ],
   "source": [
    "#4.\tWrite a Python Program to Sort Words in Alphabetic Order?\n",
    "def merge(left,middle,right,arr):\n",
    "    n1=middle-left +1\n",
    "    n2=right-middle\n",
    "    \n",
    "    left_temp=[0]*n1\n",
    "    right_temp=[0]*n2\n",
    "    \n",
    "    for i in range(n1):\n",
    "        left_temp[i]=arr[left+i]\n",
    "    for j in range(n2):\n",
    "        right_temp[j]=arr[middle+1+j]\n",
    "        \n",
    "    i,j,k=0,0,left\n",
    "    \n",
    "    while i < n1 and j<n2:\n",
    "        if ord(left_temp[i]) <= ord(right_temp[j]):\n",
    "            arr[k] =left_temp[i]\n",
    "            i+=1\n",
    "        else:   \n",
    "            arr[k]=right_temp[j]\n",
    "            j+=1\n",
    "        k+=1\n",
    "\n",
    "    while i<n1:\n",
    "        arr[k]=left_temp[i]\n",
    "        i+=1\n",
    "        k+=1\n",
    "        \n",
    "    while j<n2:\n",
    "        arr[k]=right_temp[j]\n",
    "        j+=1\n",
    "        k+=1\n",
    "            \n",
    "\n",
    "def mergesort(left,right,arr):\n",
    "    if left<right:\n",
    "        middle= (left+right-1)//2\n",
    "        mergesort(left,middle,arr)\n",
    "        mergesort(middle+1,right,arr)\n",
    "        merge(left,middle,right,arr)   \n",
    "    \n",
    "\n",
    "# Driver code to test above\n",
    "arr = []\n",
    "word=input(\"Enter any Word: \")\n",
    "for i in word:\n",
    "    arr.append(i)\n",
    "n = len(arr)\n",
    "sorted_str=\"\"\n",
    "mergesort(0, n-1,arr)\n",
    "print(\"Sorted Word is: \",sorted_str.join(arr))   \n",
    "    \n",
    "    "
   ]
  },
  {
   "cell_type": "code",
   "execution_count": 27,
   "id": "59232982",
   "metadata": {},
   "outputs": [
    {
     "name": "stdout",
     "output_type": "stream",
     "text": [
      "Enter any Word: ADFF?er[dsd]sdds(\n",
      "ADFFerdsdsdds\n"
     ]
    }
   ],
   "source": [
    "#5.\tWrite a Python Program to Remove Punctuation From a String?\n",
    "punctuations= ['.','?','!',',',':',';','-','[',']','{','}','(',')',',']\n",
    "def removepunctuation(word):\n",
    "    global punctuation\n",
    "    l=[]\n",
    "    for i in word:\n",
    "        if i not in punctuations:\n",
    "            l.append(i)\n",
    "    return ''.join(l)\n",
    "\n",
    "word=input(\"Enter any Word: \")\n",
    "word=removepunctuation(word)\n",
    "print(word)    "
   ]
  }
 ],
 "metadata": {
  "kernelspec": {
   "display_name": "Python 3",
   "language": "python",
   "name": "python3"
  },
  "language_info": {
   "codemirror_mode": {
    "name": "ipython",
    "version": 3
   },
   "file_extension": ".py",
   "mimetype": "text/x-python",
   "name": "python",
   "nbconvert_exporter": "python",
   "pygments_lexer": "ipython3",
   "version": "3.8.8"
  }
 },
 "nbformat": 4,
 "nbformat_minor": 5
}
