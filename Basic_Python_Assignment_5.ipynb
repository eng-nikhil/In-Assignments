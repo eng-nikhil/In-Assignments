{
 "cells": [
  {
   "cell_type": "raw",
   "id": "fb0ed93d",
   "metadata": {},
   "source": [
    "1. What does an empty dictionary's code look like?\n",
    "Ans: d1={}"
   ]
  },
  {
   "cell_type": "raw",
   "id": "b855229b",
   "metadata": {},
   "source": [
    "2. What is the value of a dictionary value with the key 'foo' and the value 42?\n",
    "Ans: d1={'foo':42}"
   ]
  },
  {
   "cell_type": "raw",
   "id": "5e960dc9",
   "metadata": {},
   "source": [
    "3. What is the most significant distinction between a dictionary and a list?\n",
    "Ans: dictnary stores key value pair but list store set of values only."
   ]
  },
  {
   "cell_type": "raw",
   "id": "073b5a83",
   "metadata": {},
   "source": [
    "4. What happens if you try to access spam['foo'] if spam is {'bar': 100}?\n",
    "Ans: key error"
   ]
  },
  {
   "cell_type": "raw",
   "id": "0b68a210",
   "metadata": {},
   "source": [
    "5. If a dictionary is stored in spam, what is the difference between the expressions 'cat' in spam and 'cat' in spam.keys()?\n",
    "Ans:  'cat' in spam  -> returns true if 'cat' is availble in dictonary as a key.\n",
    "      'cat' in spam.keys() -> Also returns true if 'cat' is availble in dictonary as a key.\n",
    "       Both are same."
   ]
  },
  {
   "cell_type": "raw",
   "id": "13ed2bd0",
   "metadata": {},
   "source": [
    "6. If a dictionary is stored in spam, what is the difference between the expressions 'cat' in spam and 'cat' in spam.values()?\n",
    "Ans:  'cat' in spam  -> returns true if 'cat' is availble in dictonary as a key.\n",
    "      'cat' in spam.keys() -> returns true if 'cat' is availble in dictonary as a Values. "
   ]
  },
  {
   "cell_type": "raw",
   "id": "af65b9f8",
   "metadata": {},
   "source": [
    "7. What is a shortcut for the following code?\n",
    "if 'color' not in spam:\n",
    "spam['color'] = 'black'\n",
    "Ans: It will add New key value as 'color':'black'"
   ]
  },
  {
   "cell_type": "raw",
   "id": "1fdb373e",
   "metadata": {},
   "source": [
    "8. How do you \"pretty print\" dictionary values using which module and function?\n",
    "Ans: pprint"
   ]
  }
 ],
 "metadata": {
  "kernelspec": {
   "display_name": "Python 3",
   "language": "python",
   "name": "python3"
  },
  "language_info": {
   "codemirror_mode": {
    "name": "ipython",
    "version": 3
   },
   "file_extension": ".py",
   "mimetype": "text/x-python",
   "name": "python",
   "nbconvert_exporter": "python",
   "pygments_lexer": "ipython3",
   "version": "3.8.8"
  }
 },
 "nbformat": 4,
 "nbformat_minor": 5
}
