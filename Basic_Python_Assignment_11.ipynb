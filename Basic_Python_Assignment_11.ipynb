{
 "cells": [
  {
   "cell_type": "code",
   "execution_count": null,
   "id": "21db4d53",
   "metadata": {},
   "outputs": [],
   "source": [
    "1. Create an assert statement that throws an AssertionError if the variable spam is a negative integer.\n",
    "Ans: assert spam >= 0, \"Spam is negative Number\"    \n",
    "\n",
    "2. Write an assert statement that triggers an AssertionError if the variables eggs and bacon contain strings that are the same as each other, even if their cases are different (that is, 'hello' and 'hello' are considered the same, and 'goodbye' and 'GOODbye' are also considered the same).\n",
    "Ans: assert eggs.lower() == bacon.lower(), \"eggs and bacon has diffrent values \"\n",
    "    \n",
    "3. Create an assert statement that throws an AssertionError every time.\n",
    "Ans: assert 1 ==2,\"Always error\"  \n",
    "    \n",
    "4. What are the two lines that must be present in your software in order to call logging.debug()?\n",
    "Ans: import logging\n",
    "     logging.basicConfig(level=logging.DEBUG)\n",
    "    \n",
    "5. What are the two lines that your program must have in order to have logging.debug() send a logging message to a file named programLog.txt?\n",
    "Ans: import logging\n",
    "     logging.basicConfig(filename='programLog.txt', level=logging.DEBUG, format='%(asctime)s - %(levelname)s - %(message)s')\n",
    "\n",
    "6. What are the five levels of logging?\n",
    "Ans: DEBUG, INFO, WARNING, ERROR, CRITICAL\n",
    "    \n",
    "7. What line of code would you add to your software to disable all logging messages?\n",
    "Ans:logging.disable() \n",
    "8.Why is using logging messages better than using print() to display the same message?\n",
    "Ans: because print writes statements on console and logging messages are written in files \n",
    "    which enable us to track the issue in of faliures\n",
    "    \n",
    "9. What are the differences between the Step Over, Step In, and Step Out buttons in the debugger?\n",
    "Ans: Step Over -> Control will not show the function execution.\n",
    "    Step In-> Control will go inside function and function code can be debugged.\n",
    "    Step Out-> In case we are inside a function and pressing Step Out remaing function code will be executed(without tracing)\n",
    "               and control will come to function calling line.\n",
    "        \n",
    "10.After you click Continue, when will the debugger stop ?\n",
    "Ans: Untill reaches to breakpoint or termination of program\n",
    "    \n",
    "11. What is the concept of a breakpoint?\n",
    "Ans: if programmer want to debug from specific line of code breakpoints are defined \n",
    "    so at the time of execution debugging/tacing will start from breakpoint\n",
    "    even continue will stop on breakproint\n"
   ]
  }
 ],
 "metadata": {
  "kernelspec": {
   "display_name": "Python 3",
   "language": "python",
   "name": "python3"
  },
  "language_info": {
   "codemirror_mode": {
    "name": "ipython",
    "version": 3
   },
   "file_extension": ".py",
   "mimetype": "text/x-python",
   "name": "python",
   "nbconvert_exporter": "python",
   "pygments_lexer": "ipython3",
   "version": "3.8.8"
  }
 },
 "nbformat": 4,
 "nbformat_minor": 5
}
