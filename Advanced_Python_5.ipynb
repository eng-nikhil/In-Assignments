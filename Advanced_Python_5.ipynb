{
 "cells": [
  {
   "cell_type": "raw",
   "id": "bf4087b1",
   "metadata": {},
   "source": [
    "Q1. What is the meaning of multiple inheritance?\n",
    "Ans: One class inheriting from multiple classes\n",
    "     def Parent1:pass\n",
    "     def Parent2:pass    \n",
    "     def child(Parent1,Parent2):pass    \n",
    "\n",
    "\n",
    "Q2. What is the concept of delegation?\n",
    "Ans: One of delegation concepts is like some of the functionality or methods will be distributed among the parent and child.\n",
    "     for eg: Animal class has method num_of_legs method.\n",
    "             Dog and Bird classes inherited from Animal. \n",
    "             num_of_legs method should be defined in such a way for bird object print 2 and for Dog 4 based on leg value availbe\n",
    "             for particular child class object\n",
    "\n",
    "\n",
    "\n",
    "Q3. What is the concept of composition?\n",
    "Ans: Composition is like creating classes which has other classes/object in it.\n",
    "     we can only use that class we can not modify or extend the functionality of it. It will not provide extra features. \n",
    "\n",
    "Q4. What are bound methods and how do we use them?\n",
    "Ans: Method which are associated or rely on objects of class call bound method.\n",
    "     these methods has first argument as object reference(generally self) \n",
    "     Called by self.<method_name>\n",
    "\n",
    "\n",
    "Q5. What is the purpose of pseudoprivate attributes?\n",
    "Ans:pseudoprivate attributes are variables which are __<var_name>,\n",
    "    used as convention so that developer should not use it outside of class\n"
   ]
  }
 ],
 "metadata": {
  "kernelspec": {
   "display_name": "Python 3",
   "language": "python",
   "name": "python3"
  },
  "language_info": {
   "codemirror_mode": {
    "name": "ipython",
    "version": 3
   },
   "file_extension": ".py",
   "mimetype": "text/x-python",
   "name": "python",
   "nbconvert_exporter": "python",
   "pygments_lexer": "ipython3",
   "version": "3.8.8"
  }
 },
 "nbformat": 4,
 "nbformat_minor": 5
}
