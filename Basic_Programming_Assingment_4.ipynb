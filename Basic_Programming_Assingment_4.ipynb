{
 "cells": [
  {
   "cell_type": "code",
   "execution_count": 9,
   "id": "2df8fc7c",
   "metadata": {},
   "outputs": [
    {
     "name": "stdout",
     "output_type": "stream",
     "text": [
      "Enter any number: 5\n",
      "Factorial(recursion) is:  120\n",
      "Factorial is:  120\n"
     ]
    }
   ],
   "source": [
    "#Write a Python Program to Find the Factorial of a Number?\n",
    "def factorialRecursion(n):\n",
    "    if n == 1:\n",
    "        return 1    \n",
    "    return n*factorialRecursion(n-1)\n",
    "\n",
    "def factorial(n):\n",
    "    val=1\n",
    "    for i in range(1,n+1):\n",
    "        val*=i\n",
    "    return val\n",
    "\n",
    "num = int(input(\"Enter any number: \"))\n",
    "print(\"Factorial(recursion) is: \",factorialRecursion(num))\n",
    "print(\"Factorial is: \",factorial(num))"
   ]
  },
  {
   "cell_type": "code",
   "execution_count": 13,
   "id": "0693d462",
   "metadata": {},
   "outputs": [
    {
     "name": "stdout",
     "output_type": "stream",
     "text": [
      "Enter Number to get multiplication Table5\n",
      "5 * 1 = 5\n",
      "5 * 2 = 10\n",
      "5 * 3 = 15\n",
      "5 * 4 = 20\n",
      "5 * 5 = 25\n",
      "5 * 6 = 30\n",
      "5 * 7 = 35\n",
      "5 * 8 = 40\n",
      "5 * 9 = 45\n",
      "5 * 10 = 50\n"
     ]
    }
   ],
   "source": [
    "#Write a Python Program to Display the multiplication Table?\n",
    "\n",
    "def mulTable(a):\n",
    "    for i in range(1,11):\n",
    "        print(a,'*',i,'=', a*i)\n",
    "        \n",
    "num = int(input(\"Enter Number to get multiplication Table\"))\n",
    "mulTable(num)\n"
   ]
  },
  {
   "cell_type": "code",
   "execution_count": 36,
   "id": "65578165",
   "metadata": {},
   "outputs": [
    {
     "name": "stdout",
     "output_type": "stream",
     "text": [
      "Enter Number of Terms of Fibonacci to be Printed: 10\n",
      "[0, 1, 1, 2, 3, 5, 8, 13, 21, 34]\n"
     ]
    }
   ],
   "source": [
    "#Write a Python Program to Print the Fibonacci sequence?\n",
    "\n",
    "def fibonacciSeries(num):\n",
    "    a,b=0,1\n",
    "    l=[0,1]\n",
    "    if num==1:return 0    \n",
    "    for i in range(1,num-1):\n",
    "        c=a+b\n",
    "        l.append(c)\n",
    "        b,a=c,b       \n",
    "    return l\n",
    "\n",
    "a=int(input(\"Enter Number of Terms of Fibonacci to be Printed: \"))\n",
    "print(fibonacciSeries(a))        \n"
   ]
  },
  {
   "cell_type": "code",
   "execution_count": 60,
   "id": "ec534bf2",
   "metadata": {},
   "outputs": [
    {
     "name": "stdout",
     "output_type": "stream",
     "text": [
      "Enter any Number: 153\n",
      "153 is Armstrong Number\n"
     ]
    }
   ],
   "source": [
    "#Write a Python Program to Check Armstrong Number?\n",
    "\n",
    "def armstrongNumCheck(x):\n",
    "    sum=0\n",
    "    for i in range(0,len(str(x))):\n",
    "        sum+=int(x[i])*int(x[i])*int(x[i])\n",
    "    if int(x)==sum:\n",
    "        return True\n",
    "    return False\n",
    "a=input(\"Enter any Number: \")\n",
    "if armstrongNumCheck(a):\n",
    "    print('{} is Armstrong Number'.format(a))\n",
    "else:\n",
    "    print('{} is Not Armstrong Number'.format(a))   \n",
    "    "
   ]
  },
  {
   "cell_type": "code",
   "execution_count": 104,
   "id": "db6b8aea",
   "metadata": {},
   "outputs": [
    {
     "name": "stdout",
     "output_type": "stream",
     "text": [
      "Enter Range Starting number: 10\n",
      "Enter Range Ending number: 400\n",
      "['153', '370', '371'] are Armstrong Numbers in passed range\n"
     ]
    }
   ],
   "source": [
    "#Write a Python Program to Find Armstrong Number in an Interval?\n",
    "\n",
    "def armstrongNumRange(lower,upper):\n",
    "    l=[]\n",
    "    for x in range (int(lower),int(upper)+1):\n",
    "        sum=0\n",
    "        for i in range(0,len(str(x))):\n",
    "            x=str(x)\n",
    "            sum+=int(x[i])*int(x[i])*int(x[i])\n",
    "        if int(x)==sum:\n",
    "            l.append(x)          \n",
    "    return l\n",
    "lower=input(\"Enter Range Starting number: \")\n",
    "upper=input(\"Enter Range Ending number: \")\n",
    "l1=armstrongNumRange(lower,upper)\n",
    "\n",
    "if len(l1)>0:\n",
    "    print('{} are Armstrong Numbers in passed range'.format(l1))\n",
    "else:\n",
    "    print('No Armstrong Numbers in passed range')"
   ]
  },
  {
   "cell_type": "code",
   "execution_count": 108,
   "id": "89a26436",
   "metadata": {},
   "outputs": [
    {
     "name": "stdout",
     "output_type": "stream",
     "text": [
      "Enter Max number till Sum to calculate: 10\n",
      "Sum:  55\n"
     ]
    }
   ],
   "source": [
    "#Write a Python Program to Find the Sum of Natural Numbers?\n",
    "\n",
    "def naturalNumSum(maxnum):\n",
    "    sum=0\n",
    "    for i in range(1,maxnum+1):\n",
    "        sum+=i\n",
    "    return sum\n",
    "\n",
    "num=int(input(\"Enter Max number till Sum to calculate: \"))\n",
    "print(\"Sum: \",naturalNumSum(num))"
   ]
  }
 ],
 "metadata": {
  "kernelspec": {
   "display_name": "Python 3",
   "language": "python",
   "name": "python3"
  },
  "language_info": {
   "codemirror_mode": {
    "name": "ipython",
    "version": 3
   },
   "file_extension": ".py",
   "mimetype": "text/x-python",
   "name": "python",
   "nbconvert_exporter": "python",
   "pygments_lexer": "ipython3",
   "version": "3.8.8"
  }
 },
 "nbformat": 4,
 "nbformat_minor": 5
}
