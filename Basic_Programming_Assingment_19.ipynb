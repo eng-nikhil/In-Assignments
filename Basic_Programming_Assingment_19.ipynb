{
 "cells": [
  {
   "cell_type": "code",
   "execution_count": 3,
   "id": "fd2ad474",
   "metadata": {},
   "outputs": [
    {
     "name": "stdout",
     "output_type": "stream",
     "text": [
      "SSttrriinngg\n",
      "HHeelllloo  WWoorrlldd!!\n",
      "11223344!!__  \n"
     ]
    }
   ],
   "source": [
    "# Question1\n",
    "# Create a function that takes a string and returns a string in which each character is repeated once.\n",
    "# Examples\n",
    "# double_char(\"String\") ➞ \"SSttrriinngg\"\n",
    "\n",
    "# double_char(\"Hello World!\") ➞ \"HHeelllloo  WWoorrlldd!!\"\n",
    "\n",
    "# double_char(\"1234!_ \") ➞ \"11223344!!__  \"\n",
    "\n",
    "\n",
    "def double_char(str):\n",
    "    double=''\n",
    "    for i in str:\n",
    "        double+=i*2\n",
    "    return double\n",
    "\n",
    "print(double_char(\"String\"))\n",
    "print(double_char(\"Hello World!\"))\n",
    "print(double_char(\"1234!_ \") )"
   ]
  },
  {
   "cell_type": "code",
   "execution_count": 7,
   "id": "b5e3f4bf",
   "metadata": {},
   "outputs": [
    {
     "name": "stdout",
     "output_type": "stream",
     "text": [
      "False\n",
      "True\n",
      "boolean expected\n",
      "boolean expected\n"
     ]
    }
   ],
   "source": [
    "# Question2\n",
    "# Create a function that reverses a boolean value and returns the string \"boolean expected\" if another variable type is given.\n",
    "# Examples\n",
    "# reverse(True) ➞ False\n",
    "\n",
    "# reverse(False) ➞ True\n",
    "\n",
    "# reverse(0) ➞ \"boolean expected\"\n",
    "\n",
    "# reverse(None) ➞ \"boolean expected\"\n",
    "def reverse(str):\n",
    "    if type(str)==bool:\n",
    "        return not str\n",
    "    return \"boolean expected\"\n",
    "print(reverse(True))\n",
    "print(reverse(False))\n",
    "print(reverse(0))\n",
    "print(reverse(None))"
   ]
  },
  {
   "cell_type": "code",
   "execution_count": 11,
   "id": "9a84227c",
   "metadata": {},
   "outputs": [
    {
     "name": "stdout",
     "output_type": "stream",
     "text": [
      "0.001\n",
      "0.008\n",
      "1048.576\n"
     ]
    }
   ],
   "source": [
    "# Question3\n",
    "# Create a function that returns the thickness (in meters) of a piece of paper after folding it n number of times. \n",
    "#The paper starts off with a thickness of 0.5mm.\n",
    "# Examples\n",
    "# num_layers(1) ➞ \"0.001m\"\n",
    "# # Paper folded once is 1mm (equal to 0.001m)\n",
    "\n",
    "# num_layers(4) ➞ \"0.008m\"\n",
    "# # Paper folded 4 times is 8mm (equal to 0.008m)\n",
    "\n",
    "# num_layers(21) ➞ \"1048.576m\"\n",
    "# # Paper folded 21 times is 1048576mm (equal to 1048.576m)\n",
    "\n",
    "def num_layers(a):\n",
    "    res = 0.5\n",
    "    for _ in range(a):\n",
    "        res *= 2\n",
    "    return res / 1000 \n",
    "print(num_layers(1))\n",
    "print(num_layers(4))\n",
    "print(num_layers(21))"
   ]
  },
  {
   "cell_type": "code",
   "execution_count": 16,
   "id": "55ad9634",
   "metadata": {},
   "outputs": [
    {
     "name": "stdout",
     "output_type": "stream",
     "text": [
      "[1, 3, 5]\n",
      "[1, 3, 4, 6]\n",
      "[0, 1, 2, 3, 4, 5]\n",
      "[1]\n"
     ]
    }
   ],
   "source": [
    "# Question4\n",
    "# Create a function that takes a single string as argument and returns an ordered list containing the indices of all capital letters in the string.\n",
    "# Examples\n",
    "# index_of_caps(\"eDaBiT\") ➞ [1, 3, 5]\n",
    "\n",
    "# index_of_caps(\"eQuINoX\") ➞ [1, 3, 4, 6]\n",
    "\n",
    "# index_of_caps(\"determine\") ➞ []\n",
    "\n",
    "# index_of_caps(\"STRIKE\") ➞ [0, 1, 2, 3, 4, 5]\n",
    "\n",
    "# index_of_caps(\"sUn\") ➞ [1]\n",
    "\n",
    "def index_of_caps(str):\n",
    "    lst=[]\n",
    "    for i in range(len(str)):        \n",
    "        if str[i].isupper():\n",
    "            lst.append(i)\n",
    "    return lst\n",
    "print(index_of_caps(\"eDaBiT\"))\n",
    "print(index_of_caps(\"eQuINoX\"))\n",
    "print(index_of_caps(\"STRIKE\"))\n",
    "print(index_of_caps(\"sUn\"))           "
   ]
  },
  {
   "cell_type": "code",
   "execution_count": 23,
   "id": "6f07b097",
   "metadata": {},
   "outputs": [
    {
     "name": "stdout",
     "output_type": "stream",
     "text": [
      "[2, 4, 6, 8]\n",
      "[2, 4]\n",
      "[2]\n"
     ]
    }
   ],
   "source": [
    "# Question5\n",
    "# Using list comprehensions, create a function that finds all even numbers from 1 to the given number.\n",
    "# Examples\n",
    "# find_even_nums(8) ➞ [2, 4, 6, 8]\n",
    "\n",
    "# find_even_nums(4) ➞ [2, 4]\n",
    "\n",
    "# find_even_nums(2) ➞ [2]\n",
    "\n",
    "def find_even_nums(num):\n",
    "     return [x for x in range(1,num+1) if x%2==0]\n",
    "    \n",
    "print(find_even_nums(8))\n",
    "print(find_even_nums(4))\n",
    "print(find_even_nums(2))"
   ]
  }
 ],
 "metadata": {
  "kernelspec": {
   "display_name": "Python 3",
   "language": "python",
   "name": "python3"
  },
  "language_info": {
   "codemirror_mode": {
    "name": "ipython",
    "version": 3
   },
   "file_extension": ".py",
   "mimetype": "text/x-python",
   "name": "python",
   "nbconvert_exporter": "python",
   "pygments_lexer": "ipython3",
   "version": "3.8.8"
  }
 },
 "nbformat": 4,
 "nbformat_minor": 5
}
