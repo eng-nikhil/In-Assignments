{
 "cells": [
  {
   "cell_type": "raw",
   "id": "500aa67a",
   "metadata": {},
   "source": [
    "1. What is the name of the feature responsible for generating Regex objects?\n",
    "Ans: compile(<regular expression>) in re module provides regex object."
   ]
  },
  {
   "cell_type": "raw",
   "id": "82b26a5e",
   "metadata": {},
   "source": [
    "2. Why do raw strings often appear in Regex objects?"
   ]
  },
  {
   "cell_type": "raw",
   "id": "87c5aad3",
   "metadata": {},
   "source": [
    "3. What is the return value of the search() method?\n",
    "Ans: Search() method is used to search the given pattern in the target string.\n",
    "     In case match is available then it returns the match object which represents first occurence of the match.\n",
    "     If match is not available then it returns None."
   ]
  },
  {
   "cell_type": "raw",
   "id": "c86be5d8",
   "metadata": {},
   "source": [
    "4. From a Match item, how do you get the actual strings that match the pattern?\n",
    "Ans: match.group()"
   ]
  },
  {
   "cell_type": "raw",
   "id": "fe4a9293",
   "metadata": {},
   "source": [
    "5. In the regex which created from the r'(\\d\\d\\d)-(\\d\\d\\d-\\d\\d\\d\\d)', what does group zero cover? Group 2? Group 1?\n",
    "Ans: group0-> Three digit\n",
    "     group1-> Three digit\n",
    "     group2-> Three digit"
   ]
  },
  {
   "cell_type": "raw",
   "id": "68c684ea",
   "metadata": {},
   "source": [
    "6. In standardd expression syntax, parentheses and intervals have distinct meanings. How can you tell a regex that you want it to fit real parentheses and periods?\n"
   ]
  },
  {
   "cell_type": "raw",
   "id": "264b7918",
   "metadata": {},
   "source": [
    "7. The findall() method returns a string list or a list of string tuples. What causes it to return one of the two options?\n",
    "Ans: it returns a list with all the occurences"
   ]
  },
  {
   "cell_type": "raw",
   "id": "e0ef6d24",
   "metadata": {},
   "source": [
    "8. In standard expressions, what does the | character mean?\n",
    "Ans: either or"
   ]
  },
  {
   "cell_type": "raw",
   "id": "b8a4be80",
   "metadata": {},
   "source": [
    "9. In regular expressions, what does the character stand for?\n",
    "Ans:\\S -> Any character except space char\n",
    "    \\w -> any word character or [a-zA-Z0-9]"
   ]
  },
  {
   "cell_type": "raw",
   "id": "2f8333e0",
   "metadata": {},
   "source": [
    "10.In regular expressions, what is the difference between the + and * characters?\n",
    "Ans:+ -> Atleast one occurence\n",
    "    * -> Any number of occurence including zero number"
   ]
  },
  {
   "cell_type": "raw",
   "id": "7889c524",
   "metadata": {},
   "source": [
    "11. What is the difference between {4} and {4,5} in regular expression?\n",
    "ANs: {4}-> Exactly 4 occurneces\n",
    "     {4,5}-> Minimum 4 and max occurences"
   ]
  },
  {
   "cell_type": "raw",
   "id": "18046676",
   "metadata": {},
   "source": [
    "12. What do you mean by the \\d, \\w, and \\s shorthand character classes signify in regular expressions?\n",
    "Ans: \\d -> Any dight from 0 to 9\n",
    "     \\w -> Any word character [a-zA-Z0-9]\n",
    "     \\s -> Space character"
   ]
  },
  {
   "cell_type": "raw",
   "id": "364c78c2",
   "metadata": {},
   "source": [
    "13. What do means by \\D, \\W, and \\S shorthand character classes signify in regular expressions?\n",
    "Ans:\n",
    "    \\D -> Any character except digit\n",
    "    \\W -> Any char expect character\n",
    "    \\S -> ANy Character exept Space char"
   ]
  },
  {
   "cell_type": "raw",
   "id": "5fc750ae",
   "metadata": {},
   "source": [
    "14. What is the difference between .*? and .*?\n",
    "Ans: .*  -> Any number of occurence including zero number\n",
    "     .? -> Atmost one occurence i.e either zero or one occurence"
   ]
  },
  {
   "cell_type": "raw",
   "id": "3032c3ac",
   "metadata": {},
   "source": [
    "15. What is the syntax for matching both numbers and lowercase letters with a character class?\n",
    "Ans: [a-z][a-z]"
   ]
  },
  {
   "cell_type": "raw",
   "id": "04ab4dea",
   "metadata": {},
   "source": [
    "16. What is the procedure for making a normal expression in regax case insensitive?"
   ]
  },
  {
   "cell_type": "raw",
   "id": "f676094b",
   "metadata": {},
   "source": [
    "17. What does the . character normally match? What does it match if re.DOTALL is passed as 2nd argument in re.compile()?"
   ]
  },
  {
   "cell_type": "raw",
   "id": "3e28851d",
   "metadata": {},
   "source": [
    "18. If numReg = re.compile(r'\\d+'), what will numRegex.sub('X', '11 drummers, 10 pipers, five rings, 4 hen') return?"
   ]
  },
  {
   "cell_type": "raw",
   "id": "0c3f5be1",
   "metadata": {},
   "source": [
    "19. What does passing re.VERBOSE as the 2nd argument to re.compile() allow to do?"
   ]
  },
  {
   "cell_type": "raw",
   "id": "6faab61a",
   "metadata": {},
   "source": [
    "20. How would you write a regex that match a number with comma for every three digits? It must match the given following:\n",
    "'42'\n",
    "'1,234'\n",
    "'6,368,745'\n",
    "but not the following:\n",
    "'12,34,567' (which has only two digits between the commas)\n",
    "'1234' (which lacks commas)"
   ]
  },
  {
   "cell_type": "raw",
   "id": "98c29b53",
   "metadata": {},
   "source": [
    "21. How would you write a regex that matches the full name of someone whose last name is Watanabe? You can assume that the first name that comes before it will always be one word that begins with a capital letter. The regex must match the following:\n",
    "'Haruto Watanabe'\n",
    "'Alice Watanabe'\n",
    "'RoboCop Watanabe'\n",
    "but not the following:\n",
    "'haruto Watanabe' (where the first name is not capitalized)\n",
    "'Mr. Watanabe' (where the preceding word has a nonletter character)\n",
    "'Watanabe' (which has no first name)\n",
    "'Haruto watanabe' (where Watanabe is not capitalized)"
   ]
  },
  {
   "cell_type": "raw",
   "id": "4f899ef1",
   "metadata": {},
   "source": [
    "22. How would you write a regex that matches a sentence where the first word is either Alice, Bob, or Carol; the second word is either eats, pets, or throws; the third word is apples, cats, or baseballs; and the sentence ends with a period? This regex should be case-insensitive. It must match the following:\n",
    "'Alice eats apples.'\n",
    "'Bob pets cats.'\n",
    "'Carol throws baseballs.'\n",
    "'Alice throws Apples.'\n",
    "'BOB EATS CATS.'\n",
    "but not the following:\n",
    "'RoboCop eats apples.'\n",
    "'ALICE THROWS FOOTBALLS.'\n",
    "'Carol eats 7 cats.'"
   ]
  }
 ],
 "metadata": {
  "kernelspec": {
   "display_name": "Python 3",
   "language": "python",
   "name": "python3"
  },
  "language_info": {
   "codemirror_mode": {
    "name": "ipython",
    "version": 3
   },
   "file_extension": ".py",
   "mimetype": "text/x-python",
   "name": "python",
   "nbconvert_exporter": "python",
   "pygments_lexer": "ipython3",
   "version": "3.8.8"
  }
 },
 "nbformat": 4,
 "nbformat_minor": 5
}
