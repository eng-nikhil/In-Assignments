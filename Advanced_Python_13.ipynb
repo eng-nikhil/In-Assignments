{
 "cells": [
  {
   "cell_type": "raw",
   "id": "6f943b5e",
   "metadata": {},
   "source": [
    "Q1. Can you create a programme or function that employs both positive and negative indexing?\n",
    "    Is there any repercussion if you do so?\n",
    "Ans: Python iterable objects has both positive and negative indexing.  There is no repercussion\n",
    "\n",
    "\n",
    "\n",
    "Q2. What is the most effective way of starting with 1,000 elements in a Python list? Assume that all elements should be set to the same value.\n",
    "Ans: List comprehesion ['x' for _ in range(1000)]\n",
    "\n",
    "\n",
    "Q3. How do you slice a list to get any other part while missing the rest? (For example, suppose you want to make a new list with the elements first, third, fifth, seventh, and so on.)\n",
    "Ans: lst[::2]\n",
    "\n",
    "\n",
    "Q4. Explain the distinctions between indexing and slicing.\n",
    "Ans:Indexing means referring to an element of an iterable by its position within the iterable object.\n",
    "    Slicing means getting a subset of elements from an iterable object  based on their indices.\n",
    "\n",
    "\n",
    "Q5. What happens if one of the slicing expression's indexes is out of range?\n",
    "Ans:It will go to first or last based on direction, but no error.\n",
    "\n",
    "\n",
    "Q6. If you pass a list to a function, and if you want the function to be able to change the values of the list—so that the list is different after the function returns—what action should you avoid?\n",
    "Ans:If we want function not to make changes on outside list , we should copy it to other list and perform operation on that.\n",
    "    List are passed as refernce so should not change dirctly on same varible.\n",
    "\n",
    "\n",
    "Q7. What is the concept of an unbalanced matrix?\n",
    "Ans: If number of rows is not equal to number of columns in matrix then it is called Unbalanced matrix.\n",
    "\n",
    "\n",
    "Q8. Why is it necessary to use either list comprehension or a loop to create arbitrarily large matrices?\n",
    "Ans:Assigning values to each element will be tedious so loop of list comprehension is better approach\n",
    "    "
   ]
  }
 ],
 "metadata": {
  "kernelspec": {
   "display_name": "Python 3",
   "language": "python",
   "name": "python3"
  },
  "language_info": {
   "codemirror_mode": {
    "name": "ipython",
    "version": 3
   },
   "file_extension": ".py",
   "mimetype": "text/x-python",
   "name": "python",
   "nbconvert_exporter": "python",
   "pygments_lexer": "ipython3",
   "version": "3.8.8"
  }
 },
 "nbformat": 4,
 "nbformat_minor": 5
}
