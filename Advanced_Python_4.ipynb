{
 "cells": [
  {
   "cell_type": "code",
   "execution_count": null,
   "id": "5ac508d6",
   "metadata": {},
   "outputs": [],
   "source": [
    "Q1. Which two operator overloading methods can you use in your classes to support iteration?\n",
    "Ans: __iter__  -> Makes it iterator object\n",
    "     __next__  -> return next value in iterator\n",
    "\n",
    "\n",
    "Q2. In what contexts do the two operator overloading methods manage printing?\n",
    "Ans: __str__ method need to be overloaded to print object\n",
    "\n",
    "\n",
    "Q3. In a class, how do you intercept slice operations?\n",
    "Ans: by __setslice__ method\n",
    "\n",
    "\n",
    "Q4. In a class, how do you capture in-place addition?\n",
    "Ans: by defining self.a+=b or iAdd in __add__\n",
    "\n",
    "\n",
    "Q5. When is it appropriate to use operator overloading?\n",
    "Ans: When we want to perform operations on primitive operations on objects of class which may have muliple attributes\n",
    "     for eg: if class have attributes a,b,c and we need to perform operation like\n",
    "            obj1.a+obj2.a \n",
    "            obj1.b+obj2.b\n",
    "            obj1.c+obj2.c \n",
    "            \n",
    "            \n"
   ]
  }
 ],
 "metadata": {
  "kernelspec": {
   "display_name": "Python 3",
   "language": "python",
   "name": "python3"
  },
  "language_info": {
   "codemirror_mode": {
    "name": "ipython",
    "version": 3
   },
   "file_extension": ".py",
   "mimetype": "text/x-python",
   "name": "python",
   "nbconvert_exporter": "python",
   "pygments_lexer": "ipython3",
   "version": "3.8.8"
  }
 },
 "nbformat": 4,
 "nbformat_minor": 5
}
