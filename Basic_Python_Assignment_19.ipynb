{
 "cells": [
  {
   "cell_type": "code",
   "execution_count": 3,
   "id": "2c7f2a2b",
   "metadata": {},
   "outputs": [
    {
     "name": "stdout",
     "output_type": "stream",
     "text": [
      "<class '__main__.Thing'> <__main__.Thing object at 0x0000018F29FECA90>\n"
     ]
    }
   ],
   "source": [
    "# 1. Make a class called Thing with no contents and print it. \n",
    "# Then, create an object called example from this class and also print it. \n",
    "# Are the printed values the same or different?\n",
    "\n",
    "class Thing:\n",
    "    pass\n",
    "\n",
    "example =Thing()\n",
    "\n",
    "print(Thing,example)\n",
    "\n",
    "#Printed one as class and other as object of class."
   ]
  },
  {
   "cell_type": "code",
   "execution_count": 4,
   "id": "13c2ba32",
   "metadata": {},
   "outputs": [
    {
     "name": "stdout",
     "output_type": "stream",
     "text": [
      "abc\n"
     ]
    }
   ],
   "source": [
    "# 2. Create a new class called Thing2 and add the value 'abc' to the letters class attribute. \n",
    "#Letters should be printed.\n",
    "\n",
    "class Thing2:\n",
    "    letters='abc'\n",
    "\n",
    "print(Thing2.letters)    #Accessing Class Variable/Static"
   ]
  },
  {
   "cell_type": "code",
   "execution_count": 5,
   "id": "1677ddf0",
   "metadata": {},
   "outputs": [
    {
     "name": "stdout",
     "output_type": "stream",
     "text": [
      "xyz\n"
     ]
    }
   ],
   "source": [
    "# 3. Make yet another class called, of course, Thing3. \n",
    "#This time, assign the value 'xyz' to an instance (object) attribute called letters. \n",
    "#Print letters. Do you need to make an object from the class to do this?\n",
    "\n",
    "class Thing3:\n",
    "    pass\n",
    "\n",
    "obj=Thing3()\n",
    "obj.letters='xyz'\n",
    "print(obj.letters)    # letters is variable of specific object it has no relation to class"
   ]
  },
  {
   "cell_type": "code",
   "execution_count": 10,
   "id": "9a7fb652",
   "metadata": {},
   "outputs": [
    {
     "name": "stdout",
     "output_type": "stream",
     "text": [
      "Hydrogen H 1\n"
     ]
    }
   ],
   "source": [
    "# 4. Create an Element class with the instance attributes name, symbol, and number.\n",
    "#Create a class object with the values 'Hydrogen,' 'H,' and 1.\n",
    "\n",
    "class Element:\n",
    "    def __init__(self,name, symbol,number):\n",
    "        self.name=name\n",
    "        self.symbol=symbol\n",
    "        self.number=number\n",
    "obj=Element('Hydrogen', 'H',1)\n",
    "\n",
    "print(obj.name, obj.symbol,obj.number)"
   ]
  },
  {
   "cell_type": "code",
   "execution_count": 11,
   "id": "4b4eb62f",
   "metadata": {},
   "outputs": [
    {
     "name": "stdout",
     "output_type": "stream",
     "text": [
      "Hydrogen H 1\n"
     ]
    }
   ],
   "source": [
    "# 5. Make a dictionary with these keys and values: 'name': 'Hydrogen', 'symbol': 'H', 'number': 1. \n",
    "# Then, create an object called hydrogen from class Element using this dictionary.\n",
    "\n",
    "dict = {'name': 'Hydrogen', 'symbol': 'H', 'number': 1}\n",
    "\n",
    "hydrogen=Element(dict['name'],dict['symbol'],dict['number'])\n",
    "\n",
    "print(hydrogen.name, hydrogen.symbol,hydrogen.number)"
   ]
  },
  {
   "cell_type": "code",
   "execution_count": 12,
   "id": "daf26ac8",
   "metadata": {},
   "outputs": [
    {
     "name": "stdout",
     "output_type": "stream",
     "text": [
      "Hydrogen H 1\n"
     ]
    }
   ],
   "source": [
    "# 6. For the Element class, define a method called dump() that prints the values of the object’s attributes (name, symbol, and number).\n",
    "#Create the hydrogen object from this new definition and use dump() to print its attributes.\n",
    "\n",
    "class Element:\n",
    "    def __init__(self,name, symbol,number):\n",
    "        self.name=name\n",
    "        self.symbol=symbol\n",
    "        self.number=number\n",
    "    def dump(self):\n",
    "        print(self.name, self.symbol,self.number)\n",
    "        \n",
    "obj=Element('Hydrogen', 'H',1)\n",
    "obj.dump()\n"
   ]
  },
  {
   "cell_type": "code",
   "execution_count": 22,
   "id": "712efadd",
   "metadata": {},
   "outputs": [
    {
     "name": "stdout",
     "output_type": "stream",
     "text": [
      "Hydrogen H 1\n"
     ]
    }
   ],
   "source": [
    "# 7. Call print(hydrogen). In the definition of Element, change the name of method dump to __str__, \n",
    "# create a new hydrogen object, and call print(hydrogen) again.\n",
    "\n",
    "class Element:\n",
    "    def __init__(self,name, symbol,number):\n",
    "        self.name=name\n",
    "        self.symbol=symbol\n",
    "        self.number=number\n",
    "    def __str__(self):\n",
    "        return '{} {} {}'.format(self.name,self.symbol,self.number)\n",
    "        \n",
    "hydrogen=Element('Hydrogen', 'H',1)\n",
    "print(hydrogen)"
   ]
  },
  {
   "cell_type": "code",
   "execution_count": 23,
   "id": "d3abf515",
   "metadata": {},
   "outputs": [
    {
     "name": "stdout",
     "output_type": "stream",
     "text": [
      "Hydrogen H 1\n"
     ]
    }
   ],
   "source": [
    "# 8. Modify Element to make the attributes name, symbol, and number private. \n",
    "#Define a getter property for each to return its value.\n",
    "\n",
    "class Element:\n",
    "    def __init__(self,name, symbol,number):\n",
    "        self.__name=name\n",
    "        self.__symbol=symbol\n",
    "        self.__number=number\n",
    "        \n",
    "    @property\n",
    "    def name(self):\n",
    "        return self.__name\n",
    "    @property\n",
    "    def symbol(self):\n",
    "        return self.__symbol\n",
    "    @property\n",
    "    def number(self):\n",
    "        return self.__number\n",
    "    \n",
    "obj=Element('Hydrogen', 'H',1)\n",
    "print(obj.name,obj.symbol,obj.number)"
   ]
  },
  {
   "cell_type": "code",
   "execution_count": 24,
   "id": "99b7ccdb",
   "metadata": {},
   "outputs": [
    {
     "name": "stdout",
     "output_type": "stream",
     "text": [
      "berries\n",
      "clover\n",
      "campers\n"
     ]
    }
   ],
   "source": [
    "# 9. Define three classes: Bear, Rabbit, and Octothorpe. \n",
    "#For each, define only one method: eats(). \n",
    "#This should return 'berries' (Bear), 'clover' (Rabbit), or 'campers' (Octothorpe). \n",
    "#Create one object from each and print what it eats.\n",
    "\n",
    "class Bear:\n",
    "    def eats(self):\n",
    "        return 'berries'\n",
    "    \n",
    "class Rabbit:\n",
    "    def eats(self):\n",
    "        return 'clover'   \n",
    "class Octothorpe:\n",
    "    def eats(self):\n",
    "        return 'campers'  \n",
    "    \n",
    "obj_bear=Bear()\n",
    "obj_rabbit=Rabbit()\n",
    "obj_octothorpe=Octothorpe()\n",
    "\n",
    "print(obj_bear.eats())\n",
    "print(obj_rabbit.eats())\n",
    "print(obj_octothorpe.eats())"
   ]
  },
  {
   "cell_type": "code",
   "execution_count": 26,
   "id": "2a56e665",
   "metadata": {},
   "outputs": [
    {
     "name": "stdout",
     "output_type": "stream",
     "text": [
      "disintegrate crush ring\n"
     ]
    }
   ],
   "source": [
    "# 10. Define these classes: Laser, Claw, and SmartPhone. Each has only one method: does().\n",
    "#This returns 'disintegrate' (Laser), 'crush' (Claw), or 'ring' (SmartPhone). \n",
    "#Then, define the class Robot that has one instance (object) of each of these.\n",
    "#Define a does() method for the Robot that prints what its component objects do.\n",
    "\n",
    "class Laser:\n",
    "    def does(self):\n",
    "        return 'disintegrate'\n",
    "        \n",
    "class Claw:\n",
    "    def does(self):\n",
    "        return 'crush'\n",
    "\n",
    "class SmartPhone:\n",
    "    def does(self):\n",
    "        return 'ring'\n",
    "    \n",
    "class Robot():\n",
    "    def does(self):\n",
    "        obj_laser=Laser()\n",
    "        obj_claw=Claw()\n",
    "        obj_smartphone=SmartPhone()\n",
    "        print(obj_laser.does(),obj_claw.does(),obj_smartphone.does())\n",
    "\n",
    "obj_robot=Robot()\n",
    "obj_robot.does()"
   ]
  }
 ],
 "metadata": {
  "kernelspec": {
   "display_name": "Python 3",
   "language": "python",
   "name": "python3"
  },
  "language_info": {
   "codemirror_mode": {
    "name": "ipython",
    "version": 3
   },
   "file_extension": ".py",
   "mimetype": "text/x-python",
   "name": "python",
   "nbconvert_exporter": "python",
   "pygments_lexer": "ipython3",
   "version": "3.8.8"
  }
 },
 "nbformat": 4,
 "nbformat_minor": 5
}
