{
 "cells": [
  {
   "cell_type": "code",
   "execution_count": 21,
   "id": "31cbdb79",
   "metadata": {},
   "outputs": [
    {
     "name": "stdout",
     "output_type": "stream",
     "text": [
      "Enter any numberfhdhd\n",
      "Not a integer Number..please try again\n",
      "Enter any number135\n",
      "Is 135 Disarium Number? True\n"
     ]
    }
   ],
   "source": [
    "# 1.\tWrite a Python program to check if the given number is a Disarium Number?\n",
    "#A number is called Disarium if sum of its digits powered with their respective positions is equal to the number itself.\n",
    "\n",
    "def isDisarium(num):\n",
    "    j,sum=1,0\n",
    "    for i in num:\n",
    "        sum+=int(i)**j\n",
    "        j+=1\n",
    "    if int(num)==sum:\n",
    "        return True\n",
    "    else:\n",
    "        return False\n",
    "\n",
    "while True:\n",
    "    try:\n",
    "        num=input(\"Enter any number\") \n",
    "        num_int=int(num)    \n",
    "    except ValueError:        \n",
    "        print('Not a integer Number..please try again')        \n",
    "    else:\n",
    "        print('Is {} Disarium Number? {}'.format(num,isDisarium(num) ))\n",
    "        break"
   ]
  },
  {
   "cell_type": "code",
   "execution_count": 36,
   "id": "a0bc0dad",
   "metadata": {},
   "outputs": [
    {
     "name": "stdout",
     "output_type": "stream",
     "text": [
      "Enter any number range to be checked100\n",
      "List: ['0', '1', '2', '3', '4', '5', '6', '7', '8', '9', '89']\n"
     ]
    }
   ],
   "source": [
    "# 2.\tWrite a Python program to print all disarium numbers between 1 to 100?\n",
    "def isDisarium(num):\n",
    "    j,sum=1,0\n",
    "    for i in num:\n",
    "        sum+=int(i)**j\n",
    "        j+=1\n",
    "    if int(num)==sum:\n",
    "        return num\n",
    "\n",
    "while True:\n",
    "    try:\n",
    "        num=input(\"Enter any number range to be checked\") \n",
    "        num_int=int(num)    \n",
    "    except ValueError:        \n",
    "        print('Not a integer Number..please try again')        \n",
    "    else:\n",
    "        l=[]\n",
    "        for i in range(num_int):\n",
    "            a= isDisarium(str(i))\n",
    "            if a:\n",
    "                l.append(a)\n",
    "        print(\"List:\",l)\n",
    "        break"
   ]
  },
  {
   "cell_type": "code",
   "execution_count": 43,
   "id": "7ccd821d",
   "metadata": {},
   "outputs": [
    {
     "name": "stdout",
     "output_type": "stream",
     "text": [
      "Enter any Number: 82\n",
      "82  is a happy number\n"
     ]
    }
   ],
   "source": [
    "# 3.\tWrite a Python program to check if the given number is Happy Number?\n",
    " \n",
    "def isHappyNum(num):    \n",
    "    rem = sum = 0  \n",
    "    while(num > 0):    \n",
    "        rem = num%10    \n",
    "        sum = sum + (rem*rem)  \n",
    "        num = num//10    \n",
    "    return sum    \n",
    "       \n",
    "num = int(input('Enter any Number: ')) \n",
    "result = num    \n",
    "     \n",
    "while(result != 1 and result != 4):    \n",
    "    result = isHappyNum(result)   \n",
    "     \n",
    "#Happy number always ends with 1    \n",
    "if(result == 1):    \n",
    "    print(str(num) , \" is a happy number\")   \n",
    "#Unhappy number ends in a cycle of repeating numbers which contain 4    \n",
    "elif(result == 4):    \n",
    "    print(str(num) ,\" is not a happy number\")        "
   ]
  },
  {
   "cell_type": "code",
   "execution_count": 13,
   "id": "a7cce49f",
   "metadata": {},
   "outputs": [
    {
     "name": "stdout",
     "output_type": "stream",
     "text": [
      "Happy Numbers:  [1, 7, 10, 13, 19, 23, 28, 31, 32, 44, 49, 68, 70, 79, 82, 86, 91, 94, 97, 100]\n"
     ]
    }
   ],
   "source": [
    "# 4.\tWrite a Python program to print all happy numbers between 1 and 100?\n",
    " \n",
    "def isHappyNum(num):    \n",
    "    rem = sum = 0  \n",
    "    while(num > 0):    \n",
    "        rem = num%10    \n",
    "        sum = sum + (rem*rem)  \n",
    "        num = num//10    \n",
    "    return sum    \n",
    "\n",
    "num=1\n",
    "l=[]\n",
    "while(num<101):  \n",
    "    result = num    \n",
    "     \n",
    "    while(result != 1 and result != 4):    \n",
    "        result = isHappyNum(result)   \n",
    "     \n",
    "    #Happy number always ends with 1    \n",
    "    if(result == 1):    \n",
    "        l.append(num)  \n",
    "    num+=1\n",
    "print('Happy Numbers: ',l)"
   ]
  },
  {
   "cell_type": "code",
   "execution_count": 33,
   "id": "3523c202",
   "metadata": {},
   "outputs": [
    {
     "name": "stdout",
     "output_type": "stream",
     "text": [
      "Enter any number: 156\n",
      "Is it Harshad number:  True\n"
     ]
    }
   ],
   "source": [
    "# 5.\tWrite a Python program to determine whether the given number is a Harshad Number?\n",
    "#A number is said to be the Harshad number if it is divisible by the sum of its digit\n",
    "\n",
    "def isHarshad(num):\n",
    "    sum=0\n",
    "    for d in str(num):\n",
    "        sum+=int(d)\n",
    "    if int(num)%sum == 0:\n",
    "        return True\n",
    "    else:\n",
    "        return False\n",
    "try:\n",
    "    num=input(\"Enter any number: \")\n",
    "    int(num)\n",
    "except ValueError:\n",
    "    print(\"Not a Number pleas retry\")\n",
    "    \n",
    "print(\"Is it Harshad number: \",isHarshad(num))\n",
    "    \n"
   ]
  },
  {
   "cell_type": "code",
   "execution_count": 45,
   "id": "49a5aac7",
   "metadata": {},
   "outputs": [
    {
     "name": "stdout",
     "output_type": "stream",
     "text": [
      "list of pronicnumbers:  [2, 6, 12, 20, 30, 42, 56, 72, 90]\n"
     ]
    }
   ],
   "source": [
    "# 6.\tWrite a Python program to print all pronic numbers between 1 and 100?\n",
    "def pronicnumbers(num):\n",
    "    i,j=1,2\n",
    "    x=0\n",
    "    l=[]\n",
    "    while True:\n",
    "        x=i*j\n",
    "        if x<num:\n",
    "            l.append(x)\n",
    "            i+=1\n",
    "            j+=1\n",
    "        else:\n",
    "            break       \n",
    "    return l\n",
    "\n",
    "\n",
    "print(\"list of pronicnumbers: \", pronicnumbers(100))\n",
    "    \n",
    "    "
   ]
  }
 ],
 "metadata": {
  "kernelspec": {
   "display_name": "Python 3",
   "language": "python",
   "name": "python3"
  },
  "language_info": {
   "codemirror_mode": {
    "name": "ipython",
    "version": 3
   },
   "file_extension": ".py",
   "mimetype": "text/x-python",
   "name": "python",
   "nbconvert_exporter": "python",
   "pygments_lexer": "ipython3",
   "version": "3.8.8"
  }
 },
 "nbformat": 4,
 "nbformat_minor": 5
}
