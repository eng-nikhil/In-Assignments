{
 "cells": [
  {
   "cell_type": "code",
   "execution_count": 2,
   "id": "dd90d503",
   "metadata": {},
   "outputs": [
    {
     "name": "stdout",
     "output_type": "stream",
     "text": [
      "[1, 2, 3, 4]\n",
      "[0, 1729]\n",
      "[]\n"
     ]
    }
   ],
   "source": [
    "# Question1\n",
    "# Create a function that takes a list of strings and integers, and filters out the list so that it returns a list of integers only.\n",
    "# Examples\n",
    "# filter_list([1, 2, 3, \"a\", \"b\", 4]) ➞ [1, 2, 3, 4]\n",
    "\n",
    "# filter_list([\"A\", 0, \"Edabit\", 1729, \"Python\", \"1729\"]) ➞ [0, 1729]\n",
    "\n",
    "# filter_list([\"Nothing\", \"here\"]) ➞ []\n",
    "\n",
    "\n",
    "def filter_list(lst):\n",
    "    return [x for x in lst if type(x)==int]\n",
    "\n",
    "print(filter_list([1, 2, 3, \"a\", \"b\", 4]))\n",
    "print(filter_list([\"A\", 0, \"Edabit\", 1729, \"Python\", \"1729\"]))\n",
    "print(filter_list([\"Nothing\", \"here\"]))\n"
   ]
  },
  {
   "cell_type": "code",
   "execution_count": 10,
   "id": "1bc86cbf",
   "metadata": {},
   "outputs": [
    {
     "name": "stdout",
     "output_type": "stream",
     "text": [
      "[0, 1, 2, 3, 4]\n",
      "[1, 3, 5, 7, 9]\n",
      "[5, 5, 5, 5, 5]\n"
     ]
    }
   ],
   "source": [
    "# Question2\n",
    "# Given a list of numbers, create a function which returns the list but with each element's index in the list added to itself. This means you add 0 to the number at index 0, add 1 to the number at index 1, etc...\n",
    "# Examples\n",
    "# add_indexes([0, 0, 0, 0, 0]) ➞ [0, 1, 2, 3, 4]\n",
    "\n",
    "# add_indexes([1, 2, 3, 4, 5]) ➞ [1, 3, 5, 7, 9]\n",
    "\n",
    "# add_indexes([5, 4, 3, 2, 1]) ➞ [5, 5, 5, 5, 5]\n",
    "\n",
    "def add_indexes(lst):\n",
    "    return [i+n for i,n in enumerate(lst)]\n",
    "\n",
    "print(add_indexes([0, 0, 0, 0, 0]))\n",
    "print(add_indexes([1, 2, 3, 4, 5]))\n",
    "print(add_indexes([5, 4, 3, 2, 1]))"
   ]
  },
  {
   "attachments": {
    "image.png": {
     "image/png": "[encoded data removed]"
    }
   },
   "cell_type": "markdown",
   "id": "3b74159a",
   "metadata": {},
   "source": [
    "Question3\n",
    "Create a function that takes the height and radius of a cone as arguments and returns the volume of the cone rounded to the nearest hundredth. See the resources tab for the formula.\n",
    "![image.png](attachment:image.png)\n",
    "\n",
    "Examples\n",
    "cone_volume(3, 2) ➞ 12.57\n",
    "\n",
    "cone_volume(15, 6) ➞ 565.49\n",
    "\n",
    "cone_volume(18, 0) ➞ 0"
   ]
  },
  {
   "cell_type": "code",
   "execution_count": 11,
   "id": "e2561f64",
   "metadata": {},
   "outputs": [
    {
     "name": "stdout",
     "output_type": "stream",
     "text": [
      "12.57\n",
      "565.49\n",
      "0.0\n"
     ]
    }
   ],
   "source": [
    "#Volume of Cone=π*r**2(h/3)\n",
    "from math import pi\n",
    "def cone_volume(h,r):\n",
    "    return round(pi*(r)**2*(h/3),2)\n",
    "\n",
    "print(cone_volume(3, 2))\n",
    "\n",
    "print(cone_volume(15, 6)) \n",
    "\n",
    "print(cone_volume(18, 0))"
   ]
  },
  {
   "cell_type": "code",
   "execution_count": 22,
   "id": "415eabc0",
   "metadata": {},
   "outputs": [
    {
     "name": "stdout",
     "output_type": "stream",
     "text": [
      "1\n",
      "21\n",
      "23220\n"
     ]
    }
   ],
   "source": [
    "# Question4\n",
    "# This Triangular Number Sequence is generated from a pattern of dots that form a triangle. The first 5 numbers of the sequence, or dots, are: \n",
    "# 1, 3, 6, 10, 15\n",
    "# This means that the first triangle has just one dot, the second one has three dots, the third one has 6 dots and so on.\n",
    "# Write a function that gives the number of dots with its corresponding triangle number of the sequence.\n",
    "# Examples\n",
    "# triangle(1) ➞ 1\n",
    "# triangle(6) ➞ 21\n",
    "# triangle(215) ➞ 23220\n",
    "\n",
    "def triangle(n):  \n",
    "    return n*(n+1)//2\n",
    "    \n",
    "print(triangle(1))\n",
    "print(triangle(6))\n",
    "print(triangle(215))"
   ]
  },
  {
   "cell_type": "code",
   "execution_count": 38,
   "id": "0d7d4ad3",
   "metadata": {},
   "outputs": [
    {
     "name": "stdout",
     "output_type": "stream",
     "text": [
      "[5]\n",
      "[10]\n",
      "[7]\n"
     ]
    }
   ],
   "source": [
    "# Question5\n",
    "# Create a function that takes a list of numbers between 1 and 10 (excluding one number) and returns the missing number.\n",
    "# Examples\n",
    "# missing_num([1, 2, 3, 4, 6, 7, 8, 9, 10]) ➞ 5\n",
    "\n",
    "# missing_num([7, 2, 3, 6, 5, 9, 1, 4, 8]) ➞ 10\n",
    "\n",
    "# missing_num([10, 5, 1, 2, 4, 6, 8, 3, 9]) ➞ 7\n",
    "\n",
    "def missing_num(lst):\n",
    "    return [x for x in range(1,11) if x not in lst ]\n",
    "\n",
    "print(missing_num([1, 2, 3, 4, 6, 7, 8, 9, 10]))\n",
    "print(missing_num([7, 2, 3, 6, 5, 9, 1, 4, 8]))\n",
    "print(missing_num([10, 5, 1, 2, 4, 6, 8, 3, 9]))\n"
   ]
  }
 ],
 "metadata": {
  "kernelspec": {
   "display_name": "Python 3",
   "language": "python",
   "name": "python3"
  },
  "language_info": {
   "codemirror_mode": {
    "name": "ipython",
    "version": 3
   },
   "file_extension": ".py",
   "mimetype": "text/x-python",
   "name": "python",
   "nbconvert_exporter": "python",
   "pygments_lexer": "ipython3",
   "version": "3.8.8"
  }
 },
 "nbformat": 4,
 "nbformat_minor": 5
}
