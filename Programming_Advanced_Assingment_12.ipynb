{
 "cells": [
  {
   "cell_type": "code",
   "execution_count": 31,
   "id": "529133d5",
   "metadata": {},
   "outputs": [
    {
     "name": "stdout",
     "output_type": "stream",
     "text": [
      "515\n",
      "1103\n",
      "31499\n"
     ]
    }
   ],
   "source": [
    "1.\n",
    "# meme_sum(26, 39) ➞ 515\n",
    "# # 2+3 = 5, 6+9 = 15\n",
    "# # 26 + 39 = 515\n",
    "\n",
    "# meme_sum(122, 81) ➞ 1103\n",
    "# # 1+0 = 1, 2+8 = 10, 2+1 = 3\n",
    "# # 122 + 81 = 1103\n",
    "\n",
    "# meme_sum(1222, 30277) ➞ 31499\n",
    "\n",
    "def meme_sum(a,b):\n",
    "    max_len=0    \n",
    "    a=str(a)\n",
    "    b=str(b)\n",
    "    i=0\n",
    "    c=''    \n",
    "    if len(a)>len(b):\n",
    "        max_len=len(a)               \n",
    "    else:\n",
    "        max_len =len(b)        \n",
    "    a=a.zfill(max_len)[::-1]\n",
    "    b=b.zfill(max_len)[::-1]\n",
    "    \n",
    "    while i <len(str(a)):\n",
    "        c=c+ str(int(a[i])+int(b[i]))[::-1]\n",
    "        i+=1\n",
    "    print(c[::-1])\n",
    "    \n",
    "meme_sum(26, 39) \n",
    "meme_sum(122, 81)\n",
    "meme_sum(1222, 30277)   "
   ]
  },
  {
   "cell_type": "code",
   "execution_count": 68,
   "id": "19f328cf",
   "metadata": {},
   "outputs": [
    {
     "data": {
      "text/plain": [
       "23"
      ]
     },
     "execution_count": 68,
     "metadata": {},
     "output_type": "execute_result"
    }
   ],
   "source": [
    "# 2. Given an integer, create a function that returns the next prime. If the number is prime, return the number itself.\n",
    "\n",
    "# Examples\n",
    "\n",
    "# next_prime(12) ➞ 13\n",
    "\n",
    "# next_prime(24) ➞ 29\n",
    "\n",
    "# next_prime(11) ➞ 11\n",
    "# # 11 is a prime, so we return the number itself.\n",
    "from math import ceil\n",
    "def next_prime(num):\n",
    "    while True:\n",
    "        if Is_prime(num)==False:\n",
    "            num+=1\n",
    "        else:\n",
    "            return num\n",
    "    \n",
    "def Is_prime(num):\n",
    "    prime=True\n",
    "    while True:\n",
    "        for i in range(2,ceil(num/2)):\n",
    "            if num%i==0:\n",
    "                prime=False\n",
    "                break          \n",
    "        return prime            \n",
    "                \n",
    "next_prime(20)        "
   ]
  },
  {
   "cell_type": "code",
   "execution_count": null,
   "id": "913ef065",
   "metadata": {},
   "outputs": [],
   "source": [
    "# 3. If a person traveled up a hill for 18mins at 20mph and then traveled back down the same path at 60mph then their average speed traveled was 30mph.\n",
    "\n",
    "# Write a function that returns the average speed traveled given an uphill time, uphill rate and a downhill rate. Uphill time is given in minutes. Return the rate as an integer (mph). No rounding is necessary.\n",
    "\n",
    "# Examples\n",
    "\n",
    "# ave_spd(18, 20, 60) ➞ 30\n",
    "\n",
    "# ave_spd(30, 10, 30) ➞ 15\n",
    "\n",
    "# ave_spd(30, 8, 24) ➞ 12\n",
    "\n",
    "\n"
   ]
  },
  {
   "cell_type": "code",
   "execution_count": null,
   "id": "1865a01f",
   "metadata": {},
   "outputs": [],
   "source": [
    "\n",
    "# 4. The Kempner Function, applied to a composite number, permits to find the smallest integer greater than zero whose factorial is exactly divided by the number.\n",
    "\n",
    "# kempner(6) ➞ 3\n",
    "\n",
    "# 1! = 1 % 6 > 0\n",
    "# 2! = 2 % 6 > 0\n",
    "# 3! = 6 % 6 === 0\n",
    "\n",
    "# kempner(10) ➞ 5\n",
    "\n",
    "# 1! = 1 % 10 > 0\n",
    "# 2! = 2 % 10 > 0\n",
    "# 3! = 6 % 10 > 0\n",
    "# 4! = 24 % 10 > 0\n",
    "# 5! = 120 % 10 === 0\n",
    "\n",
    "# A Kempner Function applied to a prime will always return the prime itself.\n",
    "\n",
    "# kempner(2) ➞ 2\n",
    "# kempner(5) ➞ 5\n",
    "\n",
    "# Given an integer n, implement a Kempner Function.\n",
    "\n",
    "# Examples\n",
    "\n",
    "# kempner(6) ➞ 3\n",
    "\n",
    "# kempner(10) ➞ 5\n",
    "\n",
    "# kempner(2) ➞ 2"
   ]
  },
  {
   "cell_type": "code",
   "execution_count": null,
   "id": "ed060b18",
   "metadata": {},
   "outputs": [],
   "source": [
    "# 5. You work in a factory, and your job is to take items from a conveyor belt and pack them into boxes. Each box can hold a maximum of 10 kgs. Given a list containing the weight (in kg) of each item, how many boxes would you need to pack all of the items?\n",
    "\n",
    "# Example\n",
    "\n",
    "# boxes([2, 1, 2, 5, 4, 3, 6, 1, 1, 9, 3, 2]) ➞ 5\n",
    "\n",
    "# # Box 1 = [2, 1, 2, 5] (10kg)\n",
    "# # Box 2 = [4, 3] (7kg)\n",
    "# # Box 3 = [6, 1, 1] (8kg)\n",
    "# # Box 4 = [9] (9kg)\n",
    "# # Box 5 = [3, 2] (5kg)"
   ]
  }
 ],
 "metadata": {
  "kernelspec": {
   "display_name": "Python 3",
   "language": "python",
   "name": "python3"
  },
  "language_info": {
   "codemirror_mode": {
    "name": "ipython",
    "version": 3
   },
   "file_extension": ".py",
   "mimetype": "text/x-python",
   "name": "python",
   "nbconvert_exporter": "python",
   "pygments_lexer": "ipython3",
   "version": "3.8.8"
  }
 },
 "nbformat": 4,
 "nbformat_minor": 5
}
