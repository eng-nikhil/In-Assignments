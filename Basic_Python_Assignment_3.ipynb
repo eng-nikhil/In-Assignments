{
 "cells": [
  {
   "cell_type": "raw",
   "id": "61b6361a",
   "metadata": {},
   "source": [
    "1. Why are functions advantageous to have in your programs?\n",
    "Ans:\n",
    "    1. Useful for reusablity of code, reduces redundant code.\n",
    "    2. Supports Modular programming.\n",
    "    3. Can hide internal implementation(Abstration)\n"
   ]
  },
  {
   "cell_type": "raw",
   "id": "2ecc01cd",
   "metadata": {},
   "source": [
    "2. When does the code in a function run: when it's specified or when it's called?\n",
    "Ans:\n",
    "    Function Code executed when it is called."
   ]
  },
  {
   "cell_type": "raw",
   "id": "79885fc3",
   "metadata": {},
   "source": [
    "3. What statement creates a function?\n",
    "   def <function_name>(<parameters>):\n"
   ]
  },
  {
   "cell_type": "raw",
   "id": "45352552",
   "metadata": {},
   "source": [
    "4. What is the difference between a function and a function call?\n",
    "Ans:\n",
    "   Function defintion means defining the functionality/code for use.\n",
    "   Function call means executing the code."
   ]
  },
  {
   "cell_type": "raw",
   "id": "c7bbe4f7",
   "metadata": {},
   "source": [
    "5. How many global scopes are there in a Python program? How many local scopes?\n",
    "Ans: \n",
    "    Only one global scope in the module/program.\n",
    "    Number of Local scope depends on the number blocks/functions defined in program."
   ]
  },
  {
   "cell_type": "raw",
   "id": "5fe04858",
   "metadata": {},
   "source": [
    "6. What happens to variables in a local scope when the function call returns?\n",
    "Ans:\n",
    "    Local variables of functions are cleaned by garbage collector."
   ]
  },
  {
   "cell_type": "raw",
   "id": "9d9359a5",
   "metadata": {},
   "source": [
    "7. What is the concept of a return value? Is it possible to have a return value in an expression?\n",
    "Ans:\n",
    "    return keyword switches the execution, out of the block/function and passes the value mentioned.\n",
    "    Expression implcitly returns values after execution.\n",
    "    Using return value in expression may be lead to incomplete expression execution."
   ]
  },
  {
   "cell_type": "raw",
   "id": "1f95b368",
   "metadata": {},
   "source": [
    "8. If a function does not have a return statement, what is the return value of a call to that function?\n",
    "Ans: by default function returns None."
   ]
  },
  {
   "cell_type": "raw",
   "id": "d047ce39",
   "metadata": {},
   "source": [
    "9. How do you make a function variable refer to the global variable?\n",
    "Ans: using global keyword eg: global var1"
   ]
  },
  {
   "cell_type": "raw",
   "id": "05c8b636",
   "metadata": {},
   "source": [
    "10. What is the data type of None?\n",
    "Ans:Datatype of None is NoneType"
   ]
  },
  {
   "cell_type": "raw",
   "id": "c55a483f",
   "metadata": {},
   "source": [
    "11. What does the sentence import areallyourpetsnamederic do?\n",
    "Ans: It will import module areallyourpetsnamederic and enable us to utlize functions etc. defined in areallyourpetsnamederic to use in our program"
   ]
  },
  {
   "cell_type": "raw",
   "id": "153a594b",
   "metadata": {},
   "source": [
    "12. If you had a bacon() feature in a spam module, what would you call it after importing spam?\n",
    "Ans: import spam as sp\n",
    "     sp.bacon()\n",
    "    or \n",
    "      from spam import bacon\n",
    "      bacon()\n",
    "    "
   ]
  },
  {
   "cell_type": "raw",
   "id": "2dd8f84b",
   "metadata": {},
   "source": [
    "13. What can you do to save a programme from crashing if it encounters an error?\n",
    "Ans: using try and except. In case any code crashses in try block ,control jumps to respective except block for handling"
   ]
  },
  {
   "cell_type": "raw",
   "id": "5c5f371d",
   "metadata": {},
   "source": [
    "14. What is the purpose of the try clause? What is the purpose of the except clause?\n",
    "Ans: using try and except. In case any code crashses in try block ,control jumps to respective except block for handling"
   ]
  }
 ],
 "metadata": {
  "kernelspec": {
   "display_name": "Python 3",
   "language": "python",
   "name": "python3"
  },
  "language_info": {
   "codemirror_mode": {
    "name": "ipython",
    "version": 3
   },
   "file_extension": ".py",
   "mimetype": "text/x-python",
   "name": "python",
   "nbconvert_exporter": "python",
   "pygments_lexer": "ipython3",
   "version": "3.8.8"
  }
 },
 "nbformat": 4,
 "nbformat_minor": 5
}
