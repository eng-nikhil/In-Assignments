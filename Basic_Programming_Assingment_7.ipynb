{
 "cells": [
  {
   "cell_type": "code",
   "execution_count": 17,
   "id": "d67d66b0",
   "metadata": {},
   "outputs": [
    {
     "name": "stdout",
     "output_type": "stream",
     "text": [
      "10\n"
     ]
    }
   ],
   "source": [
    "#Write a Python Program to find sum of array?\n",
    "import array as ar\n",
    "def arraysum(arr):\n",
    "    sum = 0\n",
    "    for i in range(len(arr)):\n",
    "        sum+=arr[i]\n",
    "    return sum\n",
    "\n",
    "userlist=[1,2,3,4]\n",
    "arr=ar.array('i',userlist)\n",
    "print(arraysum(arr))\n"
   ]
  },
  {
   "cell_type": "code",
   "execution_count": 20,
   "id": "3707e2cd",
   "metadata": {},
   "outputs": [
    {
     "name": "stdout",
     "output_type": "stream",
     "text": [
      "40\n"
     ]
    }
   ],
   "source": [
    "#Write a Python Program to find largest element in an array?\n",
    "def largestElement(arr):\n",
    "    max = arr[0]\n",
    "    for i in range(1,len(arr)):\n",
    "        if arr[i]> max:\n",
    "            max=arr[i]\n",
    "    return max\n",
    "\n",
    "userlist=[1,2,3,40,23,33]\n",
    "arr=ar.array('i',userlist)\n",
    "print(largestElement(arr))      "
   ]
  },
  {
   "cell_type": "code",
   "execution_count": 51,
   "id": "b08bc471",
   "metadata": {},
   "outputs": [
    {
     "name": "stdout",
     "output_type": "stream",
     "text": [
      "Input arr:  array('i', [1, 2, 3, 40, 23, 33])\n",
      "Rotation by 2 :  array('i', [3, 40, 23, 33, 1, 2])\n",
      "Rotation by 3 :  array('i', [40, 23, 33, 1, 2, 3])\n"
     ]
    }
   ],
   "source": [
    "# Write a Python Program for array rotation?\n",
    "\n",
    "def arrrotation(arr,n):\n",
    "    temp=[]\n",
    "    for i in range(n):\n",
    "        temp.append(arr[i])\n",
    "    for i in range(n,len(arr)):\n",
    "        arr[i-n]=arr[i]\n",
    "    for j in range(len(temp)):\n",
    "        arr[i-(n-1)]=temp[j]\n",
    "        i+=1   \n",
    "    return arr\n",
    "userlist=[1,2,3,40,23,33]\n",
    "arr=ar.array('i',userlist)\n",
    "arr1=ar.array('i',userlist)\n",
    "print(\"Input arr: \",arr)\n",
    "print(\"Rotation by 2 : \",arrrotation(arr,2))          \n",
    "print(\"Rotation by 3 : \",arrrotation(arr1,3))   "
   ]
  },
  {
   "cell_type": "code",
   "execution_count": 52,
   "id": "5b95059f",
   "metadata": {},
   "outputs": [
    {
     "name": "stdout",
     "output_type": "stream",
     "text": [
      "Input arr:  array('i', [1, 2, 3, 40, 23, 33])\n",
      "Split from 2nd Element :  array('i', [3, 40, 23, 33, 1, 2])\n",
      "Split from 3rd Element :  array('i', [40, 23, 33, 1, 2, 3])\n"
     ]
    }
   ],
   "source": [
    "#Write a Python Program to Split the array and add the first part to the end?\n",
    "\n",
    "def arrsplit(arr,n):\n",
    "    temp=[]\n",
    "    for i in range(n):\n",
    "        temp.append(arr[i])\n",
    "    for i in range(n,len(arr)):\n",
    "        arr[i-n]=arr[i]\n",
    "    for j in range(len(temp)):\n",
    "        arr[i-(n-1)]=temp[j]\n",
    "        i+=1   \n",
    "    return arr\n",
    "userlist=[1,2,3,40,23,33]\n",
    "arr=ar.array('i',userlist)\n",
    "arr1=ar.array('i',userlist)\n",
    "print(\"Input arr: \",arr)\n",
    "print(\"Split from 2nd Element : \",arrrotation(arr,2))          \n",
    "print(\"Split from 3rd Element : \",arrrotation(arr1,3))\n"
   ]
  },
  {
   "cell_type": "code",
   "execution_count": 71,
   "id": "91d4fb2e",
   "metadata": {},
   "outputs": [
    {
     "name": "stdout",
     "output_type": "stream",
     "text": [
      "Input arr:  array('i', [1, 50, 3, 40, 23, 33])\n",
      "Is array values are monotonic? :  False\n",
      "Input arr:  array('i', [1, 2, 3, 40, 50, 60])\n",
      "Is array values are monotonic? :  True\n"
     ]
    }
   ],
   "source": [
    "#Write a Python Program to check if given array is Monotonic?\n",
    "def isMontonic(arr):\n",
    "    increasing,decreasing=0,0\n",
    "    len_arr= len(arr)\n",
    "    for i in range(len_arr-1):\n",
    "        if arr[i]>=arr[i+1]:            \n",
    "            increasing +=1\n",
    "        if arr[i]<=arr[i+1]:\n",
    "            decreasing+=1\n",
    "    if increasing == len_arr-1 or decreasing == len_arr-1:\n",
    "        return True\n",
    "    else:\n",
    "        return False\n",
    "    \n",
    "userlist1=[1,50,3,40,23,33]\n",
    "userlist2=[1,2,3,40,50,60]\n",
    "arr1=ar.array('i',userlist1)\n",
    "arr2=ar.array('i',userlist2)\n",
    "print(\"Input arr: \",arr1)\n",
    "print(\"Is array values are monotonic? : \",isMontonic(arr1))   \n",
    "print(\"Input arr: \",arr2)\n",
    "print(\"Is array values are monotonic? : \",isMontonic(arr2))      "
   ]
  }
 ],
 "metadata": {
  "kernelspec": {
   "display_name": "Python 3",
   "language": "python",
   "name": "python3"
  },
  "language_info": {
   "codemirror_mode": {
    "name": "ipython",
    "version": 3
   },
   "file_extension": ".py",
   "mimetype": "text/x-python",
   "name": "python",
   "nbconvert_exporter": "python",
   "pygments_lexer": "ipython3",
   "version": "3.8.8"
  }
 },
 "nbformat": 4,
 "nbformat_minor": 5
}
