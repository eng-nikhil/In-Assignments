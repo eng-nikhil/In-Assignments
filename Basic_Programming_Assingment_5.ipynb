{
 "cells": [
  {
   "cell_type": "code",
   "execution_count": 6,
   "id": "75cea6b4",
   "metadata": {},
   "outputs": [
    {
     "name": "stdout",
     "output_type": "stream",
     "text": [
      "Enter First Number:4\n",
      "Enter Second Number: 5\n",
      "20\n"
     ]
    }
   ],
   "source": [
    "#Write a Python Program to Find LCM?\n",
    "\n",
    "def getLCM(num1,num2):\n",
    "    if(num1 > num2 ):   # Use If condition to find the greatest number among these two.\n",
    "        max= num1\n",
    "    else:\n",
    "        max= num2\n",
    "    while(True):\n",
    "        if(max % num1 == 0 and max % num2 == 0):   \n",
    "            print(max)\n",
    "            break;\n",
    "        max= max+ 1\n",
    "\n",
    "num1 = int(input('Enter First Number:'))\n",
    "num2 = int(input('Enter Second Number: '))\n",
    "getLCM(num1,num2)\n"
   ]
  },
  {
   "cell_type": "code",
   "execution_count": 25,
   "id": "daf5ce93",
   "metadata": {
    "scrolled": true
   },
   "outputs": [
    {
     "name": "stdout",
     "output_type": "stream",
     "text": [
      "Enter First Number:200\n",
      "Enter Second Number: 250\n",
      "HCF: 50\n"
     ]
    }
   ],
   "source": [
    "#Write a Python Program to Find HCF?\n",
    "\n",
    "def getHCF(x,y):\n",
    "    if x > y:\n",
    "        x, y = y, x\n",
    "    for i in range(1,x+1):\n",
    "        if x%i == 0 and y%i == 0:\n",
    "            hcf = i\n",
    "    return hcf\n",
    "\n",
    "num1 = int(input('Enter First Number:'))\n",
    "num2 = int(input('Enter Second Number: '))\n",
    "print(\"HCF:\", getHCF(num1,num2))"
   ]
  },
  {
   "cell_type": "code",
   "execution_count": 64,
   "id": "1a4f3428",
   "metadata": {},
   "outputs": [
    {
     "name": "stdout",
     "output_type": "stream",
     "text": [
      "Enter Any Number:456\n",
      "Binary Conversion:  111001000\n",
      "Octal Conversion:  710\n",
      "Hex Conversion:  1C8\n"
     ]
    }
   ],
   "source": [
    "#Write a Python Program to Convert Decimal to Binary, Octal and Hexadecimal?\n",
    "\n",
    "def decToBinary(a):\n",
    "    l=[]\n",
    "    while(a>1):\n",
    "        rem=a%2\n",
    "        l.append(str(rem))\n",
    "        a= a//2\n",
    "    l.append(str(a))\n",
    "    l.reverse()\n",
    "    str1 =''.join(l)\n",
    "    return str1\n",
    "\n",
    "def decToOctal(a):\n",
    "    l=[]\n",
    "    while(a>8):\n",
    "        rem=a%8\n",
    "        l.append(str(rem))\n",
    "        a= a//8\n",
    "    l.append(str(a))\n",
    "    l.reverse()\n",
    "    str1 =''.join(l)\n",
    "    return str1\n",
    "\n",
    "def decToHex(a):\n",
    "    l=[]\n",
    "    while(a>9):\n",
    "        rem=a%16\n",
    "        if rem==10:\n",
    "            rem='A'\n",
    "        elif rem==11:\n",
    "            rem='B'\n",
    "        elif rem==12:\n",
    "            rem='C'\n",
    "        elif rem ==13:\n",
    "            rem='D'\n",
    "        elif rem==14:\n",
    "            rem='E'\n",
    "        elif rem==15:\n",
    "            rem='F'\n",
    "        l.append(str(rem))\n",
    "        a= a//16\n",
    "    l.append(str(a))\n",
    "    l.reverse()\n",
    "    str1 =''.join(l)\n",
    "    return str1\n",
    "\n",
    "num1 = int(input('Enter Any Number:'))\n",
    "print(\"Binary Conversion: \",decToBinary(num1))\n",
    "print(\"Octal Conversion: \",decToOctal(num1))    \n",
    "print(\"Hex Conversion: \",decToHex(num1))      "
   ]
  },
  {
   "cell_type": "code",
   "execution_count": 67,
   "id": "5ef80777",
   "metadata": {},
   "outputs": [
    {
     "name": "stdout",
     "output_type": "stream",
     "text": [
      "Enter Any Character:D\n",
      "Ascii value is:  68\n"
     ]
    }
   ],
   "source": [
    "#Write a Python Program To Find ASCII value of a character?\n",
    "\n",
    "a = input('Enter Any Character:')\n",
    "print('Ascii value is: ',ord(a))"
   ]
  },
  {
   "cell_type": "code",
   "execution_count": 73,
   "id": "e32389b1",
   "metadata": {},
   "outputs": [
    {
     "name": "stdout",
     "output_type": "stream",
     "text": [
      "Select an  Operation to Perform: \n",
      " 1- Addition \n",
      " 2- Subsctraction \n",
      " 3- Multiplication \n",
      " 4- Division\n",
      "3\n",
      "Enter First Operand: 5\n",
      "EnterSecond Operand: 6\n",
      "Output:  30\n"
     ]
    }
   ],
   "source": [
    "#Write a Python Program to Make a Simple Calculator with 4 basic mathematical operations?\n",
    "\n",
    "def calculator(a,b,opearation):\n",
    "    if opearation==1:\n",
    "        return a+b\n",
    "    elif opearation==2:\n",
    "        return a-b\n",
    "    elif opearation==3:\n",
    "        return a*b\n",
    "    elif opearation==4:\n",
    "        return a/b\n",
    "\n",
    "print('Select an  Operation to Perform: \\n 1- Addition \\n 2- Subsctraction \\n 3- Multiplication \\n 4- Division')\n",
    "op=int(input())\n",
    "a=int(input('Enter First Operand: '))\n",
    "b=int(input('EnterSecond Operand: '))\n",
    "print(\"Output: \",calculator(a,b,op))\n",
    "       "
   ]
  }
 ],
 "metadata": {
  "kernelspec": {
   "display_name": "Python 3",
   "language": "python",
   "name": "python3"
  },
  "language_info": {
   "codemirror_mode": {
    "name": "ipython",
    "version": 3
   },
   "file_extension": ".py",
   "mimetype": "text/x-python",
   "name": "python",
   "nbconvert_exporter": "python",
   "pygments_lexer": "ipython3",
   "version": "3.8.8"
  }
 },
 "nbformat": 4,
 "nbformat_minor": 5
}
