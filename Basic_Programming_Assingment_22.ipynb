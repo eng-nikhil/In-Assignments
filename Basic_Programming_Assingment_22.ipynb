{
 "cells": [
  {
   "cell_type": "code",
   "execution_count": 2,
   "id": "83caf9cc",
   "metadata": {},
   "outputs": [
    {
     "name": "stdout",
     "output_type": "stream",
     "text": [
      "[3, 6, 9]\n",
      "[8]\n",
      "[]\n"
     ]
    }
   ],
   "source": [
    "# Question1\n",
    "# Create a function that takes three parameters where:\n",
    "# •\tx is the start of the range (inclusive).\n",
    "# •\ty is the end of the range (inclusive).\n",
    "# •\tn is the divisor to be checked against.\n",
    "# Return an ordered list with numbers in the range that are divisible by the third parameter n. Return an empty list if there are no numbers that are divisible by n.\n",
    "# Examples\n",
    "# list_operation(1, 10, 3) ➞ [3, 6, 9]\n",
    "\n",
    "# list_operation(7, 9, 2) ➞ [8]\n",
    "\n",
    "# list_operation(15, 20, 7) ➞ []\n",
    "\n",
    "def list_operation(min,max,div):\n",
    "    return [x for x in range(min,max) if x%div==0]\n",
    "\n",
    "print(list_operation(1, 10, 3))\n",
    "print(list_operation(7, 9, 2))\n",
    "print(list_operation(15, 20, 7))"
   ]
  },
  {
   "cell_type": "code",
   "execution_count": 5,
   "id": "1abe4fe9",
   "metadata": {},
   "outputs": [
    {
     "name": "stdout",
     "output_type": "stream",
     "text": [
      "True\n",
      "False\n",
      "True\n",
      "False\n"
     ]
    }
   ],
   "source": [
    "# Question2\n",
    "# Create a function that takes in two lists and returns True if the second list follows the first list by one element, and False otherwise. In other words, determine if the second list is the first list shifted to the right by 1.\n",
    "# Examples\n",
    "# simon_says([1, 2], [5, 1]) ➞ True\n",
    "# simon_says([1, 2], [5, 5]) ➞ False\n",
    "# simon_says([1, 2, 3, 4, 5], [0, 1, 2, 3, 4]) ➞ True\n",
    "# simon_says([1, 2, 3, 4, 5], [5, 5, 1, 2, 3]) ➞ False\n",
    "# Notes\n",
    "# •\tBoth input lists will be of the same length, and will have a minimum length of 2.\n",
    "# •\tThe values of the 0-indexed element in the second list and the n-1th indexed element in the first list do not matter.\n",
    "\n",
    "def simon_says(lst1,lst2):\n",
    "    for i in range(len(lst1)-1):\n",
    "        if lst1[i]!=lst2[i+1]:\n",
    "            return False\n",
    "    return True\n",
    "\n",
    "print(simon_says([1, 2], [5, 1]))\n",
    "print(simon_says([1, 2], [5, 5]))\n",
    "print(simon_says([1, 2, 3, 4, 5], [0, 1, 2, 3, 4]))\n",
    "print(simon_says([1, 2, 3, 4, 5], [5, 5, 1, 2, 3]))"
   ]
  },
  {
   "cell_type": "code",
   "execution_count": 15,
   "id": "c47c6619",
   "metadata": {},
   "outputs": [
    {
     "name": "stdout",
     "output_type": "stream",
     "text": [
      "AMS\n",
      "CHLN\n",
      "CJMPRR\n"
     ]
    }
   ],
   "source": [
    "# Question3\n",
    "# A group of friends have decided to start a secret society. The name will be the first letter of each of their names, sorted in alphabetical order.\n",
    "# Create a function that takes in a list of names and returns the name of the secret society.\n",
    "# Examples\n",
    "# society_name([\"Adam\", \"Sarah\", \"Malcolm\"]) ➞ \"AMS\"\n",
    "# society_name([\"Harry\", \"Newt\", \"Luna\", \"Cho\"]) ➞ \"CHLN\"\n",
    "# society_name([\"Phoebe\", \"Chandler\", \"Rachel\", \"Ross\", \"Monica\", \"Joey\"])\n",
    "\n",
    "def society_name(lst):\n",
    "    return ''.join(sorted([x[0] for x in lst]))\n",
    "print(society_name([\"Adam\", \"Sarah\", \"Malcolm\"]))\n",
    "print(society_name([\"Harry\", \"Newt\", \"Luna\", \"Cho\"]))\n",
    "print(society_name([\"Phoebe\", \"Chandler\", \"Rachel\", \"Ross\", \"Monica\", \"Joey\"]))"
   ]
  },
  {
   "cell_type": "code",
   "execution_count": 26,
   "id": "d9f6b4ce",
   "metadata": {},
   "outputs": [
    {
     "name": "stdout",
     "output_type": "stream",
     "text": [
      "True\n",
      "False\n",
      "False\n"
     ]
    }
   ],
   "source": [
    "# Question4\n",
    "# An isogram is a word that has no duplicate letters. Create a function that takes a string and returns either True or False depending on whether or not it's an \"isogram\".\n",
    "# Examples\n",
    "# is_isogram(\"Algorism\") ➞ True\n",
    "# is_isogram(\"PasSword\") ➞ False\n",
    "# # Not case sensitive.\n",
    "# is_isogram(\"Consecutive\") ➞ False\n",
    "# Notes\n",
    "# •\tIgnore letter case (should not be case sensitive).\n",
    "# •\tAll test cases contain valid one word strings.\n",
    "\n",
    "def is_isogram(str):\n",
    "    lst=[]\n",
    "    lst[:]=str.lower()\n",
    "    if len(lst)==len(set(lst)):\n",
    "        return True\n",
    "    return False\n",
    "print(is_isogram(\"Algorism\"))\n",
    "print(is_isogram(\"PasSword\"))\n",
    "print(is_isogram(\"Consecutive\") )\n"
   ]
  },
  {
   "cell_type": "code",
   "execution_count": 29,
   "id": "8b60bb97",
   "metadata": {},
   "outputs": [
    {
     "name": "stdout",
     "output_type": "stream",
     "text": [
      "True\n",
      "False\n",
      "True\n",
      "True\n"
     ]
    }
   ],
   "source": [
    "# Question5\n",
    "# Create a function that takes a string and returns True or False, depending on whether the characters are in order or not.\n",
    "# Examples\n",
    "# is_in_order(\"abc\") ➞ True\n",
    "# is_in_order(\"edabit\") ➞ False\n",
    "# is_in_order(\"123\") ➞ True\n",
    "# is_in_order(\"xyzz\") ➞ True\n",
    "# Notes\n",
    "# You don't have to handle empty strings.\n",
    "def is_in_order(str):\n",
    "    prev_ord=ord(str[0])\n",
    "    for i in str:\n",
    "        if ord(i)==prev_ord or ord(i)>prev_ord:\n",
    "            prev_ord=ord(i)\n",
    "        else:\n",
    "            return False\n",
    "    return True   \n",
    "print(is_in_order(\"abc\"))\n",
    "print(is_in_order(\"edabit\"))\n",
    "print(is_in_order(\"123\"))\n",
    "print(is_in_order(\"xyzz\"))        "
   ]
  }
 ],
 "metadata": {
  "kernelspec": {
   "display_name": "Python 3",
   "language": "python",
   "name": "python3"
  },
  "language_info": {
   "codemirror_mode": {
    "name": "ipython",
    "version": 3
   },
   "file_extension": ".py",
   "mimetype": "text/x-python",
   "name": "python",
   "nbconvert_exporter": "python",
   "pygments_lexer": "ipython3",
   "version": "3.8.8"
  }
 },
 "nbformat": 4,
 "nbformat_minor": 5
}
