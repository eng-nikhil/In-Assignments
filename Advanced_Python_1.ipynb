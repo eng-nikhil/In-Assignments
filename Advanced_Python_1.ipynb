{
 "cells": [
  {
   "cell_type": "raw",
   "id": "dae65cda",
   "metadata": {},
   "source": [
    "Q1. What is the purpose of Python's OOP?\n",
    "Ans: OOPs provide encapsulation, inheritence, abstraction,reusability features.\n",
    "\n",
    "\n",
    "Q2. Where does an inheritance search look for an attribute?\n",
    "Ans: It looks for attributes in Parent class\n",
    "\n",
    "\n",
    "\n",
    "Q3. How do you distinguish between a class object and an instance object?\n",
    "Ans: Class is like bluepriting/prototype and Instance object is like actual implementation of prototype.\n",
    "\n",
    "\n",
    "Q4. What makes the first argument in a class’s method function special?\n",
    "Ans: A variable pointing to current object of the class generally self is used to represent this.\n",
    "\n",
    "\n",
    "\n",
    "Q5. What is the purpose of the __init__ method?\n",
    "Ans: Constuctor:On object creation __init__ method is called implicitly , generally used to intialise/set values of class attriutes.\n",
    "\n",
    "\n",
    "Q6. What is the process for creating a class instance?\n",
    "Ans:obj=class_name()  , obj is instance of class class_name \n",
    "\n",
    "\n",
    "Q7. What is the process for creating a class?\n",
    "Ans: class <Class_name>:\n",
    "        \n",
    "Q8. How would you define the superclasses of a class?\n",
    "Ans: class Parent:pass\n",
    "     class Child1(Parent):pass\n",
    "     class Child2(Parent):pass       \n",
    "\n",
    "    Parent class is superclass or parent class"
   ]
  }
 ],
 "metadata": {
  "kernelspec": {
   "display_name": "Python 3",
   "language": "python",
   "name": "python3"
  },
  "language_info": {
   "codemirror_mode": {
    "name": "ipython",
    "version": 3
   },
   "file_extension": ".py",
   "mimetype": "text/x-python",
   "name": "python",
   "nbconvert_exporter": "python",
   "pygments_lexer": "ipython3",
   "version": "3.8.8"
  }
 },
 "nbformat": 4,
 "nbformat_minor": 5
}
